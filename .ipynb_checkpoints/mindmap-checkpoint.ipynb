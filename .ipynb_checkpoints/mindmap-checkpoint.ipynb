{
 "cells": [
  {
   "cell_type": "code",
   "execution_count": 1,
   "metadata": {
    "collapsed": false
   },
   "outputs": [
    {
     "name": "stdout",
     "output_type": "stream",
     "text": [
      "Couldn't import dot_parser, loading of dot files will not be possible.\n"
     ]
    }
   ],
   "source": [
    "import networkx as nx\n",
    "import pandas as pd\n",
    "import matplotlib.pyplot as plt\n",
    "import numpy as np"
   ]
  },
  {
   "cell_type": "code",
   "execution_count": 2,
   "metadata": {
    "collapsed": false
   },
   "outputs": [],
   "source": [
    "raw_data = pd.io.excel.read_excel('SzarugaMindMap_Draft_v2.xlsx',parse_cols='A:D')"
   ]
  },
  {
   "cell_type": "code",
   "execution_count": 3,
   "metadata": {
    "collapsed": false
   },
   "outputs": [
    {
     "data": {
      "text/html": [
       "<div style=\"max-height:1000px;max-width:1500px;overflow:auto;\">\n",
       "<table border=\"1\" class=\"dataframe\">\n",
       "  <thead>\n",
       "    <tr style=\"text-align: right;\">\n",
       "      <th></th>\n",
       "      <th>Source/Subject</th>\n",
       "      <th>Predicate</th>\n",
       "      <th>Target/Object</th>\n",
       "      <th>Weight (1-10)</th>\n",
       "    </tr>\n",
       "  </thead>\n",
       "  <tbody>\n",
       "    <tr>\n",
       "      <th>0</th>\n",
       "      <td>      Steve Szaruga</td>\n",
       "      <td>      Knows</td>\n",
       "      <td> Hypersonic Weapons</td>\n",
       "      <td> 9</td>\n",
       "    </tr>\n",
       "    <tr>\n",
       "      <th>1</th>\n",
       "      <td>      Steve Szaruga</td>\n",
       "      <td> Belongs In</td>\n",
       "      <td>            AFRL/RX</td>\n",
       "      <td> 9</td>\n",
       "    </tr>\n",
       "    <tr>\n",
       "      <th>2</th>\n",
       "      <td> Hypersonic Weapons</td>\n",
       "      <td>   Involves</td>\n",
       "      <td>             Metals</td>\n",
       "      <td> 9</td>\n",
       "    </tr>\n",
       "    <tr>\n",
       "      <th>3</th>\n",
       "      <td> Hypersonic Weapons</td>\n",
       "      <td>   Involves</td>\n",
       "      <td>        Soft Matter</td>\n",
       "      <td> 1</td>\n",
       "    </tr>\n",
       "    <tr>\n",
       "      <th>4</th>\n",
       "      <td> Hypersonic Weapons</td>\n",
       "      <td>   Involves</td>\n",
       "      <td>           Ceramics</td>\n",
       "      <td> 5</td>\n",
       "    </tr>\n",
       "  </tbody>\n",
       "</table>\n",
       "</div>"
      ],
      "text/plain": [
       "       Source/Subject   Predicate       Target/Object  Weight (1-10)\n",
       "0       Steve Szaruga       Knows  Hypersonic Weapons              9\n",
       "1       Steve Szaruga  Belongs In             AFRL/RX              9\n",
       "2  Hypersonic Weapons    Involves              Metals              9\n",
       "3  Hypersonic Weapons    Involves         Soft Matter              1\n",
       "4  Hypersonic Weapons    Involves            Ceramics              5"
      ]
     },
     "execution_count": 3,
     "metadata": {},
     "output_type": "execute_result"
    }
   ],
   "source": [
    "raw_data.head()"
   ]
  },
  {
   "cell_type": "code",
   "execution_count": 4,
   "metadata": {
    "collapsed": false
   },
   "outputs": [
    {
     "name": "stdout",
     "output_type": "stream",
     "text": [
      "True\n",
      "True\n"
     ]
    }
   ],
   "source": [
    "#boolean checks for whether a string is in a column\n",
    "print sum(raw_data['Source/Subject'].str.contains('Steve Szaruga'))>0\n",
    "print 'Steve Szaruga' in raw_data['Source/Subject'].values "
   ]
  },
  {
   "cell_type": "code",
   "execution_count": 5,
   "metadata": {
    "collapsed": false
   },
   "outputs": [],
   "source": [
    "ontology = pd.io.excel.read_excel('SzarugaMindMap_Draft_v2.xlsx',parse_cols='F:J',skiprows=2)"
   ]
  },
  {
   "cell_type": "code",
   "execution_count": 6,
   "metadata": {
    "collapsed": false
   },
   "outputs": [
    {
     "data": {
      "text/html": [
       "<div style=\"max-height:1000px;max-width:1500px;overflow:auto;\">\n",
       "<table border=\"1\" class=\"dataframe\">\n",
       "  <thead>\n",
       "    <tr style=\"text-align: right;\">\n",
       "      <th></th>\n",
       "      <th>Discliplines</th>\n",
       "      <th>RX Function</th>\n",
       "      <th>RXM Roadmap</th>\n",
       "      <th>Contact</th>\n",
       "      <th>Predicates</th>\n",
       "    </tr>\n",
       "  </thead>\n",
       "  <tbody>\n",
       "    <tr>\n",
       "      <th>0 </th>\n",
       "      <td>     Hypersonic Weapons</td>\n",
       "      <td>           Metals</td>\n",
       "      <td>     Manufacturing Research</td>\n",
       "      <td>         DARPA</td>\n",
       "      <td>         Knows</td>\n",
       "    </tr>\n",
       "    <tr>\n",
       "      <th>1 </th>\n",
       "      <td> Additive Manufacturing</td>\n",
       "      <td>      Soft Matter</td>\n",
       "      <td>                 Structures</td>\n",
       "      <td>  Andy Swanson</td>\n",
       "      <td>    Belongs In</td>\n",
       "    </tr>\n",
       "    <tr>\n",
       "      <th>2 </th>\n",
       "      <td>      Aircraft Coatings</td>\n",
       "      <td>         Ceramics</td>\n",
       "      <td> Propulsion-Turbine Engines</td>\n",
       "      <td>  Ken Davidson</td>\n",
       "      <td>      Involves</td>\n",
       "    </tr>\n",
       "    <tr>\n",
       "      <th>3 </th>\n",
       "      <td>              Stats/DOE</td>\n",
       "      <td>       Composites</td>\n",
       "      <td>              Air Armaments</td>\n",
       "      <td> Mary Kinsella</td>\n",
       "      <td> Is Studied By</td>\n",
       "    </tr>\n",
       "    <tr>\n",
       "      <th>4 </th>\n",
       "      <td>              Airframes</td>\n",
       "      <td>             Data</td>\n",
       "      <td>                Sustainment</td>\n",
       "      <td>            RX</td>\n",
       "      <td>           NaN</td>\n",
       "    </tr>\n",
       "    <tr>\n",
       "      <th>5 </th>\n",
       "      <td>                    NaN</td>\n",
       "      <td>  Process Control</td>\n",
       "      <td>                    LOM/LOA</td>\n",
       "      <td>            RW</td>\n",
       "      <td>           NaN</td>\n",
       "    </tr>\n",
       "    <tr>\n",
       "      <th>6 </th>\n",
       "      <td>                    NaN</td>\n",
       "      <td>       Simulation</td>\n",
       "      <td>         C4ISR H/W-Aircraft</td>\n",
       "      <td>            RQ</td>\n",
       "      <td>           NaN</td>\n",
       "    </tr>\n",
       "    <tr>\n",
       "      <th>7 </th>\n",
       "      <td>                    NaN</td>\n",
       "      <td>       Inspection</td>\n",
       "      <td>            C4ISR H/W-Space</td>\n",
       "      <td>           NaN</td>\n",
       "      <td>           NaN</td>\n",
       "    </tr>\n",
       "    <tr>\n",
       "      <th>8 </th>\n",
       "      <td>                    NaN</td>\n",
       "      <td> Electronic Matls</td>\n",
       "      <td>                        NaN</td>\n",
       "      <td>           NaN</td>\n",
       "      <td>           NaN</td>\n",
       "    </tr>\n",
       "    <tr>\n",
       "      <th>9 </th>\n",
       "      <td>                    NaN</td>\n",
       "      <td>   Photonic Matls</td>\n",
       "      <td>                        NaN</td>\n",
       "      <td>           NaN</td>\n",
       "      <td>           NaN</td>\n",
       "    </tr>\n",
       "    <tr>\n",
       "      <th>10</th>\n",
       "      <td>                    NaN</td>\n",
       "      <td>              NaN</td>\n",
       "      <td>                        NaN</td>\n",
       "      <td>           NaN</td>\n",
       "      <td>           NaN</td>\n",
       "    </tr>\n",
       "    <tr>\n",
       "      <th>11</th>\n",
       "      <td>                    NaN</td>\n",
       "      <td>              NaN</td>\n",
       "      <td>                        NaN</td>\n",
       "      <td>           NaN</td>\n",
       "      <td>           NaN</td>\n",
       "    </tr>\n",
       "  </tbody>\n",
       "</table>\n",
       "</div>"
      ],
      "text/plain": [
       "              Discliplines       RX Function                 RXM Roadmap  \\\n",
       "0       Hypersonic Weapons            Metals      Manufacturing Research   \n",
       "1   Additive Manufacturing       Soft Matter                  Structures   \n",
       "2        Aircraft Coatings          Ceramics  Propulsion-Turbine Engines   \n",
       "3                Stats/DOE        Composites               Air Armaments   \n",
       "4                Airframes              Data                 Sustainment   \n",
       "5                      NaN   Process Control                     LOM/LOA   \n",
       "6                      NaN        Simulation          C4ISR H/W-Aircraft   \n",
       "7                      NaN        Inspection             C4ISR H/W-Space   \n",
       "8                      NaN  Electronic Matls                         NaN   \n",
       "9                      NaN    Photonic Matls                         NaN   \n",
       "10                     NaN               NaN                         NaN   \n",
       "11                     NaN               NaN                         NaN   \n",
       "\n",
       "          Contact     Predicates  \n",
       "0           DARPA          Knows  \n",
       "1    Andy Swanson     Belongs In  \n",
       "2    Ken Davidson       Involves  \n",
       "3   Mary Kinsella  Is Studied By  \n",
       "4              RX            NaN  \n",
       "5              RW            NaN  \n",
       "6              RQ            NaN  \n",
       "7             NaN            NaN  \n",
       "8             NaN            NaN  \n",
       "9             NaN            NaN  \n",
       "10            NaN            NaN  \n",
       "11            NaN            NaN  "
      ]
     },
     "execution_count": 6,
     "metadata": {},
     "output_type": "execute_result"
    }
   ],
   "source": [
    "ontology[:12] #appear to be only 30 unique terms in the ontology, 38 are in the raw_data"
   ]
  },
  {
   "cell_type": "code",
   "execution_count": 7,
   "metadata": {
    "collapsed": false
   },
   "outputs": [
    {
     "data": {
      "text/plain": [
       "Index([u'Discliplines', u'RX Function', u'RXM Roadmap', u'Contact', u'Predicates'], dtype='object')"
      ]
     },
     "execution_count": 7,
     "metadata": {},
     "output_type": "execute_result"
    }
   ],
   "source": [
    "ontology.keys()"
   ]
  },
  {
   "cell_type": "code",
   "execution_count": 8,
   "metadata": {
    "collapsed": false
   },
   "outputs": [],
   "source": [
    "#create a set of nodes named in Ontology list\n",
    "from sets import Set\n",
    "ont_set = Set()\n",
    "for col in ontology.ix[:,:4]:\n",
    "    col_set = Set(ontology[col].dropna().unique())\n",
    "    ont_set.union_update(  col_set )"
   ]
  },
  {
   "cell_type": "code",
   "execution_count": 9,
   "metadata": {
    "collapsed": false
   },
   "outputs": [
    {
     "data": {
      "text/plain": [
       "(Set([u'Soft Matter', u'Manufacturing Research', u'Andy Swanson', u'DARPA', u'Simulation', u'Sustainment', u'RW', u'Additive Manufacturing', u'Mary Kinsella', u'Hypersonic Weapons', u'Ken Davidson', u'Composites', u'Inspection', u'Photonic Matls', u'LOM/LOA', u'RQ', u'Stats/DOE', u'Air Armaments', u'Aircraft Coatings', u'Propulsion-Turbine Engines', u'Structures', u'RX', u'Metals', u'C4ISR H/W-Space', u'Electronic Matls', u'C4ISR H/W-Aircraft', u'Process Control', u'Airframes', u'Data', u'Ceramics']),\n",
       " 30)"
      ]
     },
     "execution_count": 9,
     "metadata": {},
     "output_type": "execute_result"
    }
   ],
   "source": [
    "ont_set,len(ont_set)"
   ]
  },
  {
   "cell_type": "code",
   "execution_count": 10,
   "metadata": {
    "collapsed": true
   },
   "outputs": [],
   "source": [
    "#convert ontology from a pandas dataframe (table) to a key:value pair dictionary. \n",
    "#the key is the category, the value is the list of valid terms in that category\n",
    "ontology = {key:ontology[key].dropna() for key in ontology.keys() }"
   ]
  },
  {
   "cell_type": "code",
   "execution_count": 11,
   "metadata": {
    "collapsed": false,
    "scrolled": true
   },
   "outputs": [
    {
     "data": {
      "text/plain": [
       "{u'Contact': 0            DARPA\n",
       " 1     Andy Swanson\n",
       " 2     Ken Davidson\n",
       " 3    Mary Kinsella\n",
       " 4               RX\n",
       " 5               RW\n",
       " 6               RQ\n",
       " Name: Contact, dtype: object, u'Discliplines': 0        Hypersonic Weapons\n",
       " 1    Additive Manufacturing\n",
       " 2         Aircraft Coatings\n",
       " 3                 Stats/DOE\n",
       " 4                 Airframes\n",
       " Name: Discliplines, dtype: object, u'Predicates': 0            Knows\n",
       " 1       Belongs In\n",
       " 2         Involves\n",
       " 3    Is Studied By\n",
       " Name: Predicates, dtype: object, u'RX Function': 0              Metals\n",
       " 1         Soft Matter\n",
       " 2            Ceramics\n",
       " 3          Composites\n",
       " 4                Data\n",
       " 5     Process Control\n",
       " 6          Simulation\n",
       " 7          Inspection\n",
       " 8    Electronic Matls\n",
       " 9      Photonic Matls\n",
       " Name: RX Function, dtype: object, u'RXM Roadmap': 0        Manufacturing Research\n",
       " 1                    Structures\n",
       " 2    Propulsion-Turbine Engines\n",
       " 3                 Air Armaments\n",
       " 4                   Sustainment\n",
       " 5                       LOM/LOA\n",
       " 6            C4ISR H/W-Aircraft\n",
       " 7               C4ISR H/W-Space\n",
       " Name: RXM Roadmap, dtype: object}"
      ]
     },
     "execution_count": 11,
     "metadata": {},
     "output_type": "execute_result"
    }
   ],
   "source": [
    "ontology"
   ]
  },
  {
   "cell_type": "code",
   "execution_count": 12,
   "metadata": {
    "collapsed": false
   },
   "outputs": [
    {
     "data": {
      "text/plain": [
       "(38,)"
      ]
     },
     "execution_count": 12,
     "metadata": {},
     "output_type": "execute_result"
    }
   ],
   "source": [
    "#create a list of unique nodes\n",
    "subject_nodes=raw_data['Source/Subject']\n",
    "target_nodes = raw_data['Target/Object']\n",
    "#combine the two nodes types and remove duplicates\n",
    "nodes = subject_nodes.append(target_nodes).drop_duplicates()\n",
    "#find out how many unique nodes will be added to the graph\n",
    "nodes.shape"
   ]
  },
  {
   "cell_type": "code",
   "execution_count": 13,
   "metadata": {
    "collapsed": false
   },
   "outputs": [
    {
     "data": {
      "text/plain": [
       "0                   Steve Szaruga\n",
       "2              Hypersonic Weapons\n",
       "13         Additive Manufacturing\n",
       "28                   Andy Swanson\n",
       "36                  Mary Kinsella\n",
       "48                     Structures\n",
       "73         Manufacturing Research\n",
       "74     Propulsion-Turbine Engines\n",
       "75                  Air Armaments\n",
       "76                    Sustainment\n",
       "77                        LOM/LOA\n",
       "78             C4ISR H/W-Aircraft\n",
       "79                C4ISR H/W-Space\n",
       "151                  Ken Davidson\n",
       "171                Kermit Stearns\n",
       "191             Aircraft Coatings\n",
       "202                     Stats/DOE\n",
       "212                        Metals\n",
       "213                   Soft Matter\n",
       "214                      Ceramics\n",
       "215                    Composites\n",
       "216                          Data\n",
       "217               Process Control\n",
       "218                    Simulation\n",
       "219                    Inspection\n",
       "220              Electronic Matls\n",
       "221                Photonic Matls\n",
       "256                     Airframes\n",
       "1                         AFRL/RX\n",
       "23                             RX\n",
       "24                             RQ\n",
       "25                       Industry\n",
       "26                          DARPA\n",
       "31             Thermal Protection\n",
       "32                     Insulation\n",
       "33                       Nose Tip\n",
       "34                   Leading Edge\n",
       "222                            RW\n",
       "dtype: object"
      ]
     },
     "execution_count": 13,
     "metadata": {},
     "output_type": "execute_result"
    }
   ],
   "source": [
    "nodes"
   ]
  },
  {
   "cell_type": "code",
   "execution_count": 14,
   "metadata": {
    "collapsed": false
   },
   "outputs": [],
   "source": [
    "#create new NetworkX directed graph\n",
    "g=nx.Graph()\n",
    "\n",
    "#add all nodes to graph\n",
    "for node in nodes:\n",
    "    g.add_node(node)\n",
    "    \n",
    "#iterate through edges and add those\n",
    "for index, row in raw_data.iterrows():\n",
    "    g.add_edge(row['Source/Subject'],\n",
    "               row['Target/Object'],\n",
    "               key= row['Predicate'],\n",
    "               weight = row['Weight (1-10)'])"
   ]
  },
  {
   "cell_type": "code",
   "execution_count": 15,
   "metadata": {
    "collapsed": false
   },
   "outputs": [
    {
     "data": {
      "text/plain": [
       "{u'AFRL/RX',\n",
       " u'Industry',\n",
       " u'Insulation',\n",
       " u'Kermit Stearns',\n",
       " u'Leading Edge',\n",
       " u'Nose Tip',\n",
       " u'Steve Szaruga',\n",
       " u'Thermal Protection'}"
      ]
     },
     "execution_count": 15,
     "metadata": {},
     "output_type": "execute_result"
    }
   ],
   "source": [
    "#these are the nodes that are in the raw data that are not in the ontology\n",
    "set(g.node.keys()).difference(ont_set)"
   ]
  },
  {
   "cell_type": "code",
   "execution_count": 16,
   "metadata": {
    "collapsed": false
   },
   "outputs": [],
   "source": [
    "nx.draw_circular(g,with_labels=True,);plt.show()"
   ]
  },
  {
   "cell_type": "code",
   "execution_count": 18,
   "metadata": {
    "collapsed": false
   },
   "outputs": [
    {
     "data": {
      "text/plain": [
       "([u'Steve Szaruga',\n",
       "  u'Soft Matter',\n",
       "  u'Additive Manufacturing',\n",
       "  u'Mary Kinsella',\n",
       "  u'Hypersonic Weapons',\n",
       "  u'Ken Davidson',\n",
       "  u'Kermit Stearns',\n",
       "  u'Air Armaments',\n",
       "  u'RQ',\n",
       "  u'Structures',\n",
       "  u'RX',\n",
       "  u'C4ISR H/W-Space',\n",
       "  u'C4ISR H/W-Aircraft',\n",
       "  u'Thermal Protection',\n",
       "  u'Airframes',\n",
       "  u'Data',\n",
       "  u'Ceramics',\n",
       "  u'Leading Edge',\n",
       "  u'Industry',\n",
       "  u'Process Control',\n",
       "  u'Andy Swanson',\n",
       "  u'Simulation',\n",
       "  u'Sustainment',\n",
       "  u'RW',\n",
       "  u'Composites',\n",
       "  u'Inspection',\n",
       "  u'Photonic Matls',\n",
       "  u'LOM/LOA',\n",
       "  u'Stats/DOE',\n",
       "  u'Aircraft Coatings',\n",
       "  u'Propulsion-Turbine Engines',\n",
       "  u'AFRL/RX',\n",
       "  u'Metals',\n",
       "  u'DARPA',\n",
       "  u'Nose Tip',\n",
       "  u'Electronic Matls',\n",
       "  u'Manufacturing Research',\n",
       "  u'Insulation'],\n",
       " 38)"
      ]
     },
     "execution_count": 18,
     "metadata": {},
     "output_type": "execute_result"
    }
   ],
   "source": [
    "#list all nodes in the adjacency list, and total number\n",
    "g.adj.keys(), len(g.adj.keys())"
   ]
  },
  {
   "cell_type": "code",
   "execution_count": 19,
   "metadata": {
    "collapsed": false
   },
   "outputs": [
    {
     "data": {
      "text/plain": [
       "{u'AFRL/RX': {'key': u'Belongs In', 'weight': 9},\n",
       " u'Additive Manufacturing': {'key': u'Knows', 'weight': 9},\n",
       " u'Air Armaments': {'key': u'Knows', 'weight': 1},\n",
       " u'Aircraft Coatings': {'key': u'Knows', 'weight': 9},\n",
       " u'Airframes': {'key': u'Knows', 'weight': 9},\n",
       " u'Andy Swanson': {'key': u'Knows', 'weight': 5},\n",
       " u'C4ISR H/W-Aircraft': {'key': u'Knows', 'weight': 1},\n",
       " u'C4ISR H/W-Space': {'key': u'Knows', 'weight': 1},\n",
       " u'Ceramics': {'key': u'Knows', 'weight': 5},\n",
       " u'Composites': {'key': u'Knows', 'weight': 9},\n",
       " u'Data': {'key': u'Knows', 'weight': 1},\n",
       " u'Electronic Matls': {'key': u'Knows', 'weight': 5},\n",
       " u'Hypersonic Weapons': {'key': u'Knows', 'weight': 9},\n",
       " u'Inspection': {'key': u'Knows', 'weight': 9},\n",
       " u'Ken Davidson': {'key': u'Knows', 'weight': 9},\n",
       " u'Kermit Stearns': {'key': u'Knows', 'weight': 9},\n",
       " u'LOM/LOA': {'key': u'Knows', 'weight': 9},\n",
       " u'Manufacturing Research': {'key': u'Knows', 'weight': 5},\n",
       " u'Mary Kinsella': {'key': u'Knows', 'weight': 9},\n",
       " u'Metals': {'key': u'Knows', 'weight': 5},\n",
       " u'Photonic Matls': {'key': u'Knows', 'weight': 1},\n",
       " u'Process Control': {'key': u'Knows', 'weight': 5},\n",
       " u'Propulsion-Turbine Engines': {'key': u'Knows', 'weight': 5},\n",
       " u'Simulation': {'key': u'Knows', 'weight': 9},\n",
       " u'Soft Matter': {'key': u'Knows', 'weight': 5},\n",
       " u'Stats/DOE': {'key': u'Knows', 'weight': 9},\n",
       " u'Sustainment': {'key': u'Knows', 'weight': 5}}"
      ]
     },
     "execution_count": 19,
     "metadata": {},
     "output_type": "execute_result"
    }
   ],
   "source": [
    "#graphs are stored in an adjancey list\n",
    "g.adj[g.adj.keys()[0]]"
   ]
  },
  {
   "cell_type": "code",
   "execution_count": 20,
   "metadata": {
    "collapsed": false
   },
   "outputs": [
    {
     "data": {
      "text/plain": [
       "{u'Ceramics': {'key': u'Belongs In', 'weight': 1},\n",
       " u'Composites': {'key': u'Belongs In', 'weight': 5},\n",
       " u'DARPA': {'key': u'Is Studied By', 'weight': 5},\n",
       " u'Data': {'key': u'Belongs In', 'weight': 9},\n",
       " u'Electronic Matls': {'key': u'Belongs In', 'weight': 5},\n",
       " u'Industry': {'key': u'Is Studied By', 'weight': 9},\n",
       " u'Inspection': {'key': u'Belongs In', 'weight': 5},\n",
       " u'Mary Kinsella': {'key': u'Knows', 'weight': 9},\n",
       " u'Metals': {'key': u'Belongs In', 'weight': 9},\n",
       " u'Photonic Matls': {'key': u'Belongs In', 'weight': 1},\n",
       " u'Process Control': {'key': u'Belongs In', 'weight': 5},\n",
       " u'RQ': {'key': u'Is Studied By', 'weight': 1},\n",
       " u'RW': {'key': u'Is Studied By', 'weight': 1},\n",
       " u'RX': {'key': u'Is Studied By', 'weight': 9},\n",
       " u'Simulation': {'key': u'Belongs In', 'weight': 5},\n",
       " u'Soft Matter': {'key': u'Belongs In', 'weight': 9},\n",
       " u'Steve Szaruga': {'key': u'Knows', 'weight': 9}}"
      ]
     },
     "execution_count": 20,
     "metadata": {},
     "output_type": "execute_result"
    }
   ],
   "source": [
    "g.adj['Additive Manufacturing']"
   ]
  },
  {
   "cell_type": "code",
   "execution_count": 21,
   "metadata": {
    "collapsed": false
   },
   "outputs": [
    {
     "data": {
      "text/plain": [
       "(276, 38, 0)"
      ]
     },
     "execution_count": 21,
     "metadata": {},
     "output_type": "execute_result"
    }
   ],
   "source": [
    "g.number_of_edges(),g.number_of_nodes(),g.number_of_selfloops()"
   ]
  },
  {
   "cell_type": "code",
   "execution_count": 22,
   "metadata": {
    "collapsed": false
   },
   "outputs": [
    {
     "data": {
      "text/plain": [
       "{'key': u'Knows', 'weight': 9}"
      ]
     },
     "execution_count": 22,
     "metadata": {},
     "output_type": "execute_result"
    }
   ],
   "source": [
    "g['Steve Szaruga']['Additive Manufacturing']"
   ]
  },
  {
   "cell_type": "code",
   "execution_count": 23,
   "metadata": {
    "collapsed": false
   },
   "outputs": [],
   "source": [
    "g.node['Steve Szaruga']['Label']=set()"
   ]
  },
  {
   "cell_type": "code",
   "execution_count": 24,
   "metadata": {
    "collapsed": false
   },
   "outputs": [
    {
     "data": {
      "text/plain": [
       "{'Label': set()}"
      ]
     },
     "execution_count": 24,
     "metadata": {},
     "output_type": "execute_result"
    }
   ],
   "source": [
    "g.node['Steve Szaruga']"
   ]
  },
  {
   "cell_type": "code",
   "execution_count": 25,
   "metadata": {
    "collapsed": true
   },
   "outputs": [],
   "source": [
    "g.node['Steve Szaruga']['Label'].add('Person')"
   ]
  },
  {
   "cell_type": "code",
   "execution_count": 26,
   "metadata": {
    "collapsed": false
   },
   "outputs": [
    {
     "data": {
      "text/plain": [
       "{'Label': {'Person'}}"
      ]
     },
     "execution_count": 26,
     "metadata": {},
     "output_type": "execute_result"
    }
   ],
   "source": [
    "g.node['Steve Szaruga']"
   ]
  },
  {
   "cell_type": "code",
   "execution_count": 27,
   "metadata": {
    "collapsed": false
   },
   "outputs": [
    {
     "data": {
      "text/plain": [
       "True"
      ]
     },
     "execution_count": 27,
     "metadata": {},
     "output_type": "execute_result"
    }
   ],
   "source": [
    "# how we will check if a node has a label\n",
    "'Person' in g.node['Steve Szaruga']['Label']"
   ]
  },
  {
   "cell_type": "code",
   "execution_count": 28,
   "metadata": {
    "collapsed": false
   },
   "outputs": [
    {
     "data": {
      "text/plain": [
       "{u'AFRL/RX': 1,\n",
       " u'Additive Manufacturing': 17,\n",
       " u'Air Armaments': 14,\n",
       " u'Aircraft Coatings': 14,\n",
       " u'Airframes': 15,\n",
       " u'Andy Swanson': 8,\n",
       " u'C4ISR H/W-Aircraft': 14,\n",
       " u'C4ISR H/W-Space': 14,\n",
       " u'Ceramics': 21,\n",
       " u'Composites': 21,\n",
       " u'DARPA': 11,\n",
       " u'Data': 21,\n",
       " u'Electronic Matls': 19,\n",
       " u'Hypersonic Weapons': 16,\n",
       " u'Industry': 1,\n",
       " u'Inspection': 21,\n",
       " u'Insulation': 1,\n",
       " u'Ken Davidson': 20,\n",
       " u'Kermit Stearns': 20,\n",
       " u'LOM/LOA': 14,\n",
       " u'Leading Edge': 1,\n",
       " u'Manufacturing Research': 14,\n",
       " u'Mary Kinsella': 13,\n",
       " u'Metals': 21,\n",
       " u'Nose Tip': 1,\n",
       " u'Photonic Matls': 19,\n",
       " u'Process Control': 21,\n",
       " u'Propulsion-Turbine Engines': 14,\n",
       " u'RQ': 16,\n",
       " u'RW': 15,\n",
       " u'RX': 25,\n",
       " u'Simulation': 21,\n",
       " u'Soft Matter': 21,\n",
       " u'Stats/DOE': 14,\n",
       " u'Steve Szaruga': 27,\n",
       " u'Structures': 11,\n",
       " u'Sustainment': 14,\n",
       " u'Thermal Protection': 1}"
      ]
     },
     "execution_count": 28,
     "metadata": {},
     "output_type": "execute_result"
    }
   ],
   "source": [
    "g.degree()"
   ]
  },
  {
   "cell_type": "code",
   "execution_count": 29,
   "metadata": {
    "collapsed": false
   },
   "outputs": [],
   "source": [
    "node_degrees = pd.DataFrame({'Nodes':g.degree().keys(),'Degree':g.degree().values()})"
   ]
  },
  {
   "cell_type": "code",
   "execution_count": 30,
   "metadata": {
    "collapsed": false
   },
   "outputs": [
    {
     "data": {
      "text/html": [
       "<div style=\"max-height:1000px;max-width:1500px;overflow:auto;\">\n",
       "<table border=\"1\" class=\"dataframe\">\n",
       "  <thead>\n",
       "    <tr style=\"text-align: right;\">\n",
       "      <th></th>\n",
       "      <th>Degree</th>\n",
       "      <th>Nodes</th>\n",
       "    </tr>\n",
       "  </thead>\n",
       "  <tbody>\n",
       "    <tr>\n",
       "      <th>18</th>\n",
       "      <td>  1</td>\n",
       "      <td>                   Industry</td>\n",
       "    </tr>\n",
       "    <tr>\n",
       "      <th>34</th>\n",
       "      <td>  1</td>\n",
       "      <td>                   Nose Tip</td>\n",
       "    </tr>\n",
       "    <tr>\n",
       "      <th>31</th>\n",
       "      <td>  1</td>\n",
       "      <td>                    AFRL/RX</td>\n",
       "    </tr>\n",
       "    <tr>\n",
       "      <th>17</th>\n",
       "      <td>  1</td>\n",
       "      <td>               Leading Edge</td>\n",
       "    </tr>\n",
       "    <tr>\n",
       "      <th>12</th>\n",
       "      <td>  1</td>\n",
       "      <td>         Thermal Protection</td>\n",
       "    </tr>\n",
       "    <tr>\n",
       "      <th>37</th>\n",
       "      <td>  1</td>\n",
       "      <td>                 Insulation</td>\n",
       "    </tr>\n",
       "    <tr>\n",
       "      <th>20</th>\n",
       "      <td>  8</td>\n",
       "      <td>               Andy Swanson</td>\n",
       "    </tr>\n",
       "    <tr>\n",
       "      <th>6 </th>\n",
       "      <td> 11</td>\n",
       "      <td>                 Structures</td>\n",
       "    </tr>\n",
       "    <tr>\n",
       "      <th>33</th>\n",
       "      <td> 11</td>\n",
       "      <td>                      DARPA</td>\n",
       "    </tr>\n",
       "    <tr>\n",
       "      <th>3 </th>\n",
       "      <td> 13</td>\n",
       "      <td>              Mary Kinsella</td>\n",
       "    </tr>\n",
       "    <tr>\n",
       "      <th>19</th>\n",
       "      <td> 14</td>\n",
       "      <td>     Manufacturing Research</td>\n",
       "    </tr>\n",
       "    <tr>\n",
       "      <th>27</th>\n",
       "      <td> 14</td>\n",
       "      <td>                    LOM/LOA</td>\n",
       "    </tr>\n",
       "    <tr>\n",
       "      <th>30</th>\n",
       "      <td> 14</td>\n",
       "      <td> Propulsion-Turbine Engines</td>\n",
       "    </tr>\n",
       "    <tr>\n",
       "      <th>22</th>\n",
       "      <td> 14</td>\n",
       "      <td>                Sustainment</td>\n",
       "    </tr>\n",
       "    <tr>\n",
       "      <th>7 </th>\n",
       "      <td> 14</td>\n",
       "      <td>              Air Armaments</td>\n",
       "    </tr>\n",
       "    <tr>\n",
       "      <th>28</th>\n",
       "      <td> 14</td>\n",
       "      <td>                  Stats/DOE</td>\n",
       "    </tr>\n",
       "    <tr>\n",
       "      <th>29</th>\n",
       "      <td> 14</td>\n",
       "      <td>          Aircraft Coatings</td>\n",
       "    </tr>\n",
       "    <tr>\n",
       "      <th>13</th>\n",
       "      <td> 14</td>\n",
       "      <td>         C4ISR H/W-Aircraft</td>\n",
       "    </tr>\n",
       "    <tr>\n",
       "      <th>11</th>\n",
       "      <td> 14</td>\n",
       "      <td>            C4ISR H/W-Space</td>\n",
       "    </tr>\n",
       "    <tr>\n",
       "      <th>14</th>\n",
       "      <td> 15</td>\n",
       "      <td>                  Airframes</td>\n",
       "    </tr>\n",
       "    <tr>\n",
       "      <th>23</th>\n",
       "      <td> 15</td>\n",
       "      <td>                         RW</td>\n",
       "    </tr>\n",
       "    <tr>\n",
       "      <th>4 </th>\n",
       "      <td> 16</td>\n",
       "      <td>         Hypersonic Weapons</td>\n",
       "    </tr>\n",
       "    <tr>\n",
       "      <th>8 </th>\n",
       "      <td> 16</td>\n",
       "      <td>                         RQ</td>\n",
       "    </tr>\n",
       "    <tr>\n",
       "      <th>2 </th>\n",
       "      <td> 17</td>\n",
       "      <td>     Additive Manufacturing</td>\n",
       "    </tr>\n",
       "    <tr>\n",
       "      <th>26</th>\n",
       "      <td> 19</td>\n",
       "      <td>             Photonic Matls</td>\n",
       "    </tr>\n",
       "    <tr>\n",
       "      <th>35</th>\n",
       "      <td> 19</td>\n",
       "      <td>           Electronic Matls</td>\n",
       "    </tr>\n",
       "    <tr>\n",
       "      <th>9 </th>\n",
       "      <td> 20</td>\n",
       "      <td>             Kermit Stearns</td>\n",
       "    </tr>\n",
       "    <tr>\n",
       "      <th>5 </th>\n",
       "      <td> 20</td>\n",
       "      <td>               Ken Davidson</td>\n",
       "    </tr>\n",
       "    <tr>\n",
       "      <th>1 </th>\n",
       "      <td> 21</td>\n",
       "      <td>                Soft Matter</td>\n",
       "    </tr>\n",
       "    <tr>\n",
       "      <th>32</th>\n",
       "      <td> 21</td>\n",
       "      <td>                     Metals</td>\n",
       "    </tr>\n",
       "    <tr>\n",
       "      <th>21</th>\n",
       "      <td> 21</td>\n",
       "      <td>                 Simulation</td>\n",
       "    </tr>\n",
       "    <tr>\n",
       "      <th>24</th>\n",
       "      <td> 21</td>\n",
       "      <td>                 Composites</td>\n",
       "    </tr>\n",
       "    <tr>\n",
       "      <th>36</th>\n",
       "      <td> 21</td>\n",
       "      <td>            Process Control</td>\n",
       "    </tr>\n",
       "    <tr>\n",
       "      <th>16</th>\n",
       "      <td> 21</td>\n",
       "      <td>                   Ceramics</td>\n",
       "    </tr>\n",
       "    <tr>\n",
       "      <th>15</th>\n",
       "      <td> 21</td>\n",
       "      <td>                       Data</td>\n",
       "    </tr>\n",
       "    <tr>\n",
       "      <th>25</th>\n",
       "      <td> 21</td>\n",
       "      <td>                 Inspection</td>\n",
       "    </tr>\n",
       "    <tr>\n",
       "      <th>10</th>\n",
       "      <td> 25</td>\n",
       "      <td>                         RX</td>\n",
       "    </tr>\n",
       "    <tr>\n",
       "      <th>0 </th>\n",
       "      <td> 27</td>\n",
       "      <td>              Steve Szaruga</td>\n",
       "    </tr>\n",
       "  </tbody>\n",
       "</table>\n",
       "</div>"
      ],
      "text/plain": [
       "    Degree                       Nodes\n",
       "18       1                    Industry\n",
       "34       1                    Nose Tip\n",
       "31       1                     AFRL/RX\n",
       "17       1                Leading Edge\n",
       "12       1          Thermal Protection\n",
       "37       1                  Insulation\n",
       "20       8                Andy Swanson\n",
       "6       11                  Structures\n",
       "33      11                       DARPA\n",
       "3       13               Mary Kinsella\n",
       "19      14      Manufacturing Research\n",
       "27      14                     LOM/LOA\n",
       "30      14  Propulsion-Turbine Engines\n",
       "22      14                 Sustainment\n",
       "7       14               Air Armaments\n",
       "28      14                   Stats/DOE\n",
       "29      14           Aircraft Coatings\n",
       "13      14          C4ISR H/W-Aircraft\n",
       "11      14             C4ISR H/W-Space\n",
       "14      15                   Airframes\n",
       "23      15                          RW\n",
       "4       16          Hypersonic Weapons\n",
       "8       16                          RQ\n",
       "2       17      Additive Manufacturing\n",
       "26      19              Photonic Matls\n",
       "35      19            Electronic Matls\n",
       "9       20              Kermit Stearns\n",
       "5       20                Ken Davidson\n",
       "1       21                 Soft Matter\n",
       "32      21                      Metals\n",
       "21      21                  Simulation\n",
       "24      21                  Composites\n",
       "36      21             Process Control\n",
       "16      21                    Ceramics\n",
       "15      21                        Data\n",
       "25      21                  Inspection\n",
       "10      25                          RX\n",
       "0       27               Steve Szaruga"
      ]
     },
     "execution_count": 30,
     "metadata": {},
     "output_type": "execute_result"
    }
   ],
   "source": [
    "node_degrees.sort('Degree')"
   ]
  },
  {
   "cell_type": "code",
   "execution_count": 31,
   "metadata": {
    "collapsed": false
   },
   "outputs": [],
   "source": [
    "#add an attribute to each node that contains it log(degree)\n",
    "for row in node_degrees.iterrows():\n",
    "    node = row[1]['Nodes']\n",
    "    g.node[node]['Degree'] = np.log( row[1]['Degree'] )"
   ]
  },
  {
   "cell_type": "code",
   "execution_count": 32,
   "metadata": {
    "collapsed": false
   },
   "outputs": [
    {
     "data": {
      "text/plain": [
       "{u'AFRL/RX': {'Degree': 0.0},\n",
       " u'Additive Manufacturing': {'Degree': 2.8332133440562162},\n",
       " u'Air Armaments': {'Degree': 2.6390573296152584},\n",
       " u'Aircraft Coatings': {'Degree': 2.6390573296152584},\n",
       " u'Airframes': {'Degree': 2.7080502011022101},\n",
       " u'Andy Swanson': {'Degree': 2.0794415416798357},\n",
       " u'C4ISR H/W-Aircraft': {'Degree': 2.6390573296152584},\n",
       " u'C4ISR H/W-Space': {'Degree': 2.6390573296152584},\n",
       " u'Ceramics': {'Degree': 3.044522437723423},\n",
       " u'Composites': {'Degree': 3.044522437723423},\n",
       " u'DARPA': {'Degree': 2.3978952727983707},\n",
       " u'Data': {'Degree': 3.044522437723423},\n",
       " u'Electronic Matls': {'Degree': 2.9444389791664403},\n",
       " u'Hypersonic Weapons': {'Degree': 2.7725887222397811},\n",
       " u'Industry': {'Degree': 0.0},\n",
       " u'Inspection': {'Degree': 3.044522437723423},\n",
       " u'Insulation': {'Degree': 0.0},\n",
       " u'Ken Davidson': {'Degree': 2.9957322735539909},\n",
       " u'Kermit Stearns': {'Degree': 2.9957322735539909},\n",
       " u'LOM/LOA': {'Degree': 2.6390573296152584},\n",
       " u'Leading Edge': {'Degree': 0.0},\n",
       " u'Manufacturing Research': {'Degree': 2.6390573296152584},\n",
       " u'Mary Kinsella': {'Degree': 2.5649493574615367},\n",
       " u'Metals': {'Degree': 3.044522437723423},\n",
       " u'Nose Tip': {'Degree': 0.0},\n",
       " u'Photonic Matls': {'Degree': 2.9444389791664403},\n",
       " u'Process Control': {'Degree': 3.044522437723423},\n",
       " u'Propulsion-Turbine Engines': {'Degree': 2.6390573296152584},\n",
       " u'RQ': {'Degree': 2.7725887222397811},\n",
       " u'RW': {'Degree': 2.7080502011022101},\n",
       " u'RX': {'Degree': 3.2188758248682006},\n",
       " u'Simulation': {'Degree': 3.044522437723423},\n",
       " u'Soft Matter': {'Degree': 3.044522437723423},\n",
       " u'Stats/DOE': {'Degree': 2.6390573296152584},\n",
       " u'Steve Szaruga': {'Degree': 3.2958368660043291, 'Label': {'Person'}},\n",
       " u'Structures': {'Degree': 2.3978952727983707},\n",
       " u'Sustainment': {'Degree': 2.6390573296152584},\n",
       " u'Thermal Protection': {'Degree': 0.0}}"
      ]
     },
     "execution_count": 32,
     "metadata": {},
     "output_type": "execute_result"
    }
   ],
   "source": [
    "g.node"
   ]
  },
  {
   "cell_type": "code",
   "execution_count": 33,
   "metadata": {
    "collapsed": false
   },
   "outputs": [],
   "source": [
    "plt.hist(node_degrees['Degree'].values,range(1,30));plt.show()"
   ]
  },
  {
   "cell_type": "code",
   "execution_count": 34,
   "metadata": {
    "collapsed": false
   },
   "outputs": [
    {
     "data": {
      "text/plain": [
       "0     3.295837\n",
       "1     3.044522\n",
       "2     2.833213\n",
       "3     2.564949\n",
       "4     2.772589\n",
       "5     2.995732\n",
       "6     2.397895\n",
       "7     2.639057\n",
       "8     2.772589\n",
       "9     2.995732\n",
       "10    3.218876\n",
       "11    2.639057\n",
       "12    0.000000\n",
       "13    2.639057\n",
       "14    2.708050\n",
       "15    3.044522\n",
       "16    3.044522\n",
       "17    0.000000\n",
       "18    0.000000\n",
       "19    2.639057\n",
       "20    2.079442\n",
       "21    3.044522\n",
       "22    2.639057\n",
       "23    2.708050\n",
       "24    3.044522\n",
       "25    3.044522\n",
       "26    2.944439\n",
       "27    2.639057\n",
       "28    2.639057\n",
       "29    2.639057\n",
       "30    2.639057\n",
       "31    0.000000\n",
       "32    3.044522\n",
       "33    2.397895\n",
       "34    0.000000\n",
       "35    2.944439\n",
       "36    3.044522\n",
       "37    0.000000\n",
       "Name: Degree, dtype: float64"
      ]
     },
     "execution_count": 34,
     "metadata": {},
     "output_type": "execute_result"
    }
   ],
   "source": [
    "np.log(node_degrees['Degree'])"
   ]
  },
  {
   "cell_type": "code",
   "execution_count": 35,
   "metadata": {
    "collapsed": false
   },
   "outputs": [
    {
     "data": {
      "text/plain": [
       "{u'AFRL/RX': {'Degree': 0.0},\n",
       " u'Additive Manufacturing': {'Degree': 2.8332133440562162},\n",
       " u'Air Armaments': {'Degree': 2.6390573296152584},\n",
       " u'Aircraft Coatings': {'Degree': 2.6390573296152584},\n",
       " u'Airframes': {'Degree': 2.7080502011022101},\n",
       " u'Andy Swanson': {'Degree': 2.0794415416798357},\n",
       " u'C4ISR H/W-Aircraft': {'Degree': 2.6390573296152584},\n",
       " u'C4ISR H/W-Space': {'Degree': 2.6390573296152584},\n",
       " u'Ceramics': {'Degree': 3.044522437723423},\n",
       " u'Composites': {'Degree': 3.044522437723423},\n",
       " u'DARPA': {'Degree': 2.3978952727983707},\n",
       " u'Data': {'Degree': 3.044522437723423},\n",
       " u'Electronic Matls': {'Degree': 2.9444389791664403},\n",
       " u'Hypersonic Weapons': {'Degree': 2.7725887222397811},\n",
       " u'Industry': {'Degree': 0.0},\n",
       " u'Inspection': {'Degree': 3.044522437723423},\n",
       " u'Insulation': {'Degree': 0.0},\n",
       " u'Ken Davidson': {'Degree': 2.9957322735539909},\n",
       " u'Kermit Stearns': {'Degree': 2.9957322735539909},\n",
       " u'LOM/LOA': {'Degree': 2.6390573296152584},\n",
       " u'Leading Edge': {'Degree': 0.0},\n",
       " u'Manufacturing Research': {'Degree': 2.6390573296152584},\n",
       " u'Mary Kinsella': {'Degree': 2.5649493574615367},\n",
       " u'Metals': {'Degree': 3.044522437723423},\n",
       " u'Nose Tip': {'Degree': 0.0},\n",
       " u'Photonic Matls': {'Degree': 2.9444389791664403},\n",
       " u'Process Control': {'Degree': 3.044522437723423},\n",
       " u'Propulsion-Turbine Engines': {'Degree': 2.6390573296152584},\n",
       " u'RQ': {'Degree': 2.7725887222397811},\n",
       " u'RW': {'Degree': 2.7080502011022101},\n",
       " u'RX': {'Degree': 3.2188758248682006},\n",
       " u'Simulation': {'Degree': 3.044522437723423},\n",
       " u'Soft Matter': {'Degree': 3.044522437723423},\n",
       " u'Stats/DOE': {'Degree': 2.6390573296152584},\n",
       " u'Steve Szaruga': {'Degree': 3.2958368660043291, 'Label': {'Person'}},\n",
       " u'Structures': {'Degree': 2.3978952727983707},\n",
       " u'Sustainment': {'Degree': 2.6390573296152584},\n",
       " u'Thermal Protection': {'Degree': 0.0}}"
      ]
     },
     "execution_count": 35,
     "metadata": {},
     "output_type": "execute_result"
    }
   ],
   "source": [
    "#attributes of nodes are stored in teh g.node dictionary\n",
    "g.node"
   ]
  },
  {
   "cell_type": "code",
   "execution_count": 36,
   "metadata": {
    "collapsed": false
   },
   "outputs": [
    {
     "data": {
      "text/plain": [
       "{u'AFRL/RX': {u'Steve Szaruga': {'key': u'Belongs In', 'weight': 9}},\n",
       " u'Additive Manufacturing': {u'Ceramics': {'key': u'Belongs In', 'weight': 1},\n",
       "  u'Composites': {'key': u'Belongs In', 'weight': 5},\n",
       "  u'DARPA': {'key': u'Is Studied By', 'weight': 5},\n",
       "  u'Data': {'key': u'Belongs In', 'weight': 9},\n",
       "  u'Electronic Matls': {'key': u'Belongs In', 'weight': 5},\n",
       "  u'Industry': {'key': u'Is Studied By', 'weight': 9},\n",
       "  u'Inspection': {'key': u'Belongs In', 'weight': 5},\n",
       "  u'Mary Kinsella': {'key': u'Knows', 'weight': 9},\n",
       "  u'Metals': {'key': u'Belongs In', 'weight': 9},\n",
       "  u'Photonic Matls': {'key': u'Belongs In', 'weight': 1},\n",
       "  u'Process Control': {'key': u'Belongs In', 'weight': 5},\n",
       "  u'RQ': {'key': u'Is Studied By', 'weight': 1},\n",
       "  u'RW': {'key': u'Is Studied By', 'weight': 1},\n",
       "  u'RX': {'key': u'Is Studied By', 'weight': 9},\n",
       "  u'Simulation': {'key': u'Belongs In', 'weight': 5},\n",
       "  u'Soft Matter': {'key': u'Belongs In', 'weight': 9},\n",
       "  u'Steve Szaruga': {'key': u'Knows', 'weight': 9}},\n",
       " u'Air Armaments': {u'Ceramics': {'key': u'Involves', 'weight': 1},\n",
       "  u'Composites': {'key': u'Involves', 'weight': 1},\n",
       "  u'Data': {'key': u'Involves', 'weight': 5},\n",
       "  u'Electronic Matls': {'key': u'Involves', 'weight': 5},\n",
       "  u'Inspection': {'key': u'Involves', 'weight': 5},\n",
       "  u'Ken Davidson': {'key': u'Knows', 'weight': 1},\n",
       "  u'Kermit Stearns': {'key': u'Knows', 'weight': 9},\n",
       "  u'Metals': {'key': u'Involves', 'weight': 9},\n",
       "  u'Photonic Matls': {'key': u'Involves', 'weight': 1},\n",
       "  u'Process Control': {'key': u'Involves', 'weight': 1},\n",
       "  u'RX': {'key': u'Is Studied By', 'weight': 9},\n",
       "  u'Simulation': {'key': u'Involves', 'weight': 1},\n",
       "  u'Soft Matter': {'key': u'Involves', 'weight': 1},\n",
       "  u'Steve Szaruga': {'key': u'Knows', 'weight': 1}},\n",
       " u'Aircraft Coatings': {u'Ceramics': {'key': u'Belongs In', 'weight': 1},\n",
       "  u'Composites': {'key': u'Belongs In', 'weight': 5},\n",
       "  u'Data': {'key': u'Belongs In', 'weight': 1},\n",
       "  u'Electronic Matls': {'key': u'Belongs In', 'weight': 1},\n",
       "  u'Inspection': {'key': u'Belongs In', 'weight': 5},\n",
       "  u'Metals': {'key': u'Belongs In', 'weight': 5},\n",
       "  u'Photonic Matls': {'key': u'Belongs In', 'weight': 1},\n",
       "  u'Process Control': {'key': u'Belongs In', 'weight': 5},\n",
       "  u'RQ': {'key': u'Is Studied By', 'weight': 1},\n",
       "  u'RW': {'key': u'Is Studied By', 'weight': 1},\n",
       "  u'RX': {'key': u'Is Studied By', 'weight': 1},\n",
       "  u'Simulation': {'key': u'Belongs In', 'weight': 1},\n",
       "  u'Soft Matter': {'key': u'Belongs In', 'weight': 5},\n",
       "  u'Steve Szaruga': {'key': u'Knows', 'weight': 9}},\n",
       " u'Airframes': {u'Andy Swanson': {'key': u'Knows', 'weight': 9},\n",
       "  u'Ceramics': {'key': u'Belongs In', 'weight': 5},\n",
       "  u'Composites': {'key': u'Belongs In', 'weight': 9},\n",
       "  u'Data': {'key': u'Belongs In', 'weight': 5},\n",
       "  u'Electronic Matls': {'key': u'Belongs In', 'weight': 1},\n",
       "  u'Inspection': {'key': u'Belongs In', 'weight': 9},\n",
       "  u'Metals': {'key': u'Belongs In', 'weight': 9},\n",
       "  u'Photonic Matls': {'key': u'Belongs In', 'weight': 1},\n",
       "  u'Process Control': {'key': u'Belongs In', 'weight': 5},\n",
       "  u'RQ': {'key': u'Is Studied By', 'weight': 9},\n",
       "  u'RW': {'key': u'Is Studied By', 'weight': 9},\n",
       "  u'RX': {'key': u'Is Studied By', 'weight': 5},\n",
       "  u'Simulation': {'key': u'Belongs In', 'weight': 9},\n",
       "  u'Soft Matter': {'key': u'Belongs In', 'weight': 1},\n",
       "  u'Steve Szaruga': {'key': u'Knows', 'weight': 9}},\n",
       " u'Andy Swanson': {u'Airframes': {'key': u'Knows', 'weight': 9},\n",
       "  u'Hypersonic Weapons': {'key': u'Knows', 'weight': 9},\n",
       "  u'Insulation': {'key': u'Knows', 'weight': 9},\n",
       "  u'Leading Edge': {'key': u'Knows', 'weight': 5},\n",
       "  u'Nose Tip': {'key': u'Knows', 'weight': 5},\n",
       "  u'RQ': {'key': u'Belongs In', 'weight': 9},\n",
       "  u'Steve Szaruga': {'key': u'Knows', 'weight': 5},\n",
       "  u'Thermal Protection': {'key': u'Knows', 'weight': 9}},\n",
       " u'C4ISR H/W-Aircraft': {u'Ceramics': {'key': u'Involves', 'weight': 9},\n",
       "  u'Composites': {'key': u'Involves', 'weight': 1},\n",
       "  u'Data': {'key': u'Involves', 'weight': 1},\n",
       "  u'Electronic Matls': {'key': u'Involves', 'weight': 9},\n",
       "  u'Inspection': {'key': u'Involves', 'weight': 5},\n",
       "  u'Ken Davidson': {'key': u'Knows', 'weight': 1},\n",
       "  u'Kermit Stearns': {'key': u'Knows', 'weight': 9},\n",
       "  u'Metals': {'key': u'Involves', 'weight': 1},\n",
       "  u'Photonic Matls': {'key': u'Involves', 'weight': 9},\n",
       "  u'Process Control': {'key': u'Involves', 'weight': 9},\n",
       "  u'RX': {'key': u'Is Studied By', 'weight': 9},\n",
       "  u'Simulation': {'key': u'Involves', 'weight': 1},\n",
       "  u'Soft Matter': {'key': u'Involves', 'weight': 1},\n",
       "  u'Steve Szaruga': {'key': u'Knows', 'weight': 1}},\n",
       " u'C4ISR H/W-Space': {u'Ceramics': {'key': u'Involves', 'weight': 9},\n",
       "  u'Composites': {'key': u'Involves', 'weight': 3},\n",
       "  u'Data': {'key': u'Involves', 'weight': 3},\n",
       "  u'Electronic Matls': {'key': u'Involves', 'weight': 5},\n",
       "  u'Inspection': {'key': u'Involves', 'weight': 5},\n",
       "  u'Ken Davidson': {'key': u'Knows', 'weight': 1},\n",
       "  u'Kermit Stearns': {'key': u'Knows', 'weight': 9},\n",
       "  u'Metals': {'key': u'Involves', 'weight': 3},\n",
       "  u'Photonic Matls': {'key': u'Involves', 'weight': 9},\n",
       "  u'Process Control': {'key': u'Involves', 'weight': 9},\n",
       "  u'RX': {'key': u'Is Studied By', 'weight': 9},\n",
       "  u'Simulation': {'key': u'Involves', 'weight': 1},\n",
       "  u'Soft Matter': {'key': u'Involves', 'weight': 3},\n",
       "  u'Steve Szaruga': {'key': u'Knows', 'weight': 1}},\n",
       " u'Ceramics': {u'Additive Manufacturing': {'key': u'Belongs In', 'weight': 1},\n",
       "  u'Air Armaments': {'key': u'Involves', 'weight': 1},\n",
       "  u'Aircraft Coatings': {'key': u'Belongs In', 'weight': 1},\n",
       "  u'Airframes': {'key': u'Belongs In', 'weight': 5},\n",
       "  u'C4ISR H/W-Aircraft': {'key': u'Involves', 'weight': 9},\n",
       "  u'C4ISR H/W-Space': {'key': u'Involves', 'weight': 9},\n",
       "  u'DARPA': {'key': u'Is Studied By', 'weight': 5},\n",
       "  u'Hypersonic Weapons': {'key': u'Involves', 'weight': 5},\n",
       "  u'Ken Davidson': {'key': u'Knows', 'weight': 9},\n",
       "  u'Kermit Stearns': {'key': u'Knows', 'weight': 1},\n",
       "  u'LOM/LOA': {'key': u'Involves', 'weight': 5},\n",
       "  u'Manufacturing Research': {'key': u'Involves', 'weight': 5},\n",
       "  u'Mary Kinsella': {'key': u'Knows', 'weight': 5},\n",
       "  u'Propulsion-Turbine Engines': {'key': u'Involves', 'weight': 5},\n",
       "  u'RQ': {'key': u'Is Studied By', 'weight': 1},\n",
       "  u'RW': {'key': u'Is Studied By', 'weight': 1},\n",
       "  u'RX': {'key': u'Is Studied By', 'weight': 9},\n",
       "  u'Stats/DOE': {'key': u'Belongs In', 'weight': 5},\n",
       "  u'Steve Szaruga': {'key': u'Knows', 'weight': 5},\n",
       "  u'Structures': {'key': u'Involves', 'weight': 1},\n",
       "  u'Sustainment': {'key': u'Involves', 'weight': 1}},\n",
       " u'Composites': {u'Additive Manufacturing': {'key': u'Belongs In',\n",
       "   'weight': 5},\n",
       "  u'Air Armaments': {'key': u'Involves', 'weight': 1},\n",
       "  u'Aircraft Coatings': {'key': u'Belongs In', 'weight': 5},\n",
       "  u'Airframes': {'key': u'Belongs In', 'weight': 9},\n",
       "  u'C4ISR H/W-Aircraft': {'key': u'Involves', 'weight': 1},\n",
       "  u'C4ISR H/W-Space': {'key': u'Involves', 'weight': 3},\n",
       "  u'DARPA': {'key': u'Is Studied By', 'weight': 5},\n",
       "  u'Hypersonic Weapons': {'key': u'Involves', 'weight': 9},\n",
       "  u'Ken Davidson': {'key': u'Knows', 'weight': 9},\n",
       "  u'Kermit Stearns': {'key': u'Knows', 'weight': 5},\n",
       "  u'LOM/LOA': {'key': u'Involves', 'weight': 5},\n",
       "  u'Manufacturing Research': {'key': u'Involves', 'weight': 9},\n",
       "  u'Mary Kinsella': {'key': u'Knows', 'weight': 1},\n",
       "  u'Propulsion-Turbine Engines': {'key': u'Involves', 'weight': 5},\n",
       "  u'RQ': {'key': u'Is Studied By', 'weight': 5},\n",
       "  u'RW': {'key': u'Is Studied By', 'weight': 5},\n",
       "  u'RX': {'key': u'Is Studied By', 'weight': 9},\n",
       "  u'Stats/DOE': {'key': u'Belongs In', 'weight': 5},\n",
       "  u'Steve Szaruga': {'key': u'Knows', 'weight': 9},\n",
       "  u'Structures': {'key': u'Involves', 'weight': 9},\n",
       "  u'Sustainment': {'key': u'Involves', 'weight': 5}},\n",
       " u'DARPA': {u'Additive Manufacturing': {'key': u'Is Studied By', 'weight': 5},\n",
       "  u'Ceramics': {'key': u'Is Studied By', 'weight': 5},\n",
       "  u'Composites': {'key': u'Is Studied By', 'weight': 5},\n",
       "  u'Data': {'key': u'Is Studied By', 'weight': 9},\n",
       "  u'Electronic Matls': {'key': u'Is Studied By', 'weight': 9},\n",
       "  u'Inspection': {'key': u'Is Studied By', 'weight': 1},\n",
       "  u'Metals': {'key': u'Is Studied By', 'weight': 5},\n",
       "  u'Photonic Matls': {'key': u'Is Studied By', 'weight': 9},\n",
       "  u'Process Control': {'key': u'Is Studied By', 'weight': 1},\n",
       "  u'Simulation': {'key': u'Is Studied By', 'weight': 9},\n",
       "  u'Soft Matter': {'key': u'Is Studied By', 'weight': 9}},\n",
       " u'Data': {u'Additive Manufacturing': {'key': u'Belongs In', 'weight': 9},\n",
       "  u'Air Armaments': {'key': u'Involves', 'weight': 5},\n",
       "  u'Aircraft Coatings': {'key': u'Belongs In', 'weight': 1},\n",
       "  u'Airframes': {'key': u'Belongs In', 'weight': 5},\n",
       "  u'C4ISR H/W-Aircraft': {'key': u'Involves', 'weight': 1},\n",
       "  u'C4ISR H/W-Space': {'key': u'Involves', 'weight': 3},\n",
       "  u'DARPA': {'key': u'Is Studied By', 'weight': 9},\n",
       "  u'Hypersonic Weapons': {'key': u'Involves', 'weight': 9},\n",
       "  u'Ken Davidson': {'key': u'Knows', 'weight': 5},\n",
       "  u'Kermit Stearns': {'key': u'Knows', 'weight': 5},\n",
       "  u'LOM/LOA': {'key': u'Involves', 'weight': 1},\n",
       "  u'Manufacturing Research': {'key': u'Involves', 'weight': 9},\n",
       "  u'Mary Kinsella': {'key': u'Knows', 'weight': 9},\n",
       "  u'Propulsion-Turbine Engines': {'key': u'Involves', 'weight': 5},\n",
       "  u'RQ': {'key': u'Is Studied By', 'weight': 9},\n",
       "  u'RW': {'key': u'Is Studied By', 'weight': 9},\n",
       "  u'RX': {'key': u'Is Studied By', 'weight': 9},\n",
       "  u'Stats/DOE': {'key': u'Belongs In', 'weight': 9},\n",
       "  u'Steve Szaruga': {'key': u'Knows', 'weight': 1},\n",
       "  u'Structures': {'key': u'Involves', 'weight': 9},\n",
       "  u'Sustainment': {'key': u'Involves', 'weight': 5}},\n",
       " u'Electronic Matls': {u'Additive Manufacturing': {'key': u'Belongs In',\n",
       "   'weight': 5},\n",
       "  u'Air Armaments': {'key': u'Involves', 'weight': 5},\n",
       "  u'Aircraft Coatings': {'key': u'Belongs In', 'weight': 1},\n",
       "  u'Airframes': {'key': u'Belongs In', 'weight': 1},\n",
       "  u'C4ISR H/W-Aircraft': {'key': u'Involves', 'weight': 9},\n",
       "  u'C4ISR H/W-Space': {'key': u'Involves', 'weight': 5},\n",
       "  u'DARPA': {'key': u'Is Studied By', 'weight': 9},\n",
       "  u'Hypersonic Weapons': {'key': u'Involves', 'weight': 5},\n",
       "  u'Ken Davidson': {'key': u'Knows', 'weight': 1},\n",
       "  u'Kermit Stearns': {'key': u'Knows', 'weight': 5},\n",
       "  u'LOM/LOA': {'key': u'Involves', 'weight': 9},\n",
       "  u'Manufacturing Research': {'key': u'Involves', 'weight': 1},\n",
       "  u'Propulsion-Turbine Engines': {'key': u'Involves', 'weight': 1},\n",
       "  u'RQ': {'key': u'Is Studied By', 'weight': 1},\n",
       "  u'RW': {'key': u'Is Studied By', 'weight': 5},\n",
       "  u'RX': {'key': u'Is Studied By', 'weight': 9},\n",
       "  u'Stats/DOE': {'key': u'Belongs In', 'weight': 5},\n",
       "  u'Steve Szaruga': {'key': u'Knows', 'weight': 5},\n",
       "  u'Sustainment': {'key': u'Involves', 'weight': 1}},\n",
       " u'Hypersonic Weapons': {u'Andy Swanson': {'key': u'Knows', 'weight': 9},\n",
       "  u'Ceramics': {'key': u'Involves', 'weight': 5},\n",
       "  u'Composites': {'key': u'Involves', 'weight': 9},\n",
       "  u'Data': {'key': u'Involves', 'weight': 9},\n",
       "  u'Electronic Matls': {'key': u'Involves', 'weight': 5},\n",
       "  u'Inspection': {'key': u'Involves', 'weight': 5},\n",
       "  u'Mary Kinsella': {'key': u'Knows', 'weight': 1},\n",
       "  u'Metals': {'key': u'Involves', 'weight': 9},\n",
       "  u'Photonic Matls': {'key': u'Involves', 'weight': 1},\n",
       "  u'Process Control': {'key': u'Involves', 'weight': 5},\n",
       "  u'RQ': {'key': u'Is Studied By', 'weight': 5},\n",
       "  u'RW': {'key': u'Is Studied By', 'weight': 9},\n",
       "  u'RX': {'key': u'Is Studied By', 'weight': 5},\n",
       "  u'Simulation': {'key': u'Involves', 'weight': 9},\n",
       "  u'Soft Matter': {'key': u'Involves', 'weight': 1},\n",
       "  u'Steve Szaruga': {'key': u'Knows', 'weight': 9}},\n",
       " u'Industry': {u'Additive Manufacturing': {'key': u'Is Studied By',\n",
       "   'weight': 9}},\n",
       " u'Inspection': {u'Additive Manufacturing': {'key': u'Belongs In',\n",
       "   'weight': 5},\n",
       "  u'Air Armaments': {'key': u'Involves', 'weight': 5},\n",
       "  u'Aircraft Coatings': {'key': u'Belongs In', 'weight': 5},\n",
       "  u'Airframes': {'key': u'Belongs In', 'weight': 9},\n",
       "  u'C4ISR H/W-Aircraft': {'key': u'Involves', 'weight': 5},\n",
       "  u'C4ISR H/W-Space': {'key': u'Involves', 'weight': 5},\n",
       "  u'DARPA': {'key': u'Is Studied By', 'weight': 1},\n",
       "  u'Hypersonic Weapons': {'key': u'Involves', 'weight': 5},\n",
       "  u'Ken Davidson': {'key': u'Knows', 'weight': 3},\n",
       "  u'Kermit Stearns': {'key': u'Knows', 'weight': 1},\n",
       "  u'LOM/LOA': {'key': u'Involves', 'weight': 5},\n",
       "  u'Manufacturing Research': {'key': u'Involves', 'weight': 1},\n",
       "  u'Mary Kinsella': {'key': u'Knows', 'weight': 9},\n",
       "  u'Propulsion-Turbine Engines': {'key': u'Involves', 'weight': 1},\n",
       "  u'RQ': {'key': u'Is Studied By', 'weight': 1},\n",
       "  u'RW': {'key': u'Is Studied By', 'weight': 1},\n",
       "  u'RX': {'key': u'Is Studied By', 'weight': 9},\n",
       "  u'Stats/DOE': {'key': u'Belongs In', 'weight': 9},\n",
       "  u'Steve Szaruga': {'key': u'Knows', 'weight': 9},\n",
       "  u'Structures': {'key': u'Involves', 'weight': 9},\n",
       "  u'Sustainment': {'key': u'Involves', 'weight': 5}},\n",
       " u'Insulation': {u'Andy Swanson': {'key': u'Knows', 'weight': 9}},\n",
       " u'Ken Davidson': {u'Air Armaments': {'key': u'Knows', 'weight': 1},\n",
       "  u'C4ISR H/W-Aircraft': {'key': u'Knows', 'weight': 1},\n",
       "  u'C4ISR H/W-Space': {'key': u'Knows', 'weight': 1},\n",
       "  u'Ceramics': {'key': u'Knows', 'weight': 9},\n",
       "  u'Composites': {'key': u'Knows', 'weight': 9},\n",
       "  u'Data': {'key': u'Knows', 'weight': 5},\n",
       "  u'Electronic Matls': {'key': u'Knows', 'weight': 1},\n",
       "  u'Inspection': {'key': u'Knows', 'weight': 3},\n",
       "  u'LOM/LOA': {'key': u'Knows', 'weight': 1},\n",
       "  u'Manufacturing Research': {'key': u'Knows', 'weight': 1},\n",
       "  u'Metals': {'key': u'Knows', 'weight': 5},\n",
       "  u'Photonic Matls': {'key': u'Knows', 'weight': 1},\n",
       "  u'Process Control': {'key': u'Knows', 'weight': 5},\n",
       "  u'Propulsion-Turbine Engines': {'key': u'Knows', 'weight': 1},\n",
       "  u'RX': {'key': u'Belongs In', 'weight': 9},\n",
       "  u'Simulation': {'key': u'Knows', 'weight': 1},\n",
       "  u'Soft Matter': {'key': u'Knows', 'weight': 1},\n",
       "  u'Steve Szaruga': {'key': u'Knows', 'weight': 9},\n",
       "  u'Structures': {'key': u'Knows', 'weight': 9},\n",
       "  u'Sustainment': {'key': u'Knows', 'weight': 1}},\n",
       " u'Kermit Stearns': {u'Air Armaments': {'key': u'Knows', 'weight': 9},\n",
       "  u'C4ISR H/W-Aircraft': {'key': u'Knows', 'weight': 9},\n",
       "  u'C4ISR H/W-Space': {'key': u'Knows', 'weight': 9},\n",
       "  u'Ceramics': {'key': u'Knows', 'weight': 1},\n",
       "  u'Composites': {'key': u'Knows', 'weight': 5},\n",
       "  u'Data': {'key': u'Knows', 'weight': 5},\n",
       "  u'Electronic Matls': {'key': u'Knows', 'weight': 5},\n",
       "  u'Inspection': {'key': u'Knows', 'weight': 1},\n",
       "  u'LOM/LOA': {'key': u'Knows', 'weight': 9},\n",
       "  u'Manufacturing Research': {'key': u'Knows', 'weight': 9},\n",
       "  u'Metals': {'key': u'Knows', 'weight': 5},\n",
       "  u'Photonic Matls': {'key': u'Knows', 'weight': 5},\n",
       "  u'Process Control': {'key': u'Knows', 'weight': 1},\n",
       "  u'Propulsion-Turbine Engines': {'key': u'Knows', 'weight': 9},\n",
       "  u'RX': {'key': u'Belongs In', 'weight': 9},\n",
       "  u'Simulation': {'key': u'Knows', 'weight': 5},\n",
       "  u'Soft Matter': {'key': u'Knows', 'weight': 1},\n",
       "  u'Steve Szaruga': {'key': u'Knows', 'weight': 9},\n",
       "  u'Structures': {'key': u'Knows', 'weight': 9},\n",
       "  u'Sustainment': {'key': u'Knows', 'weight': 9}},\n",
       " u'LOM/LOA': {u'Ceramics': {'key': u'Involves', 'weight': 5},\n",
       "  u'Composites': {'key': u'Involves', 'weight': 5},\n",
       "  u'Data': {'key': u'Involves', 'weight': 1},\n",
       "  u'Electronic Matls': {'key': u'Involves', 'weight': 9},\n",
       "  u'Inspection': {'key': u'Involves', 'weight': 5},\n",
       "  u'Ken Davidson': {'key': u'Knows', 'weight': 1},\n",
       "  u'Kermit Stearns': {'key': u'Knows', 'weight': 9},\n",
       "  u'Metals': {'key': u'Involves', 'weight': 5},\n",
       "  u'Photonic Matls': {'key': u'Involves', 'weight': 5},\n",
       "  u'Process Control': {'key': u'Involves', 'weight': 1},\n",
       "  u'RX': {'key': u'Is Studied By', 'weight': 9},\n",
       "  u'Simulation': {'key': u'Involves', 'weight': 1},\n",
       "  u'Soft Matter': {'key': u'Involves', 'weight': 9},\n",
       "  u'Steve Szaruga': {'key': u'Knows', 'weight': 9}},\n",
       " u'Leading Edge': {u'Andy Swanson': {'key': u'Knows', 'weight': 5}},\n",
       " u'Manufacturing Research': {u'Ceramics': {'key': u'Involves', 'weight': 5},\n",
       "  u'Composites': {'key': u'Involves', 'weight': 9},\n",
       "  u'Data': {'key': u'Involves', 'weight': 9},\n",
       "  u'Electronic Matls': {'key': u'Involves', 'weight': 1},\n",
       "  u'Inspection': {'key': u'Involves', 'weight': 1},\n",
       "  u'Ken Davidson': {'key': u'Knows', 'weight': 1},\n",
       "  u'Kermit Stearns': {'key': u'Knows', 'weight': 9},\n",
       "  u'Metals': {'key': u'Involves', 'weight': 9},\n",
       "  u'Photonic Matls': {'key': u'Involves', 'weight': 1},\n",
       "  u'Process Control': {'key': u'Involves', 'weight': 9},\n",
       "  u'RX': {'key': u'Is Studied By', 'weight': 9},\n",
       "  u'Simulation': {'key': u'Involves', 'weight': 9},\n",
       "  u'Soft Matter': {'key': u'Involves', 'weight': 5},\n",
       "  u'Steve Szaruga': {'key': u'Knows', 'weight': 5}},\n",
       " u'Mary Kinsella': {u'Additive Manufacturing': {'key': u'Knows', 'weight': 9},\n",
       "  u'Ceramics': {'key': u'Knows', 'weight': 5},\n",
       "  u'Composites': {'key': u'Knows', 'weight': 1},\n",
       "  u'Data': {'key': u'Knows', 'weight': 9},\n",
       "  u'Hypersonic Weapons': {'key': u'Knows', 'weight': 1},\n",
       "  u'Inspection': {'key': u'Knows', 'weight': 9},\n",
       "  u'Metals': {'key': u'Knows', 'weight': 9},\n",
       "  u'Process Control': {'key': u'Knows', 'weight': 9},\n",
       "  u'RX': {'key': u'Belongs In', 'weight': 9},\n",
       "  u'Simulation': {'key': u'Knows', 'weight': 9},\n",
       "  u'Soft Matter': {'key': u'Knows', 'weight': 1},\n",
       "  u'Steve Szaruga': {'key': u'Knows', 'weight': 9},\n",
       "  u'Structures': {'key': u'Knows', 'weight': 9}},\n",
       " u'Metals': {u'Additive Manufacturing': {'key': u'Belongs In', 'weight': 9},\n",
       "  u'Air Armaments': {'key': u'Involves', 'weight': 9},\n",
       "  u'Aircraft Coatings': {'key': u'Belongs In', 'weight': 5},\n",
       "  u'Airframes': {'key': u'Belongs In', 'weight': 9},\n",
       "  u'C4ISR H/W-Aircraft': {'key': u'Involves', 'weight': 1},\n",
       "  u'C4ISR H/W-Space': {'key': u'Involves', 'weight': 3},\n",
       "  u'DARPA': {'key': u'Is Studied By', 'weight': 5},\n",
       "  u'Hypersonic Weapons': {'key': u'Involves', 'weight': 9},\n",
       "  u'Ken Davidson': {'key': u'Knows', 'weight': 5},\n",
       "  u'Kermit Stearns': {'key': u'Knows', 'weight': 5},\n",
       "  u'LOM/LOA': {'key': u'Involves', 'weight': 5},\n",
       "  u'Manufacturing Research': {'key': u'Involves', 'weight': 9},\n",
       "  u'Mary Kinsella': {'key': u'Knows', 'weight': 9},\n",
       "  u'Propulsion-Turbine Engines': {'key': u'Involves', 'weight': 9},\n",
       "  u'RQ': {'key': u'Is Studied By', 'weight': 5},\n",
       "  u'RW': {'key': u'Is Studied By', 'weight': 5},\n",
       "  u'RX': {'key': u'Is Studied By', 'weight': 9},\n",
       "  u'Stats/DOE': {'key': u'Belongs In', 'weight': 5},\n",
       "  u'Steve Szaruga': {'key': u'Knows', 'weight': 5},\n",
       "  u'Structures': {'key': u'Involves', 'weight': 9},\n",
       "  u'Sustainment': {'key': u'Involves', 'weight': 9}},\n",
       " u'Nose Tip': {u'Andy Swanson': {'key': u'Knows', 'weight': 5}},\n",
       " u'Photonic Matls': {u'Additive Manufacturing': {'key': u'Belongs In',\n",
       "   'weight': 1},\n",
       "  u'Air Armaments': {'key': u'Involves', 'weight': 1},\n",
       "  u'Aircraft Coatings': {'key': u'Belongs In', 'weight': 1},\n",
       "  u'Airframes': {'key': u'Belongs In', 'weight': 1},\n",
       "  u'C4ISR H/W-Aircraft': {'key': u'Involves', 'weight': 9},\n",
       "  u'C4ISR H/W-Space': {'key': u'Involves', 'weight': 9},\n",
       "  u'DARPA': {'key': u'Is Studied By', 'weight': 9},\n",
       "  u'Hypersonic Weapons': {'key': u'Involves', 'weight': 1},\n",
       "  u'Ken Davidson': {'key': u'Knows', 'weight': 1},\n",
       "  u'Kermit Stearns': {'key': u'Knows', 'weight': 5},\n",
       "  u'LOM/LOA': {'key': u'Involves', 'weight': 5},\n",
       "  u'Manufacturing Research': {'key': u'Involves', 'weight': 1},\n",
       "  u'Propulsion-Turbine Engines': {'key': u'Involves', 'weight': 1},\n",
       "  u'RQ': {'key': u'Is Studied By', 'weight': 1},\n",
       "  u'RW': {'key': u'Is Studied By', 'weight': 1},\n",
       "  u'RX': {'key': u'Is Studied By', 'weight': 9},\n",
       "  u'Stats/DOE': {'key': u'Belongs In', 'weight': 5},\n",
       "  u'Steve Szaruga': {'key': u'Knows', 'weight': 1},\n",
       "  u'Sustainment': {'key': u'Involves', 'weight': 1}},\n",
       " u'Process Control': {u'Additive Manufacturing': {'key': u'Belongs In',\n",
       "   'weight': 5},\n",
       "  u'Air Armaments': {'key': u'Involves', 'weight': 1},\n",
       "  u'Aircraft Coatings': {'key': u'Belongs In', 'weight': 5},\n",
       "  u'Airframes': {'key': u'Belongs In', 'weight': 5},\n",
       "  u'C4ISR H/W-Aircraft': {'key': u'Involves', 'weight': 9},\n",
       "  u'C4ISR H/W-Space': {'key': u'Involves', 'weight': 9},\n",
       "  u'DARPA': {'key': u'Is Studied By', 'weight': 1},\n",
       "  u'Hypersonic Weapons': {'key': u'Involves', 'weight': 5},\n",
       "  u'Ken Davidson': {'key': u'Knows', 'weight': 5},\n",
       "  u'Kermit Stearns': {'key': u'Knows', 'weight': 1},\n",
       "  u'LOM/LOA': {'key': u'Involves', 'weight': 1},\n",
       "  u'Manufacturing Research': {'key': u'Involves', 'weight': 9},\n",
       "  u'Mary Kinsella': {'key': u'Knows', 'weight': 9},\n",
       "  u'Propulsion-Turbine Engines': {'key': u'Involves', 'weight': 5},\n",
       "  u'RQ': {'key': u'Is Studied By', 'weight': 1},\n",
       "  u'RW': {'key': u'Is Studied By', 'weight': 5},\n",
       "  u'RX': {'key': u'Is Studied By', 'weight': 9},\n",
       "  u'Stats/DOE': {'key': u'Belongs In', 'weight': 5},\n",
       "  u'Steve Szaruga': {'key': u'Knows', 'weight': 5},\n",
       "  u'Structures': {'key': u'Involves', 'weight': 5},\n",
       "  u'Sustainment': {'key': u'Involves', 'weight': 5}},\n",
       " u'Propulsion-Turbine Engines': {u'Ceramics': {'key': u'Involves',\n",
       "   'weight': 5},\n",
       "  u'Composites': {'key': u'Involves', 'weight': 5},\n",
       "  u'Data': {'key': u'Involves', 'weight': 5},\n",
       "  u'Electronic Matls': {'key': u'Involves', 'weight': 1},\n",
       "  u'Inspection': {'key': u'Involves', 'weight': 1},\n",
       "  u'Ken Davidson': {'key': u'Knows', 'weight': 1},\n",
       "  u'Kermit Stearns': {'key': u'Knows', 'weight': 9},\n",
       "  u'Metals': {'key': u'Involves', 'weight': 9},\n",
       "  u'Photonic Matls': {'key': u'Involves', 'weight': 1},\n",
       "  u'Process Control': {'key': u'Involves', 'weight': 5},\n",
       "  u'RX': {'key': u'Is Studied By', 'weight': 9},\n",
       "  u'Simulation': {'key': u'Involves', 'weight': 1},\n",
       "  u'Soft Matter': {'key': u'Involves', 'weight': 1},\n",
       "  u'Steve Szaruga': {'key': u'Knows', 'weight': 5}},\n",
       " u'RQ': {u'Additive Manufacturing': {'key': u'Is Studied By', 'weight': 1},\n",
       "  u'Aircraft Coatings': {'key': u'Is Studied By', 'weight': 1},\n",
       "  u'Airframes': {'key': u'Is Studied By', 'weight': 9},\n",
       "  u'Andy Swanson': {'key': u'Belongs In', 'weight': 9},\n",
       "  u'Ceramics': {'key': u'Is Studied By', 'weight': 1},\n",
       "  u'Composites': {'key': u'Is Studied By', 'weight': 5},\n",
       "  u'Data': {'key': u'Is Studied By', 'weight': 9},\n",
       "  u'Electronic Matls': {'key': u'Is Studied By', 'weight': 1},\n",
       "  u'Hypersonic Weapons': {'key': u'Is Studied By', 'weight': 5},\n",
       "  u'Inspection': {'key': u'Is Studied By', 'weight': 1},\n",
       "  u'Metals': {'key': u'Is Studied By', 'weight': 5},\n",
       "  u'Photonic Matls': {'key': u'Is Studied By', 'weight': 1},\n",
       "  u'Process Control': {'key': u'Is Studied By', 'weight': 1},\n",
       "  u'Simulation': {'key': u'Is Studied By', 'weight': 9},\n",
       "  u'Soft Matter': {'key': u'Is Studied By', 'weight': 1},\n",
       "  u'Stats/DOE': {'key': u'Is Studied By', 'weight': 5}},\n",
       " u'RW': {u'Additive Manufacturing': {'key': u'Is Studied By', 'weight': 1},\n",
       "  u'Aircraft Coatings': {'key': u'Is Studied By', 'weight': 1},\n",
       "  u'Airframes': {'key': u'Is Studied By', 'weight': 9},\n",
       "  u'Ceramics': {'key': u'Is Studied By', 'weight': 1},\n",
       "  u'Composites': {'key': u'Is Studied By', 'weight': 5},\n",
       "  u'Data': {'key': u'Is Studied By', 'weight': 9},\n",
       "  u'Electronic Matls': {'key': u'Is Studied By', 'weight': 5},\n",
       "  u'Hypersonic Weapons': {'key': u'Is Studied By', 'weight': 9},\n",
       "  u'Inspection': {'key': u'Is Studied By', 'weight': 1},\n",
       "  u'Metals': {'key': u'Is Studied By', 'weight': 5},\n",
       "  u'Photonic Matls': {'key': u'Is Studied By', 'weight': 1},\n",
       "  u'Process Control': {'key': u'Is Studied By', 'weight': 5},\n",
       "  u'Simulation': {'key': u'Is Studied By', 'weight': 9},\n",
       "  u'Soft Matter': {'key': u'Is Studied By', 'weight': 1},\n",
       "  u'Stats/DOE': {'key': u'Is Studied By', 'weight': 5}},\n",
       " u'RX': {u'Additive Manufacturing': {'key': u'Is Studied By', 'weight': 9},\n",
       "  u'Air Armaments': {'key': u'Is Studied By', 'weight': 9},\n",
       "  u'Aircraft Coatings': {'key': u'Is Studied By', 'weight': 1},\n",
       "  u'Airframes': {'key': u'Is Studied By', 'weight': 5},\n",
       "  u'C4ISR H/W-Aircraft': {'key': u'Is Studied By', 'weight': 9},\n",
       "  u'C4ISR H/W-Space': {'key': u'Is Studied By', 'weight': 9},\n",
       "  u'Ceramics': {'key': u'Is Studied By', 'weight': 9},\n",
       "  u'Composites': {'key': u'Is Studied By', 'weight': 9},\n",
       "  u'Data': {'key': u'Is Studied By', 'weight': 9},\n",
       "  u'Electronic Matls': {'key': u'Is Studied By', 'weight': 9},\n",
       "  u'Hypersonic Weapons': {'key': u'Is Studied By', 'weight': 5},\n",
       "  u'Inspection': {'key': u'Is Studied By', 'weight': 9},\n",
       "  u'Ken Davidson': {'key': u'Belongs In', 'weight': 9},\n",
       "  u'Kermit Stearns': {'key': u'Belongs In', 'weight': 9},\n",
       "  u'LOM/LOA': {'key': u'Is Studied By', 'weight': 9},\n",
       "  u'Manufacturing Research': {'key': u'Is Studied By', 'weight': 9},\n",
       "  u'Mary Kinsella': {'key': u'Belongs In', 'weight': 9},\n",
       "  u'Metals': {'key': u'Is Studied By', 'weight': 9},\n",
       "  u'Photonic Matls': {'key': u'Is Studied By', 'weight': 9},\n",
       "  u'Process Control': {'key': u'Is Studied By', 'weight': 9},\n",
       "  u'Propulsion-Turbine Engines': {'key': u'Is Studied By', 'weight': 9},\n",
       "  u'Simulation': {'key': u'Is Studied By', 'weight': 9},\n",
       "  u'Soft Matter': {'key': u'Is Studied By', 'weight': 9},\n",
       "  u'Stats/DOE': {'key': u'Is Studied By', 'weight': 5},\n",
       "  u'Sustainment': {'key': u'Is Studied By', 'weight': 9}},\n",
       " u'Simulation': {u'Additive Manufacturing': {'key': u'Belongs In',\n",
       "   'weight': 5},\n",
       "  u'Air Armaments': {'key': u'Involves', 'weight': 1},\n",
       "  u'Aircraft Coatings': {'key': u'Belongs In', 'weight': 1},\n",
       "  u'Airframes': {'key': u'Belongs In', 'weight': 9},\n",
       "  u'C4ISR H/W-Aircraft': {'key': u'Involves', 'weight': 1},\n",
       "  u'C4ISR H/W-Space': {'key': u'Involves', 'weight': 1},\n",
       "  u'DARPA': {'key': u'Is Studied By', 'weight': 9},\n",
       "  u'Hypersonic Weapons': {'key': u'Involves', 'weight': 9},\n",
       "  u'Ken Davidson': {'key': u'Knows', 'weight': 1},\n",
       "  u'Kermit Stearns': {'key': u'Knows', 'weight': 5},\n",
       "  u'LOM/LOA': {'key': u'Involves', 'weight': 1},\n",
       "  u'Manufacturing Research': {'key': u'Involves', 'weight': 9},\n",
       "  u'Mary Kinsella': {'key': u'Knows', 'weight': 9},\n",
       "  u'Propulsion-Turbine Engines': {'key': u'Involves', 'weight': 1},\n",
       "  u'RQ': {'key': u'Is Studied By', 'weight': 9},\n",
       "  u'RW': {'key': u'Is Studied By', 'weight': 9},\n",
       "  u'RX': {'key': u'Is Studied By', 'weight': 9},\n",
       "  u'Stats/DOE': {'key': u'Belongs In', 'weight': 5},\n",
       "  u'Steve Szaruga': {'key': u'Knows', 'weight': 9},\n",
       "  u'Structures': {'key': u'Involves', 'weight': 5},\n",
       "  u'Sustainment': {'key': u'Involves', 'weight': 3}},\n",
       " u'Soft Matter': {u'Additive Manufacturing': {'key': u'Belongs In',\n",
       "   'weight': 9},\n",
       "  u'Air Armaments': {'key': u'Involves', 'weight': 1},\n",
       "  u'Aircraft Coatings': {'key': u'Belongs In', 'weight': 5},\n",
       "  u'Airframes': {'key': u'Belongs In', 'weight': 1},\n",
       "  u'C4ISR H/W-Aircraft': {'key': u'Involves', 'weight': 1},\n",
       "  u'C4ISR H/W-Space': {'key': u'Involves', 'weight': 3},\n",
       "  u'DARPA': {'key': u'Is Studied By', 'weight': 9},\n",
       "  u'Hypersonic Weapons': {'key': u'Involves', 'weight': 1},\n",
       "  u'Ken Davidson': {'key': u'Knows', 'weight': 1},\n",
       "  u'Kermit Stearns': {'key': u'Knows', 'weight': 1},\n",
       "  u'LOM/LOA': {'key': u'Involves', 'weight': 9},\n",
       "  u'Manufacturing Research': {'key': u'Involves', 'weight': 5},\n",
       "  u'Mary Kinsella': {'key': u'Knows', 'weight': 1},\n",
       "  u'Propulsion-Turbine Engines': {'key': u'Involves', 'weight': 1},\n",
       "  u'RQ': {'key': u'Is Studied By', 'weight': 1},\n",
       "  u'RW': {'key': u'Is Studied By', 'weight': 1},\n",
       "  u'RX': {'key': u'Is Studied By', 'weight': 9},\n",
       "  u'Stats/DOE': {'key': u'Belongs In', 'weight': 5},\n",
       "  u'Steve Szaruga': {'key': u'Knows', 'weight': 5},\n",
       "  u'Structures': {'key': u'Involves', 'weight': 5},\n",
       "  u'Sustainment': {'key': u'Involves', 'weight': 1}},\n",
       " u'Stats/DOE': {u'Ceramics': {'key': u'Belongs In', 'weight': 5},\n",
       "  u'Composites': {'key': u'Belongs In', 'weight': 5},\n",
       "  u'Data': {'key': u'Belongs In', 'weight': 9},\n",
       "  u'Electronic Matls': {'key': u'Belongs In', 'weight': 5},\n",
       "  u'Inspection': {'key': u'Belongs In', 'weight': 9},\n",
       "  u'Metals': {'key': u'Belongs In', 'weight': 5},\n",
       "  u'Photonic Matls': {'key': u'Belongs In', 'weight': 5},\n",
       "  u'Process Control': {'key': u'Belongs In', 'weight': 5},\n",
       "  u'RQ': {'key': u'Is Studied By', 'weight': 5},\n",
       "  u'RW': {'key': u'Is Studied By', 'weight': 5},\n",
       "  u'RX': {'key': u'Is Studied By', 'weight': 5},\n",
       "  u'Simulation': {'key': u'Belongs In', 'weight': 5},\n",
       "  u'Soft Matter': {'key': u'Belongs In', 'weight': 5},\n",
       "  u'Steve Szaruga': {'key': u'Knows', 'weight': 9}},\n",
       " u'Steve Szaruga': {u'AFRL/RX': {'key': u'Belongs In', 'weight': 9},\n",
       "  u'Additive Manufacturing': {'key': u'Knows', 'weight': 9},\n",
       "  u'Air Armaments': {'key': u'Knows', 'weight': 1},\n",
       "  u'Aircraft Coatings': {'key': u'Knows', 'weight': 9},\n",
       "  u'Airframes': {'key': u'Knows', 'weight': 9},\n",
       "  u'Andy Swanson': {'key': u'Knows', 'weight': 5},\n",
       "  u'C4ISR H/W-Aircraft': {'key': u'Knows', 'weight': 1},\n",
       "  u'C4ISR H/W-Space': {'key': u'Knows', 'weight': 1},\n",
       "  u'Ceramics': {'key': u'Knows', 'weight': 5},\n",
       "  u'Composites': {'key': u'Knows', 'weight': 9},\n",
       "  u'Data': {'key': u'Knows', 'weight': 1},\n",
       "  u'Electronic Matls': {'key': u'Knows', 'weight': 5},\n",
       "  u'Hypersonic Weapons': {'key': u'Knows', 'weight': 9},\n",
       "  u'Inspection': {'key': u'Knows', 'weight': 9},\n",
       "  u'Ken Davidson': {'key': u'Knows', 'weight': 9},\n",
       "  u'Kermit Stearns': {'key': u'Knows', 'weight': 9},\n",
       "  u'LOM/LOA': {'key': u'Knows', 'weight': 9},\n",
       "  u'Manufacturing Research': {'key': u'Knows', 'weight': 5},\n",
       "  u'Mary Kinsella': {'key': u'Knows', 'weight': 9},\n",
       "  u'Metals': {'key': u'Knows', 'weight': 5},\n",
       "  u'Photonic Matls': {'key': u'Knows', 'weight': 1},\n",
       "  u'Process Control': {'key': u'Knows', 'weight': 5},\n",
       "  u'Propulsion-Turbine Engines': {'key': u'Knows', 'weight': 5},\n",
       "  u'Simulation': {'key': u'Knows', 'weight': 9},\n",
       "  u'Soft Matter': {'key': u'Knows', 'weight': 5},\n",
       "  u'Stats/DOE': {'key': u'Knows', 'weight': 9},\n",
       "  u'Sustainment': {'key': u'Knows', 'weight': 5}},\n",
       " u'Structures': {u'Ceramics': {'key': u'Involves', 'weight': 1},\n",
       "  u'Composites': {'key': u'Involves', 'weight': 9},\n",
       "  u'Data': {'key': u'Involves', 'weight': 9},\n",
       "  u'Inspection': {'key': u'Involves', 'weight': 9},\n",
       "  u'Ken Davidson': {'key': u'Knows', 'weight': 9},\n",
       "  u'Kermit Stearns': {'key': u'Knows', 'weight': 9},\n",
       "  u'Mary Kinsella': {'key': u'Knows', 'weight': 9},\n",
       "  u'Metals': {'key': u'Involves', 'weight': 9},\n",
       "  u'Process Control': {'key': u'Involves', 'weight': 5},\n",
       "  u'Simulation': {'key': u'Involves', 'weight': 5},\n",
       "  u'Soft Matter': {'key': u'Involves', 'weight': 5}},\n",
       " u'Sustainment': {u'Ceramics': {'key': u'Involves', 'weight': 1},\n",
       "  u'Composites': {'key': u'Involves', 'weight': 5},\n",
       "  u'Data': {'key': u'Involves', 'weight': 5},\n",
       "  u'Electronic Matls': {'key': u'Involves', 'weight': 1},\n",
       "  u'Inspection': {'key': u'Involves', 'weight': 5},\n",
       "  u'Ken Davidson': {'key': u'Knows', 'weight': 1},\n",
       "  u'Kermit Stearns': {'key': u'Knows', 'weight': 9},\n",
       "  u'Metals': {'key': u'Involves', 'weight': 9},\n",
       "  u'Photonic Matls': {'key': u'Involves', 'weight': 1},\n",
       "  u'Process Control': {'key': u'Involves', 'weight': 5},\n",
       "  u'RX': {'key': u'Is Studied By', 'weight': 9},\n",
       "  u'Simulation': {'key': u'Involves', 'weight': 3},\n",
       "  u'Soft Matter': {'key': u'Involves', 'weight': 1},\n",
       "  u'Steve Szaruga': {'key': u'Knows', 'weight': 5}},\n",
       " u'Thermal Protection': {u'Andy Swanson': {'key': u'Knows', 'weight': 9}}}"
      ]
     },
     "execution_count": 36,
     "metadata": {},
     "output_type": "execute_result"
    }
   ],
   "source": [
    "#attributes of edges are stored in the g.edges dictionary\n",
    "g.edge"
   ]
  },
  {
   "cell_type": "code",
   "execution_count": 37,
   "metadata": {
    "collapsed": false
   },
   "outputs": [
    {
     "data": {
      "text/plain": [
       "{'key': u'Involves', 'weight': 1}"
      ]
     },
     "execution_count": 37,
     "metadata": {},
     "output_type": "execute_result"
    }
   ],
   "source": [
    "#the edge between the \"Air Armaments\" and \"Simulation\" nodes is labeled 'Involves' and has the attribute weight:1\n",
    "g.edge['Air Armaments']['Simulation']"
   ]
  },
  {
   "cell_type": "code",
   "execution_count": 38,
   "metadata": {
    "collapsed": false
   },
   "outputs": [
    {
     "name": "stdout",
     "output_type": "stream",
     "text": [
      "Steve Szaruga {'Degree': 3.2958368660043291, 'Label': []}\n",
      "Soft Matter {'Degree': 3.044522437723423, 'Label': [u'RX Function']}\n",
      "Additive Manufacturing {'Degree': 2.8332133440562162, 'Label': [u'Discliplines']}\n",
      "Mary Kinsella {'Degree': 2.5649493574615367, 'Label': [u'Contact']}\n",
      "Hypersonic Weapons {'Degree': 2.7725887222397811, 'Label': [u'Discliplines']}\n",
      "Ken Davidson {'Degree': 2.9957322735539909, 'Label': [u'Contact']}\n",
      "Kermit Stearns {'Degree': 2.9957322735539909, 'Label': []}\n",
      "Air Armaments {'Degree': 2.6390573296152584, 'Label': [u'RXM Roadmap']}\n",
      "RQ {'Degree': 2.7725887222397811, 'Label': [u'Contact']}\n",
      "Structures {'Degree': 2.3978952727983707, 'Label': [u'RXM Roadmap']}\n",
      "RX {'Degree': 3.2188758248682006, 'Label': [u'Contact']}\n",
      "C4ISR H/W-Space {'Degree': 2.6390573296152584, 'Label': [u'RXM Roadmap']}\n",
      "C4ISR H/W-Aircraft {'Degree': 2.6390573296152584, 'Label': [u'RXM Roadmap']}\n",
      "Thermal Protection {'Degree': 0.0, 'Label': []}\n",
      "Airframes {'Degree': 2.7080502011022101, 'Label': [u'Discliplines']}\n",
      "Data {'Degree': 3.044522437723423, 'Label': [u'RX Function']}\n",
      "Ceramics {'Degree': 3.044522437723423, 'Label': [u'RX Function']}\n",
      "Leading Edge {'Degree': 0.0, 'Label': []}\n",
      "Industry {'Degree': 0.0, 'Label': []}\n",
      "Process Control {'Degree': 3.044522437723423, 'Label': [u'RX Function']}\n",
      "Andy Swanson {'Degree': 2.0794415416798357, 'Label': [u'Contact']}\n",
      "Simulation {'Degree': 3.044522437723423, 'Label': [u'RX Function']}\n",
      "Sustainment {'Degree': 2.6390573296152584, 'Label': [u'RXM Roadmap']}\n",
      "RW {'Degree': 2.7080502011022101, 'Label': [u'Contact']}\n",
      "Composites {'Degree': 3.044522437723423, 'Label': [u'RX Function']}\n",
      "Inspection {'Degree': 3.044522437723423, 'Label': [u'RX Function']}\n",
      "Photonic Matls {'Degree': 2.9444389791664403, 'Label': [u'RX Function']}\n",
      "LOM/LOA {'Degree': 2.6390573296152584, 'Label': [u'RXM Roadmap']}\n",
      "Stats/DOE {'Degree': 2.6390573296152584, 'Label': [u'Discliplines']}\n",
      "Aircraft Coatings {'Degree': 2.6390573296152584, 'Label': [u'Discliplines']}\n",
      "Propulsion-Turbine Engines {'Degree': 2.6390573296152584, 'Label': [u'RXM Roadmap']}\n",
      "AFRL/RX {'Degree': 0.0, 'Label': []}\n",
      "Metals {'Degree': 3.044522437723423, 'Label': [u'RX Function']}\n",
      "DARPA {'Degree': 2.3978952727983707, 'Label': [u'Contact']}\n",
      "Nose Tip {'Degree': 0.0, 'Label': []}\n",
      "Electronic Matls {'Degree': 2.9444389791664403, 'Label': [u'RX Function']}\n",
      "Manufacturing Research {'Degree': 2.6390573296152584, 'Label': [u'RXM Roadmap']}\n",
      "Insulation {'Degree': 0.0, 'Label': []}\n"
     ]
    }
   ],
   "source": [
    "#explore connecting ontology to labeling of nodes\n",
    "for node in g.node:\n",
    "    g.node[node]['Label'] = []\n",
    "    for key in ontology.keys():\n",
    "        if node in ontology[key].values:\n",
    "            g.node[node]['Label'].append(key)\n",
    "    print node, g.node[node]"
   ]
  },
  {
   "cell_type": "code",
   "execution_count": 39,
   "metadata": {
    "collapsed": false
   },
   "outputs": [
    {
     "data": {
      "text/plain": [
       "{u'AFRL/RX': {'Degree': 0.0, 'Label': []},\n",
       " u'Additive Manufacturing': {'Degree': 2.8332133440562162,\n",
       "  'Label': [u'Discliplines']},\n",
       " u'Air Armaments': {'Degree': 2.6390573296152584, 'Label': [u'RXM Roadmap']},\n",
       " u'Aircraft Coatings': {'Degree': 2.6390573296152584,\n",
       "  'Label': [u'Discliplines']},\n",
       " u'Airframes': {'Degree': 2.7080502011022101, 'Label': [u'Discliplines']},\n",
       " u'Andy Swanson': {'Degree': 2.0794415416798357, 'Label': [u'Contact']},\n",
       " u'C4ISR H/W-Aircraft': {'Degree': 2.6390573296152584,\n",
       "  'Label': [u'RXM Roadmap']},\n",
       " u'C4ISR H/W-Space': {'Degree': 2.6390573296152584, 'Label': [u'RXM Roadmap']},\n",
       " u'Ceramics': {'Degree': 3.044522437723423, 'Label': [u'RX Function']},\n",
       " u'Composites': {'Degree': 3.044522437723423, 'Label': [u'RX Function']},\n",
       " u'DARPA': {'Degree': 2.3978952727983707, 'Label': [u'Contact']},\n",
       " u'Data': {'Degree': 3.044522437723423, 'Label': [u'RX Function']},\n",
       " u'Electronic Matls': {'Degree': 2.9444389791664403,\n",
       "  'Label': [u'RX Function']},\n",
       " u'Hypersonic Weapons': {'Degree': 2.7725887222397811,\n",
       "  'Label': [u'Discliplines']},\n",
       " u'Industry': {'Degree': 0.0, 'Label': []},\n",
       " u'Inspection': {'Degree': 3.044522437723423, 'Label': [u'RX Function']},\n",
       " u'Insulation': {'Degree': 0.0, 'Label': []},\n",
       " u'Ken Davidson': {'Degree': 2.9957322735539909, 'Label': [u'Contact']},\n",
       " u'Kermit Stearns': {'Degree': 2.9957322735539909, 'Label': []},\n",
       " u'LOM/LOA': {'Degree': 2.6390573296152584, 'Label': [u'RXM Roadmap']},\n",
       " u'Leading Edge': {'Degree': 0.0, 'Label': []},\n",
       " u'Manufacturing Research': {'Degree': 2.6390573296152584,\n",
       "  'Label': [u'RXM Roadmap']},\n",
       " u'Mary Kinsella': {'Degree': 2.5649493574615367, 'Label': [u'Contact']},\n",
       " u'Metals': {'Degree': 3.044522437723423, 'Label': [u'RX Function']},\n",
       " u'Nose Tip': {'Degree': 0.0, 'Label': []},\n",
       " u'Photonic Matls': {'Degree': 2.9444389791664403, 'Label': [u'RX Function']},\n",
       " u'Process Control': {'Degree': 3.044522437723423, 'Label': [u'RX Function']},\n",
       " u'Propulsion-Turbine Engines': {'Degree': 2.6390573296152584,\n",
       "  'Label': [u'RXM Roadmap']},\n",
       " u'RQ': {'Degree': 2.7725887222397811, 'Label': [u'Contact']},\n",
       " u'RW': {'Degree': 2.7080502011022101, 'Label': [u'Contact']},\n",
       " u'RX': {'Degree': 3.2188758248682006, 'Label': [u'Contact']},\n",
       " u'Simulation': {'Degree': 3.044522437723423, 'Label': [u'RX Function']},\n",
       " u'Soft Matter': {'Degree': 3.044522437723423, 'Label': [u'RX Function']},\n",
       " u'Stats/DOE': {'Degree': 2.6390573296152584, 'Label': [u'Discliplines']},\n",
       " u'Steve Szaruga': {'Degree': 3.2958368660043291, 'Label': []},\n",
       " u'Structures': {'Degree': 2.3978952727983707, 'Label': [u'RXM Roadmap']},\n",
       " u'Sustainment': {'Degree': 2.6390573296152584, 'Label': [u'RXM Roadmap']},\n",
       " u'Thermal Protection': {'Degree': 0.0, 'Label': []}}"
      ]
     },
     "execution_count": 39,
     "metadata": {},
     "output_type": "execute_result"
    }
   ],
   "source": [
    "g.node"
   ]
  },
  {
   "cell_type": "code",
   "execution_count": 40,
   "metadata": {
    "collapsed": false
   },
   "outputs": [],
   "source": [
    "import json\n",
    "from networkx.readwrite import json_graph\n",
    "data = json_graph.node_link_data(g)\n",
    "with open('graph.json', 'w') as f:\n",
    "    json.dump(data, f, indent=4)"
   ]
  },
  {
   "cell_type": "code",
   "execution_count": 41,
   "metadata": {
    "collapsed": false
   },
   "outputs": [
    {
     "data": {
      "text/html": [
       "<div id=\"d3-example\"></div>\n",
       "<style>\n",
       ".node {stroke: #fff; stroke-width: 1.5px;}\n",
       ".link {stroke: #999; stroke-opacity: .6;}\n",
       "</style>"
      ],
      "text/plain": [
       "<IPython.core.display.HTML object>"
      ]
     },
     "metadata": {},
     "output_type": "display_data"
    }
   ],
   "source": [
    "%%html\n",
    "<div id=\"d3-example\"></div>\n",
    "<style>\n",
    ".node {stroke: #fff; stroke-width: 1.5px;}\n",
    ".link {stroke: #999; stroke-opacity: .6;}\n",
    "</style>"
   ]
  },
  {
   "cell_type": "code",
   "execution_count": 42,
   "metadata": {
    "collapsed": false
   },
   "outputs": [
    {
     "data": {
      "application/javascript": [
       "// We load the d3.js library from the Web.\n",
       "require.config({paths: {d3: \"http://d3js.org/d3.v3.min\"}});\n",
       "require([\"d3\"], function(d3) {\n",
       "    // The code in this block is executed when the \n",
       "    // d3.js library has been loaded.\n",
       "    \n",
       "    // First, we specify the size of the canvas containing\n",
       "    // the visualization (size of the <div> element).\n",
       "    var width = 800,\n",
       "        height = 600;\n",
       "\n",
       "    // We create a color scale.\n",
       "    var color = d3.scale.category10();\n",
       "\n",
       "    // We create a force-directed dynamic graph layout.\n",
       "    var force = d3.layout.force()\n",
       "        .charge(-120)\n",
       "        .linkDistance(30)\n",
       "        .size([width, height]);\n",
       "\n",
       "    // In the <div> element, we create a <svg> graphic\n",
       "    // that will contain our interactive visualization.\n",
       "    var svg = d3.select(\"#d3-example\").select(\"svg\")\n",
       "    if (svg.empty()) {\n",
       "        svg = d3.select(\"#d3-example\").append(\"svg\")\n",
       "                    .attr(\"width\", width)\n",
       "                    .attr(\"height\", height);\n",
       "    }\n",
       "    \n",
       "    // create the zoom listener\n",
       "    var zoomListener = d3.behavior.zoom()\n",
       "      .scaleExtent([0.1, 3])\n",
       "      .on(\"zoom\", zoomHandler);\n",
       "\n",
       "    // function for handling zoom event\n",
       "    function zoomHandler() {\n",
       "      vis.attr(\"transform\", \"translate(\" + d3.event.translate + \")scale(\" + d3.event.scale + \")\");\n",
       "    }\n",
       "\n",
       "    \n",
       "    \n",
       "    // We load the JSON file.\n",
       "    d3.json(\"graph.json\", function(error, graph) {\n",
       "        // In this block, the file has been loaded\n",
       "        // and the 'graph' object contains our graph.\n",
       "        \n",
       "        // We load the nodes and links in the force-directed\n",
       "        // graph.\n",
       "        force.nodes(graph.nodes)\n",
       "            .links(graph.links)\n",
       "            .start();\n",
       "\n",
       "        // We create a <line> SVG element for each link\n",
       "        // in the graph.\n",
       "        var link = svg.selectAll(\".link\")\n",
       "            .data(graph.links)\n",
       "            .enter().append(\"line\")\n",
       "            .attr(\"class\", \"link\");\n",
       "\n",
       "        // We create a <circle> SVG element for each node\n",
       "        // in the graph, and we specify a few attributes.\n",
       "        var node = svg.selectAll(\".node\")\n",
       "            .data(graph.nodes)\n",
       "            .enter().append(\"circle\")\n",
       "            .attr(\"class\", \"node\")\n",
       "            .attr(\"r\", function(d){return 2*d.Degree+4})  // radius\n",
       "            .style(\"fill\", function(d) {\n",
       "                // The node color depends on the club.\n",
       "                return color(d.Label[0]); \n",
       "            })\n",
       "            .call(force.drag);\n",
       "\n",
       "        // The name of each node is the node number.\n",
       "        node.append(\"title\")\n",
       "            .text(function(d) { return d.id; });\n",
       "\n",
       "        // We bind the positions of the SVG elements\n",
       "        // to the positions of the dynamic force-directed graph,\n",
       "        // at each time step.\n",
       "        force.on(\"tick\", function() {\n",
       "            link.attr(\"x1\", function(d) { return d.source.x; })\n",
       "                .attr(\"y1\", function(d) { return d.source.y; })\n",
       "                .attr(\"x2\", function(d) { return d.target.x; })\n",
       "                .attr(\"y2\", function(d) { return d.target.y; });\n",
       "\n",
       "            node.attr(\"cx\", function(d) { return d.x; })\n",
       "                .attr(\"cy\", function(d) { return d.y; });\n",
       "        });\n",
       "        \n",
       "        // apply the zoom behavior to the svg image\n",
       "        zoomListener(svg);\n",
       "        \n",
       "    });\n",
       "});"
      ],
      "text/plain": [
       "<IPython.core.display.Javascript object>"
      ]
     },
     "metadata": {},
     "output_type": "display_data"
    }
   ],
   "source": [
    "%%javascript\n",
    "// We load the d3.js library from the Web.\n",
    "require.config({paths: {d3: \"http://d3js.org/d3.v3.min\"}});\n",
    "require([\"d3\"], function(d3) {\n",
    "    // The code in this block is executed when the \n",
    "    // d3.js library has been loaded.\n",
    "    \n",
    "    // First, we specify the size of the canvas containing\n",
    "    // the visualization (size of the <div> element).\n",
    "    var width = 800,\n",
    "        height = 600;\n",
    "\n",
    "    // We create a color scale.\n",
    "    var color = d3.scale.category10();\n",
    "\n",
    "    // We create a force-directed dynamic graph layout.\n",
    "    var force = d3.layout.force()\n",
    "        .charge(-120)\n",
    "        .linkDistance(30)\n",
    "        .size([width, height]);\n",
    "\n",
    "    // In the <div> element, we create a <svg> graphic\n",
    "    // that will contain our interactive visualization.\n",
    "    var svg = d3.select(\"#d3-example\").select(\"svg\")\n",
    "    if (svg.empty()) {\n",
    "        svg = d3.select(\"#d3-example\").append(\"svg\")\n",
    "                    .attr(\"width\", width)\n",
    "                    .attr(\"height\", height);\n",
    "    }\n",
    "    \n",
    "    // create the zoom listener\n",
    "    var zoomListener = d3.behavior.zoom()\n",
    "      .scaleExtent([0.1, 3])\n",
    "      .on(\"zoom\", zoomHandler);\n",
    "\n",
    "    // function for handling zoom event\n",
    "    function zoomHandler() {\n",
    "      vis.attr(\"transform\", \"translate(\" + d3.event.translate + \")scale(\" + d3.event.scale + \")\");\n",
    "    }\n",
    "\n",
    "    \n",
    "    \n",
    "    // We load the JSON file.\n",
    "    d3.json(\"graph.json\", function(error, graph) {\n",
    "        // In this block, the file has been loaded\n",
    "        // and the 'graph' object contains our graph.\n",
    "        \n",
    "        // We load the nodes and links in the force-directed\n",
    "        // graph.\n",
    "        force.nodes(graph.nodes)\n",
    "            .links(graph.links)\n",
    "            .start();\n",
    "\n",
    "        // We create a <line> SVG element for each link\n",
    "        // in the graph.\n",
    "        var link = svg.selectAll(\".link\")\n",
    "            .data(graph.links)\n",
    "            .enter().append(\"line\")\n",
    "            .attr(\"class\", \"link\");\n",
    "\n",
    "        // We create a <circle> SVG element for each node\n",
    "        // in the graph, and we specify a few attributes.\n",
    "        var node = svg.selectAll(\".node\")\n",
    "            .data(graph.nodes)\n",
    "            .enter().append(\"circle\")\n",
    "            .attr(\"class\", \"node\")\n",
    "            .attr(\"r\", function(d){return 2*d.Degree+4})  // radius\n",
    "            .style(\"fill\", function(d) {\n",
    "                // The node color depends on the club.\n",
    "                return color(d.Label[0]); \n",
    "            })\n",
    "            .call(force.drag);\n",
    "\n",
    "        // The name of each node is the node number.\n",
    "        node.append(\"title\")\n",
    "            .text(function(d) { return d.id; });\n",
    "\n",
    "        // We bind the positions of the SVG elements\n",
    "        // to the positions of the dynamic force-directed graph,\n",
    "        // at each time step.\n",
    "        force.on(\"tick\", function() {\n",
    "            link.attr(\"x1\", function(d) { return d.source.x; })\n",
    "                .attr(\"y1\", function(d) { return d.source.y; })\n",
    "                .attr(\"x2\", function(d) { return d.target.x; })\n",
    "                .attr(\"y2\", function(d) { return d.target.y; });\n",
    "\n",
    "            node.attr(\"cx\", function(d) { return d.x; })\n",
    "                .attr(\"cy\", function(d) { return d.y; });\n",
    "        });\n",
    "        \n",
    "        // apply the zoom behavior to the svg image\n",
    "        zoomListener(svg);\n",
    "        \n",
    "    });\n",
    "});"
   ]
  },
  {
   "cell_type": "markdown",
   "metadata": {},
   "source": [
    "# networkx to javascript explroation "
   ]
  },
  {
   "cell_type": "code",
   "execution_count": 15,
   "metadata": {
    "collapsed": false
   },
   "outputs": [
    {
     "data": {
      "application/javascript": [
       "element.append('Hello World, Again!');"
      ],
      "text/plain": [
       "<IPython.core.display.Javascript object>"
      ]
     },
     "execution_count": 15,
     "metadata": {},
     "output_type": "execute_result"
    }
   ],
   "source": [
    "from IPython.display import Javascript\n",
    "Javascript(\"element.append('Hello World, Again!');\")"
   ]
  },
  {
   "cell_type": "code",
   "execution_count": 17,
   "metadata": {
    "collapsed": false
   },
   "outputs": [
    {
     "data": {
      "application/javascript": [
       "require.config({\n",
       "    paths: {\n",
       "        'three': \"http://cdnjs.cloudflare.com/ajax/libs/three.js/r69/three\",\n",
       "    }\n",
       "});"
      ],
      "text/plain": [
       "<IPython.core.display.Javascript object>"
      ]
     },
     "metadata": {},
     "output_type": "display_data"
    }
   ],
   "source": [
    "%%javascript\n",
    "require.config({\n",
    "    paths: {\n",
    "        'three': \"http://cdnjs.cloudflare.com/ajax/libs/three.js/r69/three\",\n",
    "    }\n",
    "});"
   ]
  },
  {
   "cell_type": "code",
   "execution_count": 20,
   "metadata": {
    "collapsed": false
   },
   "outputs": [
    {
     "data": {
      "application/javascript": [
       "require(['three'], function() {\n",
       "    element.append(THREE.REVISION);\n",
       "});"
      ],
      "text/plain": [
       "<IPython.core.display.Javascript object>"
      ]
     },
     "metadata": {},
     "output_type": "display_data"
    }
   ],
   "source": [
    "%%javascript\n",
    "require(['three'], function() {\n",
    "    element.append(THREE.REVISION);\n",
    "});"
   ]
  },
  {
   "cell_type": "code",
   "execution_count": null,
   "metadata": {
    "collapsed": false
   },
   "outputs": [],
   "source": [
    "%%javascript\n",
    "var renderer = new THREE.WebGLRenderer({ antialias: true });\n",
    "var canvas = renderer.domElement;\n",
    "element.append(canvas);\n",
    "var camera = new THREE.PerspectiveCamera(70, canvas.width / canvas.height, 1, 1000);\n",
    "camera.position.z = 400;\n",
    "var scene = new THREE.Scene();\n",
    "var material = new THREE.MeshDepthMaterial();\n",
    "var mesh = new THREE.Mesh(new THREE.CubeGeometry(200, 200, 200), material);\n",
    "scene.add(mesh);\n",
    "function animate() {\n",
    "    renderer.render(scene, camera);\n",
    "    mesh.rotation.x += 0.005;\n",
    "    mesh.rotation.y += 0.01;\n",
    "    requestAnimationFrame(animate);\n",
    "}\n",
    "animate();"
   ]
  },
  {
   "cell_type": "markdown",
   "metadata": {},
   "source": [
    "%%javascript\n",
    "require(['three'], function() {\n",
    "    element.append(THREE.REVISION);\n",
    "});"
   ]
  },
  {
   "cell_type": "markdown",
   "metadata": {},
   "source": [
    "Generating Javascript from Python\n",
    "You often want to generate Javascript from Python.\n",
    "\n",
    "Here's a hack that takes a fragment of Javascript, finds all the functions that are declared, and generates bound Python methods for each function:"
   ]
  },
  {
   "cell_type": "code",
   "execution_count": 24,
   "metadata": {
    "collapsed": true
   },
   "outputs": [],
   "source": [
    "import types\n",
    "from functools import partial\n",
    "import json\n",
    "\n",
    "class JSCode(object):\n",
    "    def __init__(self, code):\n",
    "        self.code = code\n",
    "        self.invokes = \"\"\n",
    "        \n",
    "        # Find all the function name(  lines in the Javasript code\n",
    "        for line in code.split(\"\\n\"):\n",
    "            line = line.strip().split()\n",
    "            if line and line[0] == 'function':\n",
    "                funcname = line[1].split(\"(\")[0]\n",
    "                \n",
    "                # For each create a bound method to add to the list of invocations\n",
    "                def invoke(self, *args):\n",
    "                    argstr = ','.join([json.dumps(arg) for arg in args])\n",
    "                    self.invokes += \"%s(%s);\\n\" % (funcname, argstr)                \n",
    "\n",
    "                setattr(self, funcname, types.MethodType(invoke, self))    \n",
    "                \n",
    "    def _repr_javascript_(self):\n",
    "        \"\"\"Return the code definitions and all invocations\"\"\"\n",
    "        return self.code + self.invokes"
   ]
  },
  {
   "cell_type": "code",
   "execution_count": 25,
   "metadata": {
    "collapsed": true
   },
   "outputs": [],
   "source": [
    "code = JSCode(\"\"\"\n",
    "    function test() {\n",
    "        console.log(\"test!\");\n",
    "    }\n",
    "\n",
    "    function output(string) {\n",
    "        element.append(string);\n",
    "    }\n",
    "\"\"\")"
   ]
  },
  {
   "cell_type": "markdown",
   "metadata": {},
   "source": [
    "Now, the code object has test() and output() methods corresponding to Javascript methods:"
   ]
  },
  {
   "cell_type": "code",
   "execution_count": 26,
   "metadata": {
    "collapsed": false
   },
   "outputs": [
    {
     "data": {
      "application/javascript": [
       "\n",
       "    function test() {\n",
       "        console.log(\"test!\");\n",
       "    }\n",
       "\n",
       "    function output(string) {\n",
       "        element.append(string);\n",
       "    }\n",
       "output(\"foo\");\n",
       "output(\" and bar\");\n"
      ],
      "text/plain": [
       "<__main__.JSCode at 0x10d292b90>"
      ]
     },
     "execution_count": 26,
     "metadata": {},
     "output_type": "execute_result"
    }
   ],
   "source": [
    "code.output(\"foo\")\n",
    "code.output(\" and bar\")\n",
    "code"
   ]
  },
  {
   "cell_type": "markdown",
   "metadata": {},
   "source": [
    "Here is the corresponding Javascript fragment that was generated:"
   ]
  },
  {
   "cell_type": "code",
   "execution_count": 27,
   "metadata": {
    "collapsed": false
   },
   "outputs": [
    {
     "name": "stdout",
     "output_type": "stream",
     "text": [
      "\n",
      "    function test() {\n",
      "        console.log(\"test!\");\n",
      "    }\n",
      "\n",
      "    function output(string) {\n",
      "        element.append(string);\n",
      "    }\n",
      "output(\"foo\");\n",
      "output(\" and bar\");\n",
      "\n"
     ]
    }
   ],
   "source": [
    "print code._repr_javascript_()"
   ]
  },
  {
   "cell_type": "code",
   "execution_count": null,
   "metadata": {
    "collapsed": true
   },
   "outputs": [],
   "source": []
  }
 ],
 "metadata": {
  "kernelspec": {
   "display_name": "Python 2",
   "language": "python",
   "name": "python2"
  },
  "language_info": {
   "codemirror_mode": {
    "name": "ipython",
    "version": 2
   },
   "file_extension": ".py",
   "mimetype": "text/x-python",
   "name": "python",
   "nbconvert_exporter": "python",
   "pygments_lexer": "ipython2",
   "version": "2.7.9"
  }
 },
 "nbformat": 4,
 "nbformat_minor": 0
}
