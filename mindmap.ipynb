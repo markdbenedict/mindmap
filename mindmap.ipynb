{
 "cells": [
  {
   "cell_type": "code",
   "execution_count": 1,
   "metadata": {
    "collapsed": false
   },
   "outputs": [
    {
     "name": "stdout",
     "output_type": "stream",
     "text": [
      "Couldn't import dot_parser, loading of dot files will not be possible.\n"
     ]
    }
   ],
   "source": [
    "import networkx as nx\n",
    "import pandas as pd\n",
    "import matplotlib.pyplot as plt\n",
    "import numpy as np"
   ]
  },
  {
   "cell_type": "code",
   "execution_count": 2,
   "metadata": {
    "collapsed": false
   },
   "outputs": [],
   "source": [
    "raw_data = pd.io.excel.read_excel('SzarugaMindMap_Draft_v2.xlsx',parse_cols='A:D')"
   ]
  },
  {
   "cell_type": "code",
   "execution_count": 3,
   "metadata": {
    "collapsed": false
   },
   "outputs": [
    {
     "data": {
      "text/html": [
       "<div style=\"max-height:1000px;max-width:1500px;overflow:auto;\">\n",
       "<table border=\"1\" class=\"dataframe\">\n",
       "  <thead>\n",
       "    <tr style=\"text-align: right;\">\n",
       "      <th></th>\n",
       "      <th>Source/Subject</th>\n",
       "      <th>Predicate</th>\n",
       "      <th>Target/Object</th>\n",
       "      <th>Weight (1-10)</th>\n",
       "    </tr>\n",
       "  </thead>\n",
       "  <tbody>\n",
       "    <tr>\n",
       "      <th>0</th>\n",
       "      <td>      Steve Szaruga</td>\n",
       "      <td>      Knows</td>\n",
       "      <td> Hypersonic Weapons</td>\n",
       "      <td> 9</td>\n",
       "    </tr>\n",
       "    <tr>\n",
       "      <th>1</th>\n",
       "      <td>      Steve Szaruga</td>\n",
       "      <td> Belongs In</td>\n",
       "      <td>            AFRL/RX</td>\n",
       "      <td> 9</td>\n",
       "    </tr>\n",
       "    <tr>\n",
       "      <th>2</th>\n",
       "      <td> Hypersonic Weapons</td>\n",
       "      <td>   Involves</td>\n",
       "      <td>             Metals</td>\n",
       "      <td> 9</td>\n",
       "    </tr>\n",
       "    <tr>\n",
       "      <th>3</th>\n",
       "      <td> Hypersonic Weapons</td>\n",
       "      <td>   Involves</td>\n",
       "      <td>        Soft Matter</td>\n",
       "      <td> 1</td>\n",
       "    </tr>\n",
       "    <tr>\n",
       "      <th>4</th>\n",
       "      <td> Hypersonic Weapons</td>\n",
       "      <td>   Involves</td>\n",
       "      <td>           Ceramics</td>\n",
       "      <td> 5</td>\n",
       "    </tr>\n",
       "  </tbody>\n",
       "</table>\n",
       "</div>"
      ],
      "text/plain": [
       "       Source/Subject   Predicate       Target/Object  Weight (1-10)\n",
       "0       Steve Szaruga       Knows  Hypersonic Weapons              9\n",
       "1       Steve Szaruga  Belongs In             AFRL/RX              9\n",
       "2  Hypersonic Weapons    Involves              Metals              9\n",
       "3  Hypersonic Weapons    Involves         Soft Matter              1\n",
       "4  Hypersonic Weapons    Involves            Ceramics              5"
      ]
     },
     "execution_count": 3,
     "metadata": {},
     "output_type": "execute_result"
    }
   ],
   "source": [
    "raw_data.head()"
   ]
  },
  {
   "cell_type": "code",
   "execution_count": 4,
   "metadata": {
    "collapsed": false
   },
   "outputs": [
    {
     "name": "stdout",
     "output_type": "stream",
     "text": [
      "True\n",
      "True\n"
     ]
    }
   ],
   "source": [
    "#boolean checks for whether a string is in a column\n",
    "print sum(raw_data['Source/Subject'].str.contains('Steve Szaruga'))>0\n",
    "print 'Steve Szaruga' in raw_data['Source/Subject'].values "
   ]
  },
  {
   "cell_type": "code",
   "execution_count": 5,
   "metadata": {
    "collapsed": false
   },
   "outputs": [],
   "source": [
    "#read in the ontology section of the excel file\n",
    "ontology = pd.io.excel.read_excel('SzarugaMindMap_Draft_v2.xlsx',parse_cols='F:J',skiprows=2)"
   ]
  },
  {
   "cell_type": "code",
   "execution_count": 6,
   "metadata": {
    "collapsed": false
   },
   "outputs": [
    {
     "data": {
      "text/html": [
       "<div style=\"max-height:1000px;max-width:1500px;overflow:auto;\">\n",
       "<table border=\"1\" class=\"dataframe\">\n",
       "  <thead>\n",
       "    <tr style=\"text-align: right;\">\n",
       "      <th></th>\n",
       "      <th>Discliplines</th>\n",
       "      <th>RX Function</th>\n",
       "      <th>RXM Roadmap</th>\n",
       "      <th>Contact</th>\n",
       "      <th>Predicates</th>\n",
       "    </tr>\n",
       "  </thead>\n",
       "  <tbody>\n",
       "    <tr>\n",
       "      <th>0 </th>\n",
       "      <td>     Hypersonic Weapons</td>\n",
       "      <td>           Metals</td>\n",
       "      <td>     Manufacturing Research</td>\n",
       "      <td>         DARPA</td>\n",
       "      <td>         Knows</td>\n",
       "    </tr>\n",
       "    <tr>\n",
       "      <th>1 </th>\n",
       "      <td> Additive Manufacturing</td>\n",
       "      <td>      Soft Matter</td>\n",
       "      <td>                 Structures</td>\n",
       "      <td>  Andy Swanson</td>\n",
       "      <td>    Belongs In</td>\n",
       "    </tr>\n",
       "    <tr>\n",
       "      <th>2 </th>\n",
       "      <td>      Aircraft Coatings</td>\n",
       "      <td>         Ceramics</td>\n",
       "      <td> Propulsion-Turbine Engines</td>\n",
       "      <td>  Ken Davidson</td>\n",
       "      <td>      Involves</td>\n",
       "    </tr>\n",
       "    <tr>\n",
       "      <th>3 </th>\n",
       "      <td>              Stats/DOE</td>\n",
       "      <td>       Composites</td>\n",
       "      <td>              Air Armaments</td>\n",
       "      <td> Mary Kinsella</td>\n",
       "      <td> Is Studied By</td>\n",
       "    </tr>\n",
       "    <tr>\n",
       "      <th>4 </th>\n",
       "      <td>              Airframes</td>\n",
       "      <td>             Data</td>\n",
       "      <td>                Sustainment</td>\n",
       "      <td>            RX</td>\n",
       "      <td>           NaN</td>\n",
       "    </tr>\n",
       "    <tr>\n",
       "      <th>5 </th>\n",
       "      <td>                    NaN</td>\n",
       "      <td>  Process Control</td>\n",
       "      <td>                    LOM/LOA</td>\n",
       "      <td>            RW</td>\n",
       "      <td>           NaN</td>\n",
       "    </tr>\n",
       "    <tr>\n",
       "      <th>6 </th>\n",
       "      <td>                    NaN</td>\n",
       "      <td>       Simulation</td>\n",
       "      <td>         C4ISR H/W-Aircraft</td>\n",
       "      <td>            RQ</td>\n",
       "      <td>           NaN</td>\n",
       "    </tr>\n",
       "    <tr>\n",
       "      <th>7 </th>\n",
       "      <td>                    NaN</td>\n",
       "      <td>       Inspection</td>\n",
       "      <td>            C4ISR H/W-Space</td>\n",
       "      <td>           NaN</td>\n",
       "      <td>           NaN</td>\n",
       "    </tr>\n",
       "    <tr>\n",
       "      <th>8 </th>\n",
       "      <td>                    NaN</td>\n",
       "      <td> Electronic Matls</td>\n",
       "      <td>                        NaN</td>\n",
       "      <td>           NaN</td>\n",
       "      <td>           NaN</td>\n",
       "    </tr>\n",
       "    <tr>\n",
       "      <th>9 </th>\n",
       "      <td>                    NaN</td>\n",
       "      <td>   Photonic Matls</td>\n",
       "      <td>                        NaN</td>\n",
       "      <td>           NaN</td>\n",
       "      <td>           NaN</td>\n",
       "    </tr>\n",
       "    <tr>\n",
       "      <th>10</th>\n",
       "      <td>                    NaN</td>\n",
       "      <td>              NaN</td>\n",
       "      <td>                        NaN</td>\n",
       "      <td>           NaN</td>\n",
       "      <td>           NaN</td>\n",
       "    </tr>\n",
       "    <tr>\n",
       "      <th>11</th>\n",
       "      <td>                    NaN</td>\n",
       "      <td>              NaN</td>\n",
       "      <td>                        NaN</td>\n",
       "      <td>           NaN</td>\n",
       "      <td>           NaN</td>\n",
       "    </tr>\n",
       "  </tbody>\n",
       "</table>\n",
       "</div>"
      ],
      "text/plain": [
       "              Discliplines       RX Function                 RXM Roadmap  \\\n",
       "0       Hypersonic Weapons            Metals      Manufacturing Research   \n",
       "1   Additive Manufacturing       Soft Matter                  Structures   \n",
       "2        Aircraft Coatings          Ceramics  Propulsion-Turbine Engines   \n",
       "3                Stats/DOE        Composites               Air Armaments   \n",
       "4                Airframes              Data                 Sustainment   \n",
       "5                      NaN   Process Control                     LOM/LOA   \n",
       "6                      NaN        Simulation          C4ISR H/W-Aircraft   \n",
       "7                      NaN        Inspection             C4ISR H/W-Space   \n",
       "8                      NaN  Electronic Matls                         NaN   \n",
       "9                      NaN    Photonic Matls                         NaN   \n",
       "10                     NaN               NaN                         NaN   \n",
       "11                     NaN               NaN                         NaN   \n",
       "\n",
       "          Contact     Predicates  \n",
       "0           DARPA          Knows  \n",
       "1    Andy Swanson     Belongs In  \n",
       "2    Ken Davidson       Involves  \n",
       "3   Mary Kinsella  Is Studied By  \n",
       "4              RX            NaN  \n",
       "5              RW            NaN  \n",
       "6              RQ            NaN  \n",
       "7             NaN            NaN  \n",
       "8             NaN            NaN  \n",
       "9             NaN            NaN  \n",
       "10            NaN            NaN  \n",
       "11            NaN            NaN  "
      ]
     },
     "execution_count": 6,
     "metadata": {},
     "output_type": "execute_result"
    }
   ],
   "source": [
    "ontology[:12] #appear to be only 30 unique terms in the ontology, 38 are in the raw_data"
   ]
  },
  {
   "cell_type": "code",
   "execution_count": 7,
   "metadata": {
    "collapsed": false
   },
   "outputs": [
    {
     "data": {
      "text/plain": [
       "Index([u'Discliplines', u'RX Function', u'RXM Roadmap', u'Contact', u'Predicates'], dtype='object')"
      ]
     },
     "execution_count": 7,
     "metadata": {},
     "output_type": "execute_result"
    }
   ],
   "source": [
    "ontology.keys()"
   ]
  },
  {
   "cell_type": "code",
   "execution_count": 8,
   "metadata": {
    "collapsed": false
   },
   "outputs": [],
   "source": [
    "#create a set of nodes named in Ontology list\n",
    "from sets import Set\n",
    "ont_set = Set()\n",
    "for col in ontology.ix[:,:4]:\n",
    "    col_set = Set(ontology[col].dropna().unique())\n",
    "    ont_set.union_update(  col_set )"
   ]
  },
  {
   "cell_type": "code",
   "execution_count": 9,
   "metadata": {
    "collapsed": false
   },
   "outputs": [
    {
     "data": {
      "text/plain": [
       "(Set([u'Soft Matter', u'Manufacturing Research', u'Andy Swanson', u'DARPA', u'Simulation', u'Sustainment', u'RW', u'Additive Manufacturing', u'Mary Kinsella', u'Hypersonic Weapons', u'Ken Davidson', u'Composites', u'Inspection', u'Photonic Matls', u'LOM/LOA', u'RQ', u'Stats/DOE', u'Air Armaments', u'Aircraft Coatings', u'Propulsion-Turbine Engines', u'Structures', u'RX', u'Metals', u'C4ISR H/W-Space', u'Electronic Matls', u'C4ISR H/W-Aircraft', u'Process Control', u'Airframes', u'Data', u'Ceramics']),\n",
       " 30)"
      ]
     },
     "execution_count": 9,
     "metadata": {},
     "output_type": "execute_result"
    }
   ],
   "source": [
    "ont_set,len(ont_set)"
   ]
  },
  {
   "cell_type": "code",
   "execution_count": 10,
   "metadata": {
    "collapsed": true
   },
   "outputs": [],
   "source": [
    "#convert ontology from a pandas dataframe (table) to a key:value pair dictionary. \n",
    "#the key is the category, the value is the list of valid terms in that category\n",
    "ontology = {key:ontology[key].dropna() for key in ontology.keys() }"
   ]
  },
  {
   "cell_type": "code",
   "execution_count": 11,
   "metadata": {
    "collapsed": false,
    "scrolled": true
   },
   "outputs": [
    {
     "data": {
      "text/plain": [
       "{u'Contact': 0            DARPA\n",
       " 1     Andy Swanson\n",
       " 2     Ken Davidson\n",
       " 3    Mary Kinsella\n",
       " 4               RX\n",
       " 5               RW\n",
       " 6               RQ\n",
       " Name: Contact, dtype: object, u'Discliplines': 0        Hypersonic Weapons\n",
       " 1    Additive Manufacturing\n",
       " 2         Aircraft Coatings\n",
       " 3                 Stats/DOE\n",
       " 4                 Airframes\n",
       " Name: Discliplines, dtype: object, u'Predicates': 0            Knows\n",
       " 1       Belongs In\n",
       " 2         Involves\n",
       " 3    Is Studied By\n",
       " Name: Predicates, dtype: object, u'RX Function': 0              Metals\n",
       " 1         Soft Matter\n",
       " 2            Ceramics\n",
       " 3          Composites\n",
       " 4                Data\n",
       " 5     Process Control\n",
       " 6          Simulation\n",
       " 7          Inspection\n",
       " 8    Electronic Matls\n",
       " 9      Photonic Matls\n",
       " Name: RX Function, dtype: object, u'RXM Roadmap': 0        Manufacturing Research\n",
       " 1                    Structures\n",
       " 2    Propulsion-Turbine Engines\n",
       " 3                 Air Armaments\n",
       " 4                   Sustainment\n",
       " 5                       LOM/LOA\n",
       " 6            C4ISR H/W-Aircraft\n",
       " 7               C4ISR H/W-Space\n",
       " Name: RXM Roadmap, dtype: object}"
      ]
     },
     "execution_count": 11,
     "metadata": {},
     "output_type": "execute_result"
    }
   ],
   "source": [
    "#display the dictionary\n",
    "ontology"
   ]
  },
  {
   "cell_type": "code",
   "execution_count": 12,
   "metadata": {
    "collapsed": false
   },
   "outputs": [
    {
     "data": {
      "text/plain": [
       "(38,)"
      ]
     },
     "execution_count": 12,
     "metadata": {},
     "output_type": "execute_result"
    }
   ],
   "source": [
    "#create a list of unique nodes\n",
    "subject_nodes=raw_data['Source/Subject']\n",
    "target_nodes = raw_data['Target/Object']\n",
    "#combine the two nodes types and remove duplicates\n",
    "nodes = subject_nodes.append(target_nodes).drop_duplicates()\n",
    "#find out how many unique nodes will be added to the graph\n",
    "nodes.shape"
   ]
  },
  {
   "cell_type": "code",
   "execution_count": 13,
   "metadata": {
    "collapsed": false
   },
   "outputs": [
    {
     "data": {
      "text/plain": [
       "0                   Steve Szaruga\n",
       "2              Hypersonic Weapons\n",
       "13         Additive Manufacturing\n",
       "28                   Andy Swanson\n",
       "36                  Mary Kinsella\n",
       "48                     Structures\n",
       "73         Manufacturing Research\n",
       "74     Propulsion-Turbine Engines\n",
       "75                  Air Armaments\n",
       "76                    Sustainment\n",
       "77                        LOM/LOA\n",
       "78             C4ISR H/W-Aircraft\n",
       "79                C4ISR H/W-Space\n",
       "151                  Ken Davidson\n",
       "171                Kermit Stearns\n",
       "191             Aircraft Coatings\n",
       "202                     Stats/DOE\n",
       "212                        Metals\n",
       "213                   Soft Matter\n",
       "214                      Ceramics\n",
       "215                    Composites\n",
       "216                          Data\n",
       "217               Process Control\n",
       "218                    Simulation\n",
       "219                    Inspection\n",
       "220              Electronic Matls\n",
       "221                Photonic Matls\n",
       "256                     Airframes\n",
       "1                         AFRL/RX\n",
       "23                             RX\n",
       "24                             RQ\n",
       "25                       Industry\n",
       "26                          DARPA\n",
       "31             Thermal Protection\n",
       "32                     Insulation\n",
       "33                       Nose Tip\n",
       "34                   Leading Edge\n",
       "222                            RW\n",
       "dtype: object"
      ]
     },
     "execution_count": 13,
     "metadata": {},
     "output_type": "execute_result"
    }
   ],
   "source": [
    "#display the unique node names\n",
    "nodes"
   ]
  },
  {
   "cell_type": "code",
   "execution_count": 14,
   "metadata": {
    "collapsed": false
   },
   "outputs": [],
   "source": [
    "#create new NetworkX directed graph\n",
    "g=nx.Graph()\n",
    "\n",
    "#add all nodes to graph\n",
    "for node in nodes:\n",
    "    g.add_node(node)\n",
    "    \n",
    "#iterate through edges and add those\n",
    "for index, row in raw_data.iterrows():\n",
    "    g.add_edge(row['Source/Subject'],\n",
    "               row['Target/Object'],\n",
    "               key= row['Predicate'],\n",
    "               weight = row['Weight (1-10)'])"
   ]
  },
  {
   "cell_type": "code",
   "execution_count": 15,
   "metadata": {
    "collapsed": false
   },
   "outputs": [
    {
     "data": {
      "text/plain": [
       "{u'AFRL/RX',\n",
       " u'Industry',\n",
       " u'Insulation',\n",
       " u'Kermit Stearns',\n",
       " u'Leading Edge',\n",
       " u'Nose Tip',\n",
       " u'Steve Szaruga',\n",
       " u'Thermal Protection'}"
      ]
     },
     "execution_count": 15,
     "metadata": {},
     "output_type": "execute_result"
    }
   ],
   "source": [
    "#these are the nodes that are in the raw data that are not in the ontology\n",
    "set(g.node.keys()).difference(ont_set)"
   ]
  },
  {
   "cell_type": "code",
   "execution_count": 16,
   "metadata": {
    "collapsed": false
   },
   "outputs": [
    {
     "data": {
      "text/plain": [
       "([u'Steve Szaruga',\n",
       "  u'Soft Matter',\n",
       "  u'Additive Manufacturing',\n",
       "  u'Mary Kinsella',\n",
       "  u'Hypersonic Weapons',\n",
       "  u'Ken Davidson',\n",
       "  u'Kermit Stearns',\n",
       "  u'Air Armaments',\n",
       "  u'RQ',\n",
       "  u'Structures',\n",
       "  u'RX',\n",
       "  u'C4ISR H/W-Space',\n",
       "  u'C4ISR H/W-Aircraft',\n",
       "  u'Thermal Protection',\n",
       "  u'Airframes',\n",
       "  u'Data',\n",
       "  u'Ceramics',\n",
       "  u'Leading Edge',\n",
       "  u'Industry',\n",
       "  u'Process Control',\n",
       "  u'Andy Swanson',\n",
       "  u'Simulation',\n",
       "  u'Sustainment',\n",
       "  u'RW',\n",
       "  u'Composites',\n",
       "  u'Inspection',\n",
       "  u'Photonic Matls',\n",
       "  u'LOM/LOA',\n",
       "  u'Stats/DOE',\n",
       "  u'Aircraft Coatings',\n",
       "  u'Propulsion-Turbine Engines',\n",
       "  u'AFRL/RX',\n",
       "  u'Metals',\n",
       "  u'DARPA',\n",
       "  u'Nose Tip',\n",
       "  u'Electronic Matls',\n",
       "  u'Manufacturing Research',\n",
       "  u'Insulation'],\n",
       " 38)"
      ]
     },
     "execution_count": 16,
     "metadata": {},
     "output_type": "execute_result"
    }
   ],
   "source": [
    "#list all nodes in the adjacency list, and total number\n",
    "g.adj.keys(), len(g.adj.keys())"
   ]
  },
  {
   "cell_type": "code",
   "execution_count": 17,
   "metadata": {
    "collapsed": false
   },
   "outputs": [
    {
     "data": {
      "text/plain": [
       "(276, 38, 0)"
      ]
     },
     "execution_count": 17,
     "metadata": {},
     "output_type": "execute_result"
    }
   ],
   "source": [
    "g.number_of_edges(),g.number_of_nodes(),g.number_of_selfloops()"
   ]
  },
  {
   "cell_type": "code",
   "execution_count": 18,
   "metadata": {
    "collapsed": false
   },
   "outputs": [
    {
     "data": {
      "text/plain": [
       "{'key': u'Knows', 'weight': 9}"
      ]
     },
     "execution_count": 18,
     "metadata": {},
     "output_type": "execute_result"
    }
   ],
   "source": [
    "#the double indexing of the graph structure returns a single edge\n",
    "g['Steve Szaruga']['Additive Manufacturing']"
   ]
  },
  {
   "cell_type": "code",
   "execution_count": 21,
   "metadata": {
    "collapsed": false
   },
   "outputs": [
    {
     "data": {
      "text/plain": [
       "{}"
      ]
     },
     "execution_count": 21,
     "metadata": {},
     "output_type": "execute_result"
    }
   ],
   "source": [
    "#whereas to get the node, you must index the g.node\n",
    "g.node['Steve Szaruga']"
   ]
  },
  {
   "cell_type": "code",
   "execution_count": 22,
   "metadata": {
    "collapsed": false
   },
   "outputs": [
    {
     "data": {
      "text/plain": [
       "{u'AFRL/RX': {u'Steve Szaruga': {'key': u'Belongs In', 'weight': 9}},\n",
       " u'Additive Manufacturing': {u'Ceramics': {'key': u'Belongs In', 'weight': 1},\n",
       "  u'Composites': {'key': u'Belongs In', 'weight': 5},\n",
       "  u'DARPA': {'key': u'Is Studied By', 'weight': 5},\n",
       "  u'Data': {'key': u'Belongs In', 'weight': 9},\n",
       "  u'Electronic Matls': {'key': u'Belongs In', 'weight': 5},\n",
       "  u'Industry': {'key': u'Is Studied By', 'weight': 9},\n",
       "  u'Inspection': {'key': u'Belongs In', 'weight': 5},\n",
       "  u'Mary Kinsella': {'key': u'Knows', 'weight': 9},\n",
       "  u'Metals': {'key': u'Belongs In', 'weight': 9},\n",
       "  u'Photonic Matls': {'key': u'Belongs In', 'weight': 1},\n",
       "  u'Process Control': {'key': u'Belongs In', 'weight': 5},\n",
       "  u'RQ': {'key': u'Is Studied By', 'weight': 1},\n",
       "  u'RW': {'key': u'Is Studied By', 'weight': 1},\n",
       "  u'RX': {'key': u'Is Studied By', 'weight': 9},\n",
       "  u'Simulation': {'key': u'Belongs In', 'weight': 5},\n",
       "  u'Soft Matter': {'key': u'Belongs In', 'weight': 9},\n",
       "  u'Steve Szaruga': {'key': u'Knows', 'weight': 9}},\n",
       " u'Air Armaments': {u'Ceramics': {'key': u'Involves', 'weight': 1},\n",
       "  u'Composites': {'key': u'Involves', 'weight': 1},\n",
       "  u'Data': {'key': u'Involves', 'weight': 5},\n",
       "  u'Electronic Matls': {'key': u'Involves', 'weight': 5},\n",
       "  u'Inspection': {'key': u'Involves', 'weight': 5},\n",
       "  u'Ken Davidson': {'key': u'Knows', 'weight': 1},\n",
       "  u'Kermit Stearns': {'key': u'Knows', 'weight': 9},\n",
       "  u'Metals': {'key': u'Involves', 'weight': 9},\n",
       "  u'Photonic Matls': {'key': u'Involves', 'weight': 1},\n",
       "  u'Process Control': {'key': u'Involves', 'weight': 1},\n",
       "  u'RX': {'key': u'Is Studied By', 'weight': 9},\n",
       "  u'Simulation': {'key': u'Involves', 'weight': 1},\n",
       "  u'Soft Matter': {'key': u'Involves', 'weight': 1},\n",
       "  u'Steve Szaruga': {'key': u'Knows', 'weight': 1}},\n",
       " u'Aircraft Coatings': {u'Ceramics': {'key': u'Belongs In', 'weight': 1},\n",
       "  u'Composites': {'key': u'Belongs In', 'weight': 5},\n",
       "  u'Data': {'key': u'Belongs In', 'weight': 1},\n",
       "  u'Electronic Matls': {'key': u'Belongs In', 'weight': 1},\n",
       "  u'Inspection': {'key': u'Belongs In', 'weight': 5},\n",
       "  u'Metals': {'key': u'Belongs In', 'weight': 5},\n",
       "  u'Photonic Matls': {'key': u'Belongs In', 'weight': 1},\n",
       "  u'Process Control': {'key': u'Belongs In', 'weight': 5},\n",
       "  u'RQ': {'key': u'Is Studied By', 'weight': 1},\n",
       "  u'RW': {'key': u'Is Studied By', 'weight': 1},\n",
       "  u'RX': {'key': u'Is Studied By', 'weight': 1},\n",
       "  u'Simulation': {'key': u'Belongs In', 'weight': 1},\n",
       "  u'Soft Matter': {'key': u'Belongs In', 'weight': 5},\n",
       "  u'Steve Szaruga': {'key': u'Knows', 'weight': 9}},\n",
       " u'Airframes': {u'Andy Swanson': {'key': u'Knows', 'weight': 9},\n",
       "  u'Ceramics': {'key': u'Belongs In', 'weight': 5},\n",
       "  u'Composites': {'key': u'Belongs In', 'weight': 9},\n",
       "  u'Data': {'key': u'Belongs In', 'weight': 5},\n",
       "  u'Electronic Matls': {'key': u'Belongs In', 'weight': 1},\n",
       "  u'Inspection': {'key': u'Belongs In', 'weight': 9},\n",
       "  u'Metals': {'key': u'Belongs In', 'weight': 9},\n",
       "  u'Photonic Matls': {'key': u'Belongs In', 'weight': 1},\n",
       "  u'Process Control': {'key': u'Belongs In', 'weight': 5},\n",
       "  u'RQ': {'key': u'Is Studied By', 'weight': 9},\n",
       "  u'RW': {'key': u'Is Studied By', 'weight': 9},\n",
       "  u'RX': {'key': u'Is Studied By', 'weight': 5},\n",
       "  u'Simulation': {'key': u'Belongs In', 'weight': 9},\n",
       "  u'Soft Matter': {'key': u'Belongs In', 'weight': 1},\n",
       "  u'Steve Szaruga': {'key': u'Knows', 'weight': 9}},\n",
       " u'Andy Swanson': {u'Airframes': {'key': u'Knows', 'weight': 9},\n",
       "  u'Hypersonic Weapons': {'key': u'Knows', 'weight': 9},\n",
       "  u'Insulation': {'key': u'Knows', 'weight': 9},\n",
       "  u'Leading Edge': {'key': u'Knows', 'weight': 5},\n",
       "  u'Nose Tip': {'key': u'Knows', 'weight': 5},\n",
       "  u'RQ': {'key': u'Belongs In', 'weight': 9},\n",
       "  u'Steve Szaruga': {'key': u'Knows', 'weight': 5},\n",
       "  u'Thermal Protection': {'key': u'Knows', 'weight': 9}},\n",
       " u'C4ISR H/W-Aircraft': {u'Ceramics': {'key': u'Involves', 'weight': 9},\n",
       "  u'Composites': {'key': u'Involves', 'weight': 1},\n",
       "  u'Data': {'key': u'Involves', 'weight': 1},\n",
       "  u'Electronic Matls': {'key': u'Involves', 'weight': 9},\n",
       "  u'Inspection': {'key': u'Involves', 'weight': 5},\n",
       "  u'Ken Davidson': {'key': u'Knows', 'weight': 1},\n",
       "  u'Kermit Stearns': {'key': u'Knows', 'weight': 9},\n",
       "  u'Metals': {'key': u'Involves', 'weight': 1},\n",
       "  u'Photonic Matls': {'key': u'Involves', 'weight': 9},\n",
       "  u'Process Control': {'key': u'Involves', 'weight': 9},\n",
       "  u'RX': {'key': u'Is Studied By', 'weight': 9},\n",
       "  u'Simulation': {'key': u'Involves', 'weight': 1},\n",
       "  u'Soft Matter': {'key': u'Involves', 'weight': 1},\n",
       "  u'Steve Szaruga': {'key': u'Knows', 'weight': 1}},\n",
       " u'C4ISR H/W-Space': {u'Ceramics': {'key': u'Involves', 'weight': 9},\n",
       "  u'Composites': {'key': u'Involves', 'weight': 3},\n",
       "  u'Data': {'key': u'Involves', 'weight': 3},\n",
       "  u'Electronic Matls': {'key': u'Involves', 'weight': 5},\n",
       "  u'Inspection': {'key': u'Involves', 'weight': 5},\n",
       "  u'Ken Davidson': {'key': u'Knows', 'weight': 1},\n",
       "  u'Kermit Stearns': {'key': u'Knows', 'weight': 9},\n",
       "  u'Metals': {'key': u'Involves', 'weight': 3},\n",
       "  u'Photonic Matls': {'key': u'Involves', 'weight': 9},\n",
       "  u'Process Control': {'key': u'Involves', 'weight': 9},\n",
       "  u'RX': {'key': u'Is Studied By', 'weight': 9},\n",
       "  u'Simulation': {'key': u'Involves', 'weight': 1},\n",
       "  u'Soft Matter': {'key': u'Involves', 'weight': 3},\n",
       "  u'Steve Szaruga': {'key': u'Knows', 'weight': 1}},\n",
       " u'Ceramics': {u'Additive Manufacturing': {'key': u'Belongs In', 'weight': 1},\n",
       "  u'Air Armaments': {'key': u'Involves', 'weight': 1},\n",
       "  u'Aircraft Coatings': {'key': u'Belongs In', 'weight': 1},\n",
       "  u'Airframes': {'key': u'Belongs In', 'weight': 5},\n",
       "  u'C4ISR H/W-Aircraft': {'key': u'Involves', 'weight': 9},\n",
       "  u'C4ISR H/W-Space': {'key': u'Involves', 'weight': 9},\n",
       "  u'DARPA': {'key': u'Is Studied By', 'weight': 5},\n",
       "  u'Hypersonic Weapons': {'key': u'Involves', 'weight': 5},\n",
       "  u'Ken Davidson': {'key': u'Knows', 'weight': 9},\n",
       "  u'Kermit Stearns': {'key': u'Knows', 'weight': 1},\n",
       "  u'LOM/LOA': {'key': u'Involves', 'weight': 5},\n",
       "  u'Manufacturing Research': {'key': u'Involves', 'weight': 5},\n",
       "  u'Mary Kinsella': {'key': u'Knows', 'weight': 5},\n",
       "  u'Propulsion-Turbine Engines': {'key': u'Involves', 'weight': 5},\n",
       "  u'RQ': {'key': u'Is Studied By', 'weight': 1},\n",
       "  u'RW': {'key': u'Is Studied By', 'weight': 1},\n",
       "  u'RX': {'key': u'Is Studied By', 'weight': 9},\n",
       "  u'Stats/DOE': {'key': u'Belongs In', 'weight': 5},\n",
       "  u'Steve Szaruga': {'key': u'Knows', 'weight': 5},\n",
       "  u'Structures': {'key': u'Involves', 'weight': 1},\n",
       "  u'Sustainment': {'key': u'Involves', 'weight': 1}},\n",
       " u'Composites': {u'Additive Manufacturing': {'key': u'Belongs In',\n",
       "   'weight': 5},\n",
       "  u'Air Armaments': {'key': u'Involves', 'weight': 1},\n",
       "  u'Aircraft Coatings': {'key': u'Belongs In', 'weight': 5},\n",
       "  u'Airframes': {'key': u'Belongs In', 'weight': 9},\n",
       "  u'C4ISR H/W-Aircraft': {'key': u'Involves', 'weight': 1},\n",
       "  u'C4ISR H/W-Space': {'key': u'Involves', 'weight': 3},\n",
       "  u'DARPA': {'key': u'Is Studied By', 'weight': 5},\n",
       "  u'Hypersonic Weapons': {'key': u'Involves', 'weight': 9},\n",
       "  u'Ken Davidson': {'key': u'Knows', 'weight': 9},\n",
       "  u'Kermit Stearns': {'key': u'Knows', 'weight': 5},\n",
       "  u'LOM/LOA': {'key': u'Involves', 'weight': 5},\n",
       "  u'Manufacturing Research': {'key': u'Involves', 'weight': 9},\n",
       "  u'Mary Kinsella': {'key': u'Knows', 'weight': 1},\n",
       "  u'Propulsion-Turbine Engines': {'key': u'Involves', 'weight': 5},\n",
       "  u'RQ': {'key': u'Is Studied By', 'weight': 5},\n",
       "  u'RW': {'key': u'Is Studied By', 'weight': 5},\n",
       "  u'RX': {'key': u'Is Studied By', 'weight': 9},\n",
       "  u'Stats/DOE': {'key': u'Belongs In', 'weight': 5},\n",
       "  u'Steve Szaruga': {'key': u'Knows', 'weight': 9},\n",
       "  u'Structures': {'key': u'Involves', 'weight': 9},\n",
       "  u'Sustainment': {'key': u'Involves', 'weight': 5}},\n",
       " u'DARPA': {u'Additive Manufacturing': {'key': u'Is Studied By', 'weight': 5},\n",
       "  u'Ceramics': {'key': u'Is Studied By', 'weight': 5},\n",
       "  u'Composites': {'key': u'Is Studied By', 'weight': 5},\n",
       "  u'Data': {'key': u'Is Studied By', 'weight': 9},\n",
       "  u'Electronic Matls': {'key': u'Is Studied By', 'weight': 9},\n",
       "  u'Inspection': {'key': u'Is Studied By', 'weight': 1},\n",
       "  u'Metals': {'key': u'Is Studied By', 'weight': 5},\n",
       "  u'Photonic Matls': {'key': u'Is Studied By', 'weight': 9},\n",
       "  u'Process Control': {'key': u'Is Studied By', 'weight': 1},\n",
       "  u'Simulation': {'key': u'Is Studied By', 'weight': 9},\n",
       "  u'Soft Matter': {'key': u'Is Studied By', 'weight': 9}},\n",
       " u'Data': {u'Additive Manufacturing': {'key': u'Belongs In', 'weight': 9},\n",
       "  u'Air Armaments': {'key': u'Involves', 'weight': 5},\n",
       "  u'Aircraft Coatings': {'key': u'Belongs In', 'weight': 1},\n",
       "  u'Airframes': {'key': u'Belongs In', 'weight': 5},\n",
       "  u'C4ISR H/W-Aircraft': {'key': u'Involves', 'weight': 1},\n",
       "  u'C4ISR H/W-Space': {'key': u'Involves', 'weight': 3},\n",
       "  u'DARPA': {'key': u'Is Studied By', 'weight': 9},\n",
       "  u'Hypersonic Weapons': {'key': u'Involves', 'weight': 9},\n",
       "  u'Ken Davidson': {'key': u'Knows', 'weight': 5},\n",
       "  u'Kermit Stearns': {'key': u'Knows', 'weight': 5},\n",
       "  u'LOM/LOA': {'key': u'Involves', 'weight': 1},\n",
       "  u'Manufacturing Research': {'key': u'Involves', 'weight': 9},\n",
       "  u'Mary Kinsella': {'key': u'Knows', 'weight': 9},\n",
       "  u'Propulsion-Turbine Engines': {'key': u'Involves', 'weight': 5},\n",
       "  u'RQ': {'key': u'Is Studied By', 'weight': 9},\n",
       "  u'RW': {'key': u'Is Studied By', 'weight': 9},\n",
       "  u'RX': {'key': u'Is Studied By', 'weight': 9},\n",
       "  u'Stats/DOE': {'key': u'Belongs In', 'weight': 9},\n",
       "  u'Steve Szaruga': {'key': u'Knows', 'weight': 1},\n",
       "  u'Structures': {'key': u'Involves', 'weight': 9},\n",
       "  u'Sustainment': {'key': u'Involves', 'weight': 5}},\n",
       " u'Electronic Matls': {u'Additive Manufacturing': {'key': u'Belongs In',\n",
       "   'weight': 5},\n",
       "  u'Air Armaments': {'key': u'Involves', 'weight': 5},\n",
       "  u'Aircraft Coatings': {'key': u'Belongs In', 'weight': 1},\n",
       "  u'Airframes': {'key': u'Belongs In', 'weight': 1},\n",
       "  u'C4ISR H/W-Aircraft': {'key': u'Involves', 'weight': 9},\n",
       "  u'C4ISR H/W-Space': {'key': u'Involves', 'weight': 5},\n",
       "  u'DARPA': {'key': u'Is Studied By', 'weight': 9},\n",
       "  u'Hypersonic Weapons': {'key': u'Involves', 'weight': 5},\n",
       "  u'Ken Davidson': {'key': u'Knows', 'weight': 1},\n",
       "  u'Kermit Stearns': {'key': u'Knows', 'weight': 5},\n",
       "  u'LOM/LOA': {'key': u'Involves', 'weight': 9},\n",
       "  u'Manufacturing Research': {'key': u'Involves', 'weight': 1},\n",
       "  u'Propulsion-Turbine Engines': {'key': u'Involves', 'weight': 1},\n",
       "  u'RQ': {'key': u'Is Studied By', 'weight': 1},\n",
       "  u'RW': {'key': u'Is Studied By', 'weight': 5},\n",
       "  u'RX': {'key': u'Is Studied By', 'weight': 9},\n",
       "  u'Stats/DOE': {'key': u'Belongs In', 'weight': 5},\n",
       "  u'Steve Szaruga': {'key': u'Knows', 'weight': 5},\n",
       "  u'Sustainment': {'key': u'Involves', 'weight': 1}},\n",
       " u'Hypersonic Weapons': {u'Andy Swanson': {'key': u'Knows', 'weight': 9},\n",
       "  u'Ceramics': {'key': u'Involves', 'weight': 5},\n",
       "  u'Composites': {'key': u'Involves', 'weight': 9},\n",
       "  u'Data': {'key': u'Involves', 'weight': 9},\n",
       "  u'Electronic Matls': {'key': u'Involves', 'weight': 5},\n",
       "  u'Inspection': {'key': u'Involves', 'weight': 5},\n",
       "  u'Mary Kinsella': {'key': u'Knows', 'weight': 1},\n",
       "  u'Metals': {'key': u'Involves', 'weight': 9},\n",
       "  u'Photonic Matls': {'key': u'Involves', 'weight': 1},\n",
       "  u'Process Control': {'key': u'Involves', 'weight': 5},\n",
       "  u'RQ': {'key': u'Is Studied By', 'weight': 5},\n",
       "  u'RW': {'key': u'Is Studied By', 'weight': 9},\n",
       "  u'RX': {'key': u'Is Studied By', 'weight': 5},\n",
       "  u'Simulation': {'key': u'Involves', 'weight': 9},\n",
       "  u'Soft Matter': {'key': u'Involves', 'weight': 1},\n",
       "  u'Steve Szaruga': {'key': u'Knows', 'weight': 9}},\n",
       " u'Industry': {u'Additive Manufacturing': {'key': u'Is Studied By',\n",
       "   'weight': 9}},\n",
       " u'Inspection': {u'Additive Manufacturing': {'key': u'Belongs In',\n",
       "   'weight': 5},\n",
       "  u'Air Armaments': {'key': u'Involves', 'weight': 5},\n",
       "  u'Aircraft Coatings': {'key': u'Belongs In', 'weight': 5},\n",
       "  u'Airframes': {'key': u'Belongs In', 'weight': 9},\n",
       "  u'C4ISR H/W-Aircraft': {'key': u'Involves', 'weight': 5},\n",
       "  u'C4ISR H/W-Space': {'key': u'Involves', 'weight': 5},\n",
       "  u'DARPA': {'key': u'Is Studied By', 'weight': 1},\n",
       "  u'Hypersonic Weapons': {'key': u'Involves', 'weight': 5},\n",
       "  u'Ken Davidson': {'key': u'Knows', 'weight': 3},\n",
       "  u'Kermit Stearns': {'key': u'Knows', 'weight': 1},\n",
       "  u'LOM/LOA': {'key': u'Involves', 'weight': 5},\n",
       "  u'Manufacturing Research': {'key': u'Involves', 'weight': 1},\n",
       "  u'Mary Kinsella': {'key': u'Knows', 'weight': 9},\n",
       "  u'Propulsion-Turbine Engines': {'key': u'Involves', 'weight': 1},\n",
       "  u'RQ': {'key': u'Is Studied By', 'weight': 1},\n",
       "  u'RW': {'key': u'Is Studied By', 'weight': 1},\n",
       "  u'RX': {'key': u'Is Studied By', 'weight': 9},\n",
       "  u'Stats/DOE': {'key': u'Belongs In', 'weight': 9},\n",
       "  u'Steve Szaruga': {'key': u'Knows', 'weight': 9},\n",
       "  u'Structures': {'key': u'Involves', 'weight': 9},\n",
       "  u'Sustainment': {'key': u'Involves', 'weight': 5}},\n",
       " u'Insulation': {u'Andy Swanson': {'key': u'Knows', 'weight': 9}},\n",
       " u'Ken Davidson': {u'Air Armaments': {'key': u'Knows', 'weight': 1},\n",
       "  u'C4ISR H/W-Aircraft': {'key': u'Knows', 'weight': 1},\n",
       "  u'C4ISR H/W-Space': {'key': u'Knows', 'weight': 1},\n",
       "  u'Ceramics': {'key': u'Knows', 'weight': 9},\n",
       "  u'Composites': {'key': u'Knows', 'weight': 9},\n",
       "  u'Data': {'key': u'Knows', 'weight': 5},\n",
       "  u'Electronic Matls': {'key': u'Knows', 'weight': 1},\n",
       "  u'Inspection': {'key': u'Knows', 'weight': 3},\n",
       "  u'LOM/LOA': {'key': u'Knows', 'weight': 1},\n",
       "  u'Manufacturing Research': {'key': u'Knows', 'weight': 1},\n",
       "  u'Metals': {'key': u'Knows', 'weight': 5},\n",
       "  u'Photonic Matls': {'key': u'Knows', 'weight': 1},\n",
       "  u'Process Control': {'key': u'Knows', 'weight': 5},\n",
       "  u'Propulsion-Turbine Engines': {'key': u'Knows', 'weight': 1},\n",
       "  u'RX': {'key': u'Belongs In', 'weight': 9},\n",
       "  u'Simulation': {'key': u'Knows', 'weight': 1},\n",
       "  u'Soft Matter': {'key': u'Knows', 'weight': 1},\n",
       "  u'Steve Szaruga': {'key': u'Knows', 'weight': 9},\n",
       "  u'Structures': {'key': u'Knows', 'weight': 9},\n",
       "  u'Sustainment': {'key': u'Knows', 'weight': 1}},\n",
       " u'Kermit Stearns': {u'Air Armaments': {'key': u'Knows', 'weight': 9},\n",
       "  u'C4ISR H/W-Aircraft': {'key': u'Knows', 'weight': 9},\n",
       "  u'C4ISR H/W-Space': {'key': u'Knows', 'weight': 9},\n",
       "  u'Ceramics': {'key': u'Knows', 'weight': 1},\n",
       "  u'Composites': {'key': u'Knows', 'weight': 5},\n",
       "  u'Data': {'key': u'Knows', 'weight': 5},\n",
       "  u'Electronic Matls': {'key': u'Knows', 'weight': 5},\n",
       "  u'Inspection': {'key': u'Knows', 'weight': 1},\n",
       "  u'LOM/LOA': {'key': u'Knows', 'weight': 9},\n",
       "  u'Manufacturing Research': {'key': u'Knows', 'weight': 9},\n",
       "  u'Metals': {'key': u'Knows', 'weight': 5},\n",
       "  u'Photonic Matls': {'key': u'Knows', 'weight': 5},\n",
       "  u'Process Control': {'key': u'Knows', 'weight': 1},\n",
       "  u'Propulsion-Turbine Engines': {'key': u'Knows', 'weight': 9},\n",
       "  u'RX': {'key': u'Belongs In', 'weight': 9},\n",
       "  u'Simulation': {'key': u'Knows', 'weight': 5},\n",
       "  u'Soft Matter': {'key': u'Knows', 'weight': 1},\n",
       "  u'Steve Szaruga': {'key': u'Knows', 'weight': 9},\n",
       "  u'Structures': {'key': u'Knows', 'weight': 9},\n",
       "  u'Sustainment': {'key': u'Knows', 'weight': 9}},\n",
       " u'LOM/LOA': {u'Ceramics': {'key': u'Involves', 'weight': 5},\n",
       "  u'Composites': {'key': u'Involves', 'weight': 5},\n",
       "  u'Data': {'key': u'Involves', 'weight': 1},\n",
       "  u'Electronic Matls': {'key': u'Involves', 'weight': 9},\n",
       "  u'Inspection': {'key': u'Involves', 'weight': 5},\n",
       "  u'Ken Davidson': {'key': u'Knows', 'weight': 1},\n",
       "  u'Kermit Stearns': {'key': u'Knows', 'weight': 9},\n",
       "  u'Metals': {'key': u'Involves', 'weight': 5},\n",
       "  u'Photonic Matls': {'key': u'Involves', 'weight': 5},\n",
       "  u'Process Control': {'key': u'Involves', 'weight': 1},\n",
       "  u'RX': {'key': u'Is Studied By', 'weight': 9},\n",
       "  u'Simulation': {'key': u'Involves', 'weight': 1},\n",
       "  u'Soft Matter': {'key': u'Involves', 'weight': 9},\n",
       "  u'Steve Szaruga': {'key': u'Knows', 'weight': 9}},\n",
       " u'Leading Edge': {u'Andy Swanson': {'key': u'Knows', 'weight': 5}},\n",
       " u'Manufacturing Research': {u'Ceramics': {'key': u'Involves', 'weight': 5},\n",
       "  u'Composites': {'key': u'Involves', 'weight': 9},\n",
       "  u'Data': {'key': u'Involves', 'weight': 9},\n",
       "  u'Electronic Matls': {'key': u'Involves', 'weight': 1},\n",
       "  u'Inspection': {'key': u'Involves', 'weight': 1},\n",
       "  u'Ken Davidson': {'key': u'Knows', 'weight': 1},\n",
       "  u'Kermit Stearns': {'key': u'Knows', 'weight': 9},\n",
       "  u'Metals': {'key': u'Involves', 'weight': 9},\n",
       "  u'Photonic Matls': {'key': u'Involves', 'weight': 1},\n",
       "  u'Process Control': {'key': u'Involves', 'weight': 9},\n",
       "  u'RX': {'key': u'Is Studied By', 'weight': 9},\n",
       "  u'Simulation': {'key': u'Involves', 'weight': 9},\n",
       "  u'Soft Matter': {'key': u'Involves', 'weight': 5},\n",
       "  u'Steve Szaruga': {'key': u'Knows', 'weight': 5}},\n",
       " u'Mary Kinsella': {u'Additive Manufacturing': {'key': u'Knows', 'weight': 9},\n",
       "  u'Ceramics': {'key': u'Knows', 'weight': 5},\n",
       "  u'Composites': {'key': u'Knows', 'weight': 1},\n",
       "  u'Data': {'key': u'Knows', 'weight': 9},\n",
       "  u'Hypersonic Weapons': {'key': u'Knows', 'weight': 1},\n",
       "  u'Inspection': {'key': u'Knows', 'weight': 9},\n",
       "  u'Metals': {'key': u'Knows', 'weight': 9},\n",
       "  u'Process Control': {'key': u'Knows', 'weight': 9},\n",
       "  u'RX': {'key': u'Belongs In', 'weight': 9},\n",
       "  u'Simulation': {'key': u'Knows', 'weight': 9},\n",
       "  u'Soft Matter': {'key': u'Knows', 'weight': 1},\n",
       "  u'Steve Szaruga': {'key': u'Knows', 'weight': 9},\n",
       "  u'Structures': {'key': u'Knows', 'weight': 9}},\n",
       " u'Metals': {u'Additive Manufacturing': {'key': u'Belongs In', 'weight': 9},\n",
       "  u'Air Armaments': {'key': u'Involves', 'weight': 9},\n",
       "  u'Aircraft Coatings': {'key': u'Belongs In', 'weight': 5},\n",
       "  u'Airframes': {'key': u'Belongs In', 'weight': 9},\n",
       "  u'C4ISR H/W-Aircraft': {'key': u'Involves', 'weight': 1},\n",
       "  u'C4ISR H/W-Space': {'key': u'Involves', 'weight': 3},\n",
       "  u'DARPA': {'key': u'Is Studied By', 'weight': 5},\n",
       "  u'Hypersonic Weapons': {'key': u'Involves', 'weight': 9},\n",
       "  u'Ken Davidson': {'key': u'Knows', 'weight': 5},\n",
       "  u'Kermit Stearns': {'key': u'Knows', 'weight': 5},\n",
       "  u'LOM/LOA': {'key': u'Involves', 'weight': 5},\n",
       "  u'Manufacturing Research': {'key': u'Involves', 'weight': 9},\n",
       "  u'Mary Kinsella': {'key': u'Knows', 'weight': 9},\n",
       "  u'Propulsion-Turbine Engines': {'key': u'Involves', 'weight': 9},\n",
       "  u'RQ': {'key': u'Is Studied By', 'weight': 5},\n",
       "  u'RW': {'key': u'Is Studied By', 'weight': 5},\n",
       "  u'RX': {'key': u'Is Studied By', 'weight': 9},\n",
       "  u'Stats/DOE': {'key': u'Belongs In', 'weight': 5},\n",
       "  u'Steve Szaruga': {'key': u'Knows', 'weight': 5},\n",
       "  u'Structures': {'key': u'Involves', 'weight': 9},\n",
       "  u'Sustainment': {'key': u'Involves', 'weight': 9}},\n",
       " u'Nose Tip': {u'Andy Swanson': {'key': u'Knows', 'weight': 5}},\n",
       " u'Photonic Matls': {u'Additive Manufacturing': {'key': u'Belongs In',\n",
       "   'weight': 1},\n",
       "  u'Air Armaments': {'key': u'Involves', 'weight': 1},\n",
       "  u'Aircraft Coatings': {'key': u'Belongs In', 'weight': 1},\n",
       "  u'Airframes': {'key': u'Belongs In', 'weight': 1},\n",
       "  u'C4ISR H/W-Aircraft': {'key': u'Involves', 'weight': 9},\n",
       "  u'C4ISR H/W-Space': {'key': u'Involves', 'weight': 9},\n",
       "  u'DARPA': {'key': u'Is Studied By', 'weight': 9},\n",
       "  u'Hypersonic Weapons': {'key': u'Involves', 'weight': 1},\n",
       "  u'Ken Davidson': {'key': u'Knows', 'weight': 1},\n",
       "  u'Kermit Stearns': {'key': u'Knows', 'weight': 5},\n",
       "  u'LOM/LOA': {'key': u'Involves', 'weight': 5},\n",
       "  u'Manufacturing Research': {'key': u'Involves', 'weight': 1},\n",
       "  u'Propulsion-Turbine Engines': {'key': u'Involves', 'weight': 1},\n",
       "  u'RQ': {'key': u'Is Studied By', 'weight': 1},\n",
       "  u'RW': {'key': u'Is Studied By', 'weight': 1},\n",
       "  u'RX': {'key': u'Is Studied By', 'weight': 9},\n",
       "  u'Stats/DOE': {'key': u'Belongs In', 'weight': 5},\n",
       "  u'Steve Szaruga': {'key': u'Knows', 'weight': 1},\n",
       "  u'Sustainment': {'key': u'Involves', 'weight': 1}},\n",
       " u'Process Control': {u'Additive Manufacturing': {'key': u'Belongs In',\n",
       "   'weight': 5},\n",
       "  u'Air Armaments': {'key': u'Involves', 'weight': 1},\n",
       "  u'Aircraft Coatings': {'key': u'Belongs In', 'weight': 5},\n",
       "  u'Airframes': {'key': u'Belongs In', 'weight': 5},\n",
       "  u'C4ISR H/W-Aircraft': {'key': u'Involves', 'weight': 9},\n",
       "  u'C4ISR H/W-Space': {'key': u'Involves', 'weight': 9},\n",
       "  u'DARPA': {'key': u'Is Studied By', 'weight': 1},\n",
       "  u'Hypersonic Weapons': {'key': u'Involves', 'weight': 5},\n",
       "  u'Ken Davidson': {'key': u'Knows', 'weight': 5},\n",
       "  u'Kermit Stearns': {'key': u'Knows', 'weight': 1},\n",
       "  u'LOM/LOA': {'key': u'Involves', 'weight': 1},\n",
       "  u'Manufacturing Research': {'key': u'Involves', 'weight': 9},\n",
       "  u'Mary Kinsella': {'key': u'Knows', 'weight': 9},\n",
       "  u'Propulsion-Turbine Engines': {'key': u'Involves', 'weight': 5},\n",
       "  u'RQ': {'key': u'Is Studied By', 'weight': 1},\n",
       "  u'RW': {'key': u'Is Studied By', 'weight': 5},\n",
       "  u'RX': {'key': u'Is Studied By', 'weight': 9},\n",
       "  u'Stats/DOE': {'key': u'Belongs In', 'weight': 5},\n",
       "  u'Steve Szaruga': {'key': u'Knows', 'weight': 5},\n",
       "  u'Structures': {'key': u'Involves', 'weight': 5},\n",
       "  u'Sustainment': {'key': u'Involves', 'weight': 5}},\n",
       " u'Propulsion-Turbine Engines': {u'Ceramics': {'key': u'Involves',\n",
       "   'weight': 5},\n",
       "  u'Composites': {'key': u'Involves', 'weight': 5},\n",
       "  u'Data': {'key': u'Involves', 'weight': 5},\n",
       "  u'Electronic Matls': {'key': u'Involves', 'weight': 1},\n",
       "  u'Inspection': {'key': u'Involves', 'weight': 1},\n",
       "  u'Ken Davidson': {'key': u'Knows', 'weight': 1},\n",
       "  u'Kermit Stearns': {'key': u'Knows', 'weight': 9},\n",
       "  u'Metals': {'key': u'Involves', 'weight': 9},\n",
       "  u'Photonic Matls': {'key': u'Involves', 'weight': 1},\n",
       "  u'Process Control': {'key': u'Involves', 'weight': 5},\n",
       "  u'RX': {'key': u'Is Studied By', 'weight': 9},\n",
       "  u'Simulation': {'key': u'Involves', 'weight': 1},\n",
       "  u'Soft Matter': {'key': u'Involves', 'weight': 1},\n",
       "  u'Steve Szaruga': {'key': u'Knows', 'weight': 5}},\n",
       " u'RQ': {u'Additive Manufacturing': {'key': u'Is Studied By', 'weight': 1},\n",
       "  u'Aircraft Coatings': {'key': u'Is Studied By', 'weight': 1},\n",
       "  u'Airframes': {'key': u'Is Studied By', 'weight': 9},\n",
       "  u'Andy Swanson': {'key': u'Belongs In', 'weight': 9},\n",
       "  u'Ceramics': {'key': u'Is Studied By', 'weight': 1},\n",
       "  u'Composites': {'key': u'Is Studied By', 'weight': 5},\n",
       "  u'Data': {'key': u'Is Studied By', 'weight': 9},\n",
       "  u'Electronic Matls': {'key': u'Is Studied By', 'weight': 1},\n",
       "  u'Hypersonic Weapons': {'key': u'Is Studied By', 'weight': 5},\n",
       "  u'Inspection': {'key': u'Is Studied By', 'weight': 1},\n",
       "  u'Metals': {'key': u'Is Studied By', 'weight': 5},\n",
       "  u'Photonic Matls': {'key': u'Is Studied By', 'weight': 1},\n",
       "  u'Process Control': {'key': u'Is Studied By', 'weight': 1},\n",
       "  u'Simulation': {'key': u'Is Studied By', 'weight': 9},\n",
       "  u'Soft Matter': {'key': u'Is Studied By', 'weight': 1},\n",
       "  u'Stats/DOE': {'key': u'Is Studied By', 'weight': 5}},\n",
       " u'RW': {u'Additive Manufacturing': {'key': u'Is Studied By', 'weight': 1},\n",
       "  u'Aircraft Coatings': {'key': u'Is Studied By', 'weight': 1},\n",
       "  u'Airframes': {'key': u'Is Studied By', 'weight': 9},\n",
       "  u'Ceramics': {'key': u'Is Studied By', 'weight': 1},\n",
       "  u'Composites': {'key': u'Is Studied By', 'weight': 5},\n",
       "  u'Data': {'key': u'Is Studied By', 'weight': 9},\n",
       "  u'Electronic Matls': {'key': u'Is Studied By', 'weight': 5},\n",
       "  u'Hypersonic Weapons': {'key': u'Is Studied By', 'weight': 9},\n",
       "  u'Inspection': {'key': u'Is Studied By', 'weight': 1},\n",
       "  u'Metals': {'key': u'Is Studied By', 'weight': 5},\n",
       "  u'Photonic Matls': {'key': u'Is Studied By', 'weight': 1},\n",
       "  u'Process Control': {'key': u'Is Studied By', 'weight': 5},\n",
       "  u'Simulation': {'key': u'Is Studied By', 'weight': 9},\n",
       "  u'Soft Matter': {'key': u'Is Studied By', 'weight': 1},\n",
       "  u'Stats/DOE': {'key': u'Is Studied By', 'weight': 5}},\n",
       " u'RX': {u'Additive Manufacturing': {'key': u'Is Studied By', 'weight': 9},\n",
       "  u'Air Armaments': {'key': u'Is Studied By', 'weight': 9},\n",
       "  u'Aircraft Coatings': {'key': u'Is Studied By', 'weight': 1},\n",
       "  u'Airframes': {'key': u'Is Studied By', 'weight': 5},\n",
       "  u'C4ISR H/W-Aircraft': {'key': u'Is Studied By', 'weight': 9},\n",
       "  u'C4ISR H/W-Space': {'key': u'Is Studied By', 'weight': 9},\n",
       "  u'Ceramics': {'key': u'Is Studied By', 'weight': 9},\n",
       "  u'Composites': {'key': u'Is Studied By', 'weight': 9},\n",
       "  u'Data': {'key': u'Is Studied By', 'weight': 9},\n",
       "  u'Electronic Matls': {'key': u'Is Studied By', 'weight': 9},\n",
       "  u'Hypersonic Weapons': {'key': u'Is Studied By', 'weight': 5},\n",
       "  u'Inspection': {'key': u'Is Studied By', 'weight': 9},\n",
       "  u'Ken Davidson': {'key': u'Belongs In', 'weight': 9},\n",
       "  u'Kermit Stearns': {'key': u'Belongs In', 'weight': 9},\n",
       "  u'LOM/LOA': {'key': u'Is Studied By', 'weight': 9},\n",
       "  u'Manufacturing Research': {'key': u'Is Studied By', 'weight': 9},\n",
       "  u'Mary Kinsella': {'key': u'Belongs In', 'weight': 9},\n",
       "  u'Metals': {'key': u'Is Studied By', 'weight': 9},\n",
       "  u'Photonic Matls': {'key': u'Is Studied By', 'weight': 9},\n",
       "  u'Process Control': {'key': u'Is Studied By', 'weight': 9},\n",
       "  u'Propulsion-Turbine Engines': {'key': u'Is Studied By', 'weight': 9},\n",
       "  u'Simulation': {'key': u'Is Studied By', 'weight': 9},\n",
       "  u'Soft Matter': {'key': u'Is Studied By', 'weight': 9},\n",
       "  u'Stats/DOE': {'key': u'Is Studied By', 'weight': 5},\n",
       "  u'Sustainment': {'key': u'Is Studied By', 'weight': 9}},\n",
       " u'Simulation': {u'Additive Manufacturing': {'key': u'Belongs In',\n",
       "   'weight': 5},\n",
       "  u'Air Armaments': {'key': u'Involves', 'weight': 1},\n",
       "  u'Aircraft Coatings': {'key': u'Belongs In', 'weight': 1},\n",
       "  u'Airframes': {'key': u'Belongs In', 'weight': 9},\n",
       "  u'C4ISR H/W-Aircraft': {'key': u'Involves', 'weight': 1},\n",
       "  u'C4ISR H/W-Space': {'key': u'Involves', 'weight': 1},\n",
       "  u'DARPA': {'key': u'Is Studied By', 'weight': 9},\n",
       "  u'Hypersonic Weapons': {'key': u'Involves', 'weight': 9},\n",
       "  u'Ken Davidson': {'key': u'Knows', 'weight': 1},\n",
       "  u'Kermit Stearns': {'key': u'Knows', 'weight': 5},\n",
       "  u'LOM/LOA': {'key': u'Involves', 'weight': 1},\n",
       "  u'Manufacturing Research': {'key': u'Involves', 'weight': 9},\n",
       "  u'Mary Kinsella': {'key': u'Knows', 'weight': 9},\n",
       "  u'Propulsion-Turbine Engines': {'key': u'Involves', 'weight': 1},\n",
       "  u'RQ': {'key': u'Is Studied By', 'weight': 9},\n",
       "  u'RW': {'key': u'Is Studied By', 'weight': 9},\n",
       "  u'RX': {'key': u'Is Studied By', 'weight': 9},\n",
       "  u'Stats/DOE': {'key': u'Belongs In', 'weight': 5},\n",
       "  u'Steve Szaruga': {'key': u'Knows', 'weight': 9},\n",
       "  u'Structures': {'key': u'Involves', 'weight': 5},\n",
       "  u'Sustainment': {'key': u'Involves', 'weight': 3}},\n",
       " u'Soft Matter': {u'Additive Manufacturing': {'key': u'Belongs In',\n",
       "   'weight': 9},\n",
       "  u'Air Armaments': {'key': u'Involves', 'weight': 1},\n",
       "  u'Aircraft Coatings': {'key': u'Belongs In', 'weight': 5},\n",
       "  u'Airframes': {'key': u'Belongs In', 'weight': 1},\n",
       "  u'C4ISR H/W-Aircraft': {'key': u'Involves', 'weight': 1},\n",
       "  u'C4ISR H/W-Space': {'key': u'Involves', 'weight': 3},\n",
       "  u'DARPA': {'key': u'Is Studied By', 'weight': 9},\n",
       "  u'Hypersonic Weapons': {'key': u'Involves', 'weight': 1},\n",
       "  u'Ken Davidson': {'key': u'Knows', 'weight': 1},\n",
       "  u'Kermit Stearns': {'key': u'Knows', 'weight': 1},\n",
       "  u'LOM/LOA': {'key': u'Involves', 'weight': 9},\n",
       "  u'Manufacturing Research': {'key': u'Involves', 'weight': 5},\n",
       "  u'Mary Kinsella': {'key': u'Knows', 'weight': 1},\n",
       "  u'Propulsion-Turbine Engines': {'key': u'Involves', 'weight': 1},\n",
       "  u'RQ': {'key': u'Is Studied By', 'weight': 1},\n",
       "  u'RW': {'key': u'Is Studied By', 'weight': 1},\n",
       "  u'RX': {'key': u'Is Studied By', 'weight': 9},\n",
       "  u'Stats/DOE': {'key': u'Belongs In', 'weight': 5},\n",
       "  u'Steve Szaruga': {'key': u'Knows', 'weight': 5},\n",
       "  u'Structures': {'key': u'Involves', 'weight': 5},\n",
       "  u'Sustainment': {'key': u'Involves', 'weight': 1}},\n",
       " u'Stats/DOE': {u'Ceramics': {'key': u'Belongs In', 'weight': 5},\n",
       "  u'Composites': {'key': u'Belongs In', 'weight': 5},\n",
       "  u'Data': {'key': u'Belongs In', 'weight': 9},\n",
       "  u'Electronic Matls': {'key': u'Belongs In', 'weight': 5},\n",
       "  u'Inspection': {'key': u'Belongs In', 'weight': 9},\n",
       "  u'Metals': {'key': u'Belongs In', 'weight': 5},\n",
       "  u'Photonic Matls': {'key': u'Belongs In', 'weight': 5},\n",
       "  u'Process Control': {'key': u'Belongs In', 'weight': 5},\n",
       "  u'RQ': {'key': u'Is Studied By', 'weight': 5},\n",
       "  u'RW': {'key': u'Is Studied By', 'weight': 5},\n",
       "  u'RX': {'key': u'Is Studied By', 'weight': 5},\n",
       "  u'Simulation': {'key': u'Belongs In', 'weight': 5},\n",
       "  u'Soft Matter': {'key': u'Belongs In', 'weight': 5},\n",
       "  u'Steve Szaruga': {'key': u'Knows', 'weight': 9}},\n",
       " u'Steve Szaruga': {u'AFRL/RX': {'key': u'Belongs In', 'weight': 9},\n",
       "  u'Additive Manufacturing': {'key': u'Knows', 'weight': 9},\n",
       "  u'Air Armaments': {'key': u'Knows', 'weight': 1},\n",
       "  u'Aircraft Coatings': {'key': u'Knows', 'weight': 9},\n",
       "  u'Airframes': {'key': u'Knows', 'weight': 9},\n",
       "  u'Andy Swanson': {'key': u'Knows', 'weight': 5},\n",
       "  u'C4ISR H/W-Aircraft': {'key': u'Knows', 'weight': 1},\n",
       "  u'C4ISR H/W-Space': {'key': u'Knows', 'weight': 1},\n",
       "  u'Ceramics': {'key': u'Knows', 'weight': 5},\n",
       "  u'Composites': {'key': u'Knows', 'weight': 9},\n",
       "  u'Data': {'key': u'Knows', 'weight': 1},\n",
       "  u'Electronic Matls': {'key': u'Knows', 'weight': 5},\n",
       "  u'Hypersonic Weapons': {'key': u'Knows', 'weight': 9},\n",
       "  u'Inspection': {'key': u'Knows', 'weight': 9},\n",
       "  u'Ken Davidson': {'key': u'Knows', 'weight': 9},\n",
       "  u'Kermit Stearns': {'key': u'Knows', 'weight': 9},\n",
       "  u'LOM/LOA': {'key': u'Knows', 'weight': 9},\n",
       "  u'Manufacturing Research': {'key': u'Knows', 'weight': 5},\n",
       "  u'Mary Kinsella': {'key': u'Knows', 'weight': 9},\n",
       "  u'Metals': {'key': u'Knows', 'weight': 5},\n",
       "  u'Photonic Matls': {'key': u'Knows', 'weight': 1},\n",
       "  u'Process Control': {'key': u'Knows', 'weight': 5},\n",
       "  u'Propulsion-Turbine Engines': {'key': u'Knows', 'weight': 5},\n",
       "  u'Simulation': {'key': u'Knows', 'weight': 9},\n",
       "  u'Soft Matter': {'key': u'Knows', 'weight': 5},\n",
       "  u'Stats/DOE': {'key': u'Knows', 'weight': 9},\n",
       "  u'Sustainment': {'key': u'Knows', 'weight': 5}},\n",
       " u'Structures': {u'Ceramics': {'key': u'Involves', 'weight': 1},\n",
       "  u'Composites': {'key': u'Involves', 'weight': 9},\n",
       "  u'Data': {'key': u'Involves', 'weight': 9},\n",
       "  u'Inspection': {'key': u'Involves', 'weight': 9},\n",
       "  u'Ken Davidson': {'key': u'Knows', 'weight': 9},\n",
       "  u'Kermit Stearns': {'key': u'Knows', 'weight': 9},\n",
       "  u'Mary Kinsella': {'key': u'Knows', 'weight': 9},\n",
       "  u'Metals': {'key': u'Involves', 'weight': 9},\n",
       "  u'Process Control': {'key': u'Involves', 'weight': 5},\n",
       "  u'Simulation': {'key': u'Involves', 'weight': 5},\n",
       "  u'Soft Matter': {'key': u'Involves', 'weight': 5}},\n",
       " u'Sustainment': {u'Ceramics': {'key': u'Involves', 'weight': 1},\n",
       "  u'Composites': {'key': u'Involves', 'weight': 5},\n",
       "  u'Data': {'key': u'Involves', 'weight': 5},\n",
       "  u'Electronic Matls': {'key': u'Involves', 'weight': 1},\n",
       "  u'Inspection': {'key': u'Involves', 'weight': 5},\n",
       "  u'Ken Davidson': {'key': u'Knows', 'weight': 1},\n",
       "  u'Kermit Stearns': {'key': u'Knows', 'weight': 9},\n",
       "  u'Metals': {'key': u'Involves', 'weight': 9},\n",
       "  u'Photonic Matls': {'key': u'Involves', 'weight': 1},\n",
       "  u'Process Control': {'key': u'Involves', 'weight': 5},\n",
       "  u'RX': {'key': u'Is Studied By', 'weight': 9},\n",
       "  u'Simulation': {'key': u'Involves', 'weight': 3},\n",
       "  u'Soft Matter': {'key': u'Involves', 'weight': 1},\n",
       "  u'Steve Szaruga': {'key': u'Knows', 'weight': 5}},\n",
       " u'Thermal Protection': {u'Andy Swanson': {'key': u'Knows', 'weight': 9}}}"
      ]
     },
     "execution_count": 22,
     "metadata": {},
     "output_type": "execute_result"
    }
   ],
   "source": [
    "#print out attributes of edges are stored in the g.edges dictionary\n",
    "g.edge"
   ]
  },
  {
   "cell_type": "code",
   "execution_count": 23,
   "metadata": {
    "collapsed": false
   },
   "outputs": [
    {
     "data": {
      "text/plain": [
       "{'key': u'Involves', 'weight': 1}"
      ]
     },
     "execution_count": 23,
     "metadata": {},
     "output_type": "execute_result"
    }
   ],
   "source": [
    "#the edge between the \"Air Armaments\" and \"Simulation\" nodes is labeled 'Involves' and has the attribute weight:1\n",
    "g.edge['Air Armaments']['Simulation']"
   ]
  },
  {
   "cell_type": "code",
   "execution_count": 24,
   "metadata": {
    "collapsed": false
   },
   "outputs": [],
   "source": [
    "#label the nodes with the ontology, might be possilbe for a node to have multiple labels\n",
    "for node in g.node:\n",
    "    g.node[node]['Label'] = []\n",
    "    for key in ontology.keys():\n",
    "        if node in ontology[key].values:\n",
    "            g.node[node]['Label'].append(key)\n",
    "    #print node, g.node[node]"
   ]
  },
  {
   "cell_type": "code",
   "execution_count": 25,
   "metadata": {
    "collapsed": false
   },
   "outputs": [
    {
     "data": {
      "text/html": [
       "<div style=\"max-height:1000px;max-width:1500px;overflow:auto;\">\n",
       "<table border=\"1\" class=\"dataframe\">\n",
       "  <thead>\n",
       "    <tr style=\"text-align: right;\">\n",
       "      <th></th>\n",
       "      <th>Degree</th>\n",
       "      <th>Nodes</th>\n",
       "    </tr>\n",
       "  </thead>\n",
       "  <tbody>\n",
       "    <tr>\n",
       "      <th>16</th>\n",
       "      <td> 21</td>\n",
       "      <td>      Ceramics</td>\n",
       "    </tr>\n",
       "    <tr>\n",
       "      <th>15</th>\n",
       "      <td> 21</td>\n",
       "      <td>          Data</td>\n",
       "    </tr>\n",
       "    <tr>\n",
       "      <th>25</th>\n",
       "      <td> 21</td>\n",
       "      <td>    Inspection</td>\n",
       "    </tr>\n",
       "    <tr>\n",
       "      <th>10</th>\n",
       "      <td> 25</td>\n",
       "      <td>            RX</td>\n",
       "    </tr>\n",
       "    <tr>\n",
       "      <th>0 </th>\n",
       "      <td> 27</td>\n",
       "      <td> Steve Szaruga</td>\n",
       "    </tr>\n",
       "  </tbody>\n",
       "</table>\n",
       "</div>"
      ],
      "text/plain": [
       "    Degree          Nodes\n",
       "16      21       Ceramics\n",
       "15      21           Data\n",
       "25      21     Inspection\n",
       "10      25             RX\n",
       "0       27  Steve Szaruga"
      ]
     },
     "execution_count": 25,
     "metadata": {},
     "output_type": "execute_result"
    }
   ],
   "source": [
    "#createe a DataFrame that contains a sort\n",
    "node_degrees = pd.DataFrame({'Nodes':g.degree().keys(),'Degree':g.degree().values()})\n",
    "node_degrees = node_degrees.sort('Degree')\n",
    "#print out head and tail\n",
    "node_degrees.tail()"
   ]
  },
  {
   "cell_type": "code",
   "execution_count": 26,
   "metadata": {
    "collapsed": false
   },
   "outputs": [],
   "source": [
    "#add an attribute to each node that contains it log(degree)\n",
    "for row in node_degrees.iterrows():\n",
    "    node = row[1]['Nodes']\n",
    "    g.node[node]['Degree'] = row[1]['Degree'] #np.log( row[1]['Degree'] )"
   ]
  },
  {
   "cell_type": "code",
   "execution_count": 27,
   "metadata": {
    "collapsed": false
   },
   "outputs": [],
   "source": [
    "#plot out the node_degrees frequency\n",
    "plt.hist(node_degrees['Degree'].values,range(1,30));plt.show()"
   ]
  },
  {
   "cell_type": "code",
   "execution_count": 28,
   "metadata": {
    "collapsed": false
   },
   "outputs": [
    {
     "data": {
      "text/plain": [
       "{u'AFRL/RX': {'Degree': 1, 'Label': []},\n",
       " u'Additive Manufacturing': {'Degree': 17, 'Label': [u'Discliplines']},\n",
       " u'Air Armaments': {'Degree': 14, 'Label': [u'RXM Roadmap']},\n",
       " u'Aircraft Coatings': {'Degree': 14, 'Label': [u'Discliplines']},\n",
       " u'Airframes': {'Degree': 15, 'Label': [u'Discliplines']},\n",
       " u'Andy Swanson': {'Degree': 8, 'Label': [u'Contact']},\n",
       " u'C4ISR H/W-Aircraft': {'Degree': 14, 'Label': [u'RXM Roadmap']},\n",
       " u'C4ISR H/W-Space': {'Degree': 14, 'Label': [u'RXM Roadmap']},\n",
       " u'Ceramics': {'Degree': 21, 'Label': [u'RX Function']},\n",
       " u'Composites': {'Degree': 21, 'Label': [u'RX Function']},\n",
       " u'DARPA': {'Degree': 11, 'Label': [u'Contact']},\n",
       " u'Data': {'Degree': 21, 'Label': [u'RX Function']},\n",
       " u'Electronic Matls': {'Degree': 19, 'Label': [u'RX Function']},\n",
       " u'Hypersonic Weapons': {'Degree': 16, 'Label': [u'Discliplines']},\n",
       " u'Industry': {'Degree': 1, 'Label': []},\n",
       " u'Inspection': {'Degree': 21, 'Label': [u'RX Function']},\n",
       " u'Insulation': {'Degree': 1, 'Label': []},\n",
       " u'Ken Davidson': {'Degree': 20, 'Label': [u'Contact']},\n",
       " u'Kermit Stearns': {'Degree': 20, 'Label': []},\n",
       " u'LOM/LOA': {'Degree': 14, 'Label': [u'RXM Roadmap']},\n",
       " u'Leading Edge': {'Degree': 1, 'Label': []},\n",
       " u'Manufacturing Research': {'Degree': 14, 'Label': [u'RXM Roadmap']},\n",
       " u'Mary Kinsella': {'Degree': 13, 'Label': [u'Contact']},\n",
       " u'Metals': {'Degree': 21, 'Label': [u'RX Function']},\n",
       " u'Nose Tip': {'Degree': 1, 'Label': []},\n",
       " u'Photonic Matls': {'Degree': 19, 'Label': [u'RX Function']},\n",
       " u'Process Control': {'Degree': 21, 'Label': [u'RX Function']},\n",
       " u'Propulsion-Turbine Engines': {'Degree': 14, 'Label': [u'RXM Roadmap']},\n",
       " u'RQ': {'Degree': 16, 'Label': [u'Contact']},\n",
       " u'RW': {'Degree': 15, 'Label': [u'Contact']},\n",
       " u'RX': {'Degree': 25, 'Label': [u'Contact']},\n",
       " u'Simulation': {'Degree': 21, 'Label': [u'RX Function']},\n",
       " u'Soft Matter': {'Degree': 21, 'Label': [u'RX Function']},\n",
       " u'Stats/DOE': {'Degree': 14, 'Label': [u'Discliplines']},\n",
       " u'Steve Szaruga': {'Degree': 27, 'Label': []},\n",
       " u'Structures': {'Degree': 11, 'Label': [u'RXM Roadmap']},\n",
       " u'Sustainment': {'Degree': 14, 'Label': [u'RXM Roadmap']},\n",
       " u'Thermal Protection': {'Degree': 1, 'Label': []}}"
      ]
     },
     "execution_count": 28,
     "metadata": {},
     "output_type": "execute_result"
    }
   ],
   "source": [
    "#this call shows the node structure of the graph, attributes are stored in a dictionary \n",
    "g.node"
   ]
  },
  {
   "cell_type": "code",
   "execution_count": 29,
   "metadata": {
    "collapsed": false
   },
   "outputs": [],
   "source": [
    "import json\n",
    "from networkx.readwrite import json_graph\n",
    "data = json_graph.node_link_data(g)\n",
    "with open('graph.json', 'w') as f:\n",
    "    json.dump(data, f, indent=4)"
   ]
  },
  {
   "cell_type": "markdown",
   "metadata": {},
   "source": [
    "The following cell creates a `<div>` in which to place a `<svg>` container for D3 usage.  \n",
    "It is in a seperate cell than the javascript code that sets up the d3 grpahic because cell magics (` %%html and %%javascript`) are used \n"
   ]
  },
  {
   "cell_type": "code",
   "execution_count": 32,
   "metadata": {
    "collapsed": false,
    "scrolled": true
   },
   "outputs": [
    {
     "data": {
      "text/html": [
       "<div id=\"d3-example\"></div>\n",
       "<style>\n",
       ".node {stroke: #fff; stroke-width: 1.5px;}\n",
       ".link {stroke: #999; stroke-opacity: .6;}\n",
       "</style>"
      ],
      "text/plain": [
       "<IPython.core.display.HTML object>"
      ]
     },
     "metadata": {},
     "output_type": "display_data"
    }
   ],
   "source": [
    "%%html\n",
    "<div id=\"d3-example\"></div>\n",
    "<style>\n",
    ".node {stroke: #fff; stroke-width: 1.5px;}\n",
    ".link {stroke: #999; stroke-opacity: .6;}\n",
    "</style>"
   ]
  },
  {
   "cell_type": "code",
   "execution_count": 33,
   "metadata": {
    "collapsed": false
   },
   "outputs": [
    {
     "data": {
      "application/javascript": [
       "// We load the d3.js library from the Web.\n",
       "require.config({paths: {d3: \"http://d3js.org/d3.v3.min\"}});\n",
       "require([\"d3\"], function(d3) {\n",
       "    // The code in this block is executed when the \n",
       "    // d3.js library has been loaded.\n",
       "    \n",
       "    // First, we specify the size of the canvas containing\n",
       "    // the visualization (size of the <div> element).\n",
       "    var width = 800,\n",
       "        height = 600;\n",
       "\n",
       "    \n",
       "    function zoom() {\n",
       "        svgGroup.attr(\"transform\", \"translate(\" + d3.event.translate + \")scale(\" + d3.event.scale + \")\");\n",
       "    }\n",
       "\n",
       "\n",
       "    // define the zoomListener which calls the zoom function on the \"zoom\" event constrained within the scaleExtents\n",
       "    var zoomListener = d3.behavior.zoom().scaleExtent([0.1, 3]).on(\"zoom\", zoom);\n",
       "    \n",
       "    // We create a color scale.\n",
       "    var color = d3.scale.category10();\n",
       "\n",
       "    // We create a force-directed dynamic graph layout.\n",
       "    var force = d3.layout.force()\n",
       "        .charge(-320)\n",
       "        .linkDistance(120)\n",
       "        .size([width, height])\n",
       "        .gravity(0.1);\n",
       "\n",
       "    // In the <div> element, we create a <svg> graphic\n",
       "    // that will contain our interactive visualization.\n",
       "    var svg = d3.select(\"#d3-example\").select(\"svg\")\n",
       "    if (svg.empty()) {\n",
       "        svg = d3.select(\"#d3-example\").append(\"svg\")\n",
       "                    .attr(\"width\", width)\n",
       "                    .attr(\"height\", height);        \n",
       "    }\n",
       "\n",
       "    function zoom() {\n",
       "        svg.attr(\"transform\", \"translate(\" + d3.event.translate + \")scale(\" + d3.event.scale + \")\");\n",
       "    }\n",
       "\n",
       "\n",
       "    // define the zoomListener which calls the zoom function on the \"zoom\" event constrained within the scaleExtents\n",
       "    var zoomListener = d3.behavior.zoom().scaleExtent([0.1, 3]).on(\"zoom\", zoom);\n",
       "    \n",
       "    // We load the JSON file.\n",
       "    d3.json(\"graph.json\", function(error, graph) {\n",
       "        // In this block, the file has been loaded\n",
       "        // and the 'graph' object contains our graph.\n",
       "        \n",
       "        // We load the nodes and links in the force-directed\n",
       "        // graph.\n",
       "        force.nodes(graph.nodes)\n",
       "            .links(graph.links)\n",
       "            .start();\n",
       "\n",
       "        // We create a <line> SVG element for each link\n",
       "        // in the graph.\n",
       "        var link = svg.selectAll(\".link\")\n",
       "            .data(graph.links)\n",
       "            .enter().append(\"line\")\n",
       "            .attr(\"class\", \"link\");\n",
       "\n",
       "        // We create a <circle> SVG element for each node\n",
       "        // in the graph, and we specify a few attributes.\n",
       "        var node = svg.selectAll(\".node\")\n",
       "            .data(graph.nodes)\n",
       "            .enter().append(\"circle\")\n",
       "            .attr(\"class\", \"node\")\n",
       "            .attr(\"r\", function(d){return 4+d.Degree})  // radius 2*d.Degree+4\n",
       "            .style(\"fill\", function(d) {\n",
       "                // The node color depends on the first item in the Label attribute.\n",
       "                return color(d.Label[0]); \n",
       "            })\n",
       "            .call(force.drag);\n",
       "\n",
       "        // The name of each node is the node number.\n",
       "        node.append(\"title\")\n",
       "            .text(function(d) { return d.id; });\n",
       "\n",
       "        // We bind the positions of the SVG elements\n",
       "        // to the positions of the dynamic force-directed graph,\n",
       "        // at each time step.\n",
       "        force.on(\"tick\", function() {\n",
       "            link.attr(\"x1\", function(d) { return d.source.x; })\n",
       "                .attr(\"y1\", function(d) { return d.source.y; })\n",
       "                .attr(\"x2\", function(d) { return d.target.x; })\n",
       "                .attr(\"y2\", function(d) { return d.target.y; });\n",
       "\n",
       "            node.attr(\"cx\", function(d) { return d.x; })\n",
       "                .attr(\"cy\", function(d) { return d.y; });\n",
       "        });\n",
       "        \n",
       "    });\n",
       "    \n",
       "    // apply the zoom behavior to the svg image\n",
       "    zoomListener(svg);\n",
       "});"
      ],
      "text/plain": [
       "<IPython.core.display.Javascript object>"
      ]
     },
     "metadata": {},
     "output_type": "display_data"
    }
   ],
   "source": [
    "%%javascript\n",
    "// We load the d3.js library from the Web.\n",
    "require.config({paths: {d3: \"http://d3js.org/d3.v3.min\"}});\n",
    "require([\"d3\"], function(d3) {\n",
    "    // The code in this block is executed when the \n",
    "    // d3.js library has been loaded.\n",
    "    \n",
    "    // First, we specify the size of the canvas containing\n",
    "    // the visualization (size of the <div> element).\n",
    "    var width = 800,\n",
    "        height = 600;\n",
    "\n",
    "    \n",
    "    function zoom() {\n",
    "        svgGroup.attr(\"transform\", \"translate(\" + d3.event.translate + \")scale(\" + d3.event.scale + \")\");\n",
    "    }\n",
    "\n",
    "\n",
    "    // define the zoomListener which calls the zoom function on the \"zoom\" event constrained within the scaleExtents\n",
    "    var zoomListener = d3.behavior.zoom().scaleExtent([0.1, 3]).on(\"zoom\", zoom);\n",
    "    \n",
    "    // We create a color scale.\n",
    "    var color = d3.scale.category10();\n",
    "\n",
    "    // We create a force-directed dynamic graph layout.\n",
    "    var force = d3.layout.force()\n",
    "        .charge(-320)\n",
    "        .linkDistance(120)\n",
    "        .size([width, height])\n",
    "        .gravity(0.1);\n",
    "\n",
    "    // In the <div> element, we create a <svg> graphic\n",
    "    // that will contain our interactive visualization.\n",
    "    var svg = d3.select(\"#d3-example\").select(\"svg\")\n",
    "    if (svg.empty()) {\n",
    "        svg = d3.select(\"#d3-example\").append(\"svg\")\n",
    "                    .attr(\"width\", width)\n",
    "                    .attr(\"height\", height);        \n",
    "    }\n",
    "\n",
    "    function zoom() {\n",
    "        svg.attr(\"transform\", \"translate(\" + d3.event.translate + \")scale(\" + d3.event.scale + \")\");\n",
    "    }\n",
    "\n",
    "\n",
    "    // define the zoomListener which calls the zoom function on the \"zoom\" event constrained within the scaleExtents\n",
    "    var zoomListener = d3.behavior.zoom().scaleExtent([0.1, 3]).on(\"zoom\", zoom);\n",
    "    \n",
    "    // We load the JSON file.\n",
    "    d3.json(\"graph.json\", function(error, graph) {\n",
    "        // In this block, the file has been loaded\n",
    "        // and the 'graph' object contains our graph.\n",
    "        \n",
    "        // We load the nodes and links in the force-directed\n",
    "        // graph.\n",
    "        force.nodes(graph.nodes)\n",
    "            .links(graph.links)\n",
    "            .start();\n",
    "\n",
    "        // We create a <line> SVG element for each link\n",
    "        // in the graph.\n",
    "        var link = svg.selectAll(\".link\")\n",
    "            .data(graph.links)\n",
    "            .enter().append(\"line\")\n",
    "            .attr(\"class\", \"link\");\n",
    "\n",
    "        // We create a <circle> SVG element for each node\n",
    "        // in the graph, and we specify a few attributes.\n",
    "        var node = svg.selectAll(\".node\")\n",
    "            .data(graph.nodes)\n",
    "            .enter().append(\"circle\")\n",
    "            .attr(\"class\", \"node\")\n",
    "            .attr(\"r\", function(d){return 4+d.Degree})  // radius 2*d.Degree+4\n",
    "            .style(\"fill\", function(d) {\n",
    "                // The node color depends on the first item in the Label attribute.\n",
    "                return color(d.Label[0]); \n",
    "            })\n",
    "            .call(force.drag);\n",
    "\n",
    "        // The name of each node is the node number.\n",
    "        node.append(\"title\")\n",
    "            .text(function(d) { return d.id; });\n",
    "\n",
    "        // We bind the positions of the SVG elements\n",
    "        // to the positions of the dynamic force-directed graph,\n",
    "        // at each time step.\n",
    "        force.on(\"tick\", function() {\n",
    "            link.attr(\"x1\", function(d) { return d.source.x; })\n",
    "                .attr(\"y1\", function(d) { return d.source.y; })\n",
    "                .attr(\"x2\", function(d) { return d.target.x; })\n",
    "                .attr(\"y2\", function(d) { return d.target.y; });\n",
    "\n",
    "            node.attr(\"cx\", function(d) { return d.x; })\n",
    "                .attr(\"cy\", function(d) { return d.y; });\n",
    "        });\n",
    "        \n",
    "    });\n",
    "    \n",
    "    // apply the zoom behavior to the svg image\n",
    "    zoomListener(svg);\n",
    "});"
   ]
  },
  {
   "cell_type": "markdown",
   "metadata": {},
   "source": [
    "# networkx to javascript explroation "
   ]
  },
  {
   "cell_type": "code",
   "execution_count": 15,
   "metadata": {
    "collapsed": false
   },
   "outputs": [
    {
     "data": {
      "application/javascript": [
       "element.append('Hello World, Again!');"
      ],
      "text/plain": [
       "<IPython.core.display.Javascript object>"
      ]
     },
     "execution_count": 15,
     "metadata": {},
     "output_type": "execute_result"
    }
   ],
   "source": [
    "from IPython.display import Javascript\n",
    "Javascript(\"element.append('Hello World, Again!');\")"
   ]
  },
  {
   "cell_type": "code",
   "execution_count": 17,
   "metadata": {
    "collapsed": false
   },
   "outputs": [
    {
     "data": {
      "application/javascript": [
       "require.config({\n",
       "    paths: {\n",
       "        'three': \"http://cdnjs.cloudflare.com/ajax/libs/three.js/r69/three\",\n",
       "    }\n",
       "});"
      ],
      "text/plain": [
       "<IPython.core.display.Javascript object>"
      ]
     },
     "metadata": {},
     "output_type": "display_data"
    }
   ],
   "source": [
    "%%javascript\n",
    "require.config({\n",
    "    paths: {\n",
    "        'three': \"http://cdnjs.cloudflare.com/ajax/libs/three.js/r69/three\",\n",
    "    }\n",
    "});"
   ]
  },
  {
   "cell_type": "code",
   "execution_count": 20,
   "metadata": {
    "collapsed": false
   },
   "outputs": [
    {
     "data": {
      "application/javascript": [
       "require(['three'], function() {\n",
       "    element.append(THREE.REVISION);\n",
       "});"
      ],
      "text/plain": [
       "<IPython.core.display.Javascript object>"
      ]
     },
     "metadata": {},
     "output_type": "display_data"
    }
   ],
   "source": [
    "%%javascript\n",
    "require(['three'], function() {\n",
    "    element.append(THREE.REVISION);\n",
    "});"
   ]
  },
  {
   "cell_type": "code",
   "execution_count": null,
   "metadata": {
    "collapsed": false
   },
   "outputs": [],
   "source": [
    "%%javascript\n",
    "var renderer = new THREE.WebGLRenderer({ antialias: true });\n",
    "var canvas = renderer.domElement;\n",
    "element.append(canvas);\n",
    "var camera = new THREE.PerspectiveCamera(70, canvas.width / canvas.height, 1, 1000);\n",
    "camera.position.z = 400;\n",
    "var scene = new THREE.Scene();\n",
    "var material = new THREE.MeshDepthMaterial();\n",
    "var mesh = new THREE.Mesh(new THREE.CubeGeometry(200, 200, 200), material);\n",
    "scene.add(mesh);\n",
    "function animate() {\n",
    "    renderer.render(scene, camera);\n",
    "    mesh.rotation.x += 0.005;\n",
    "    mesh.rotation.y += 0.01;\n",
    "    requestAnimationFrame(animate);\n",
    "}\n",
    "animate();"
   ]
  },
  {
   "cell_type": "markdown",
   "metadata": {},
   "source": [
    "%%javascript\n",
    "require(['three'], function() {\n",
    "    element.append(THREE.REVISION);\n",
    "});"
   ]
  },
  {
   "cell_type": "markdown",
   "metadata": {},
   "source": [
    "Generating Javascript from Python\n",
    "You often want to generate Javascript from Python.\n",
    "\n",
    "Here's a hack that takes a fragment of Javascript, finds all the functions that are declared, and generates bound Python methods for each function:"
   ]
  },
  {
   "cell_type": "code",
   "execution_count": 24,
   "metadata": {
    "collapsed": true
   },
   "outputs": [],
   "source": [
    "import types\n",
    "from functools import partial\n",
    "import json\n",
    "\n",
    "class JSCode(object):\n",
    "    def __init__(self, code):\n",
    "        self.code = code\n",
    "        self.invokes = \"\"\n",
    "        \n",
    "        # Find all the function name(  lines in the Javasript code\n",
    "        for line in code.split(\"\\n\"):\n",
    "            line = line.strip().split()\n",
    "            if line and line[0] == 'function':\n",
    "                funcname = line[1].split(\"(\")[0]\n",
    "                \n",
    "                # For each create a bound method to add to the list of invocations\n",
    "                def invoke(self, *args):\n",
    "                    argstr = ','.join([json.dumps(arg) for arg in args])\n",
    "                    self.invokes += \"%s(%s);\\n\" % (funcname, argstr)                \n",
    "\n",
    "                setattr(self, funcname, types.MethodType(invoke, self))    \n",
    "                \n",
    "    def _repr_javascript_(self):\n",
    "        \"\"\"Return the code definitions and all invocations\"\"\"\n",
    "        return self.code + self.invokes"
   ]
  },
  {
   "cell_type": "code",
   "execution_count": 25,
   "metadata": {
    "collapsed": true
   },
   "outputs": [],
   "source": [
    "code = JSCode(\"\"\"\n",
    "    function test() {\n",
    "        console.log(\"test!\");\n",
    "    }\n",
    "\n",
    "    function output(string) {\n",
    "        element.append(string);\n",
    "    }\n",
    "\"\"\")"
   ]
  },
  {
   "cell_type": "markdown",
   "metadata": {},
   "source": [
    "Now, the code object has test() and output() methods corresponding to Javascript methods:"
   ]
  },
  {
   "cell_type": "code",
   "execution_count": 26,
   "metadata": {
    "collapsed": false
   },
   "outputs": [
    {
     "data": {
      "application/javascript": [
       "\n",
       "    function test() {\n",
       "        console.log(\"test!\");\n",
       "    }\n",
       "\n",
       "    function output(string) {\n",
       "        element.append(string);\n",
       "    }\n",
       "output(\"foo\");\n",
       "output(\" and bar\");\n"
      ],
      "text/plain": [
       "<__main__.JSCode at 0x10d292b90>"
      ]
     },
     "execution_count": 26,
     "metadata": {},
     "output_type": "execute_result"
    }
   ],
   "source": [
    "code.output(\"foo\")\n",
    "code.output(\" and bar\")\n",
    "code"
   ]
  },
  {
   "cell_type": "markdown",
   "metadata": {},
   "source": [
    "Here is the corresponding Javascript fragment that was generated:"
   ]
  },
  {
   "cell_type": "code",
   "execution_count": 27,
   "metadata": {
    "collapsed": false
   },
   "outputs": [
    {
     "name": "stdout",
     "output_type": "stream",
     "text": [
      "\n",
      "    function test() {\n",
      "        console.log(\"test!\");\n",
      "    }\n",
      "\n",
      "    function output(string) {\n",
      "        element.append(string);\n",
      "    }\n",
      "output(\"foo\");\n",
      "output(\" and bar\");\n",
      "\n"
     ]
    }
   ],
   "source": [
    "print code._repr_javascript_()"
   ]
  },
  {
   "cell_type": "code",
   "execution_count": null,
   "metadata": {
    "collapsed": true
   },
   "outputs": [],
   "source": []
  }
 ],
 "metadata": {
  "kernelspec": {
   "display_name": "Python 2",
   "language": "python",
   "name": "python2"
  },
  "language_info": {
   "codemirror_mode": {
    "name": "ipython",
    "version": 2
   },
   "file_extension": ".py",
   "mimetype": "text/x-python",
   "name": "python",
   "nbconvert_exporter": "python",
   "pygments_lexer": "ipython2",
   "version": "2.7.9"
  }
 },
 "nbformat": 4,
 "nbformat_minor": 0
}
